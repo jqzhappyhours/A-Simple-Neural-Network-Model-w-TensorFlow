{
 "cells": [
  {
   "cell_type": "code",
   "execution_count": 11,
   "metadata": {
    "colab": {
     "base_uri": "https://localhost:8080/"
    },
    "id": "X5Mq6WQb8tON",
    "outputId": "159c6678-1bbc-4bc1-f477-2f2b11489a2b"
   },
   "outputs": [
    {
     "name": "stdout",
     "output_type": "stream",
     "text": [
      "Drive already mounted at /content/drive; to attempt to forcibly remount, call drive.mount(\"/content/drive\", force_remount=True).\n"
     ]
    }
   ],
   "source": [
    "# Connect to your google drive to access the data\n",
    "from google.colab import drive\n",
    "drive.mount('/content/drive')"
   ]
  },
  {
   "cell_type": "code",
   "execution_count": 12,
   "metadata": {
    "id": "QQ3pH_xZ9AzK"
   },
   "outputs": [],
   "source": [
    "import pandas as pd\n",
    "import numpy as np\n",
    "import tensorflow"
   ]
  },
  {
   "cell_type": "markdown",
   "metadata": {
    "id": "O5mGXkcb9nSS"
   },
   "source": [
    "# Q1\n",
    "Prepare the data: load it, normalize it, and split it into training and testing."
   ]
  },
  {
   "cell_type": "code",
   "execution_count": 13,
   "metadata": {
    "colab": {
     "base_uri": "https://localhost:8080/",
     "height": 319
    },
    "id": "Hh5lfIoX9AQs",
    "outputId": "c78e8a24-38d9-4521-8435-e3a047626866"
   },
   "outputs": [
    {
     "data": {
      "text/html": [
       "\n",
       "  <div id=\"df-585851c4-6397-4efc-9abc-356c4710deaa\">\n",
       "    <div class=\"colab-df-container\">\n",
       "      <div>\n",
       "<style scoped>\n",
       "    .dataframe tbody tr th:only-of-type {\n",
       "        vertical-align: middle;\n",
       "    }\n",
       "\n",
       "    .dataframe tbody tr th {\n",
       "        vertical-align: top;\n",
       "    }\n",
       "\n",
       "    .dataframe thead th {\n",
       "        text-align: right;\n",
       "    }\n",
       "</style>\n",
       "<table border=\"1\" class=\"dataframe\">\n",
       "  <thead>\n",
       "    <tr style=\"text-align: right;\">\n",
       "      <th></th>\n",
       "      <th>Cement (component 1)(kg in a m^3 mixture)</th>\n",
       "      <th>Blast Furnace Slag (component 2)(kg in a m^3 mixture)</th>\n",
       "      <th>Fly Ash (component 3)(kg in a m^3 mixture)</th>\n",
       "      <th>Water  (component 4)(kg in a m^3 mixture)</th>\n",
       "      <th>Superplasticizer (component 5)(kg in a m^3 mixture)</th>\n",
       "      <th>Coarse Aggregate  (component 6)(kg in a m^3 mixture)</th>\n",
       "      <th>Fine Aggregate (component 7)(kg in a m^3 mixture)</th>\n",
       "      <th>Age (day)</th>\n",
       "      <th>Concrete compressive strength(MPa, megapascals)</th>\n",
       "    </tr>\n",
       "  </thead>\n",
       "  <tbody>\n",
       "    <tr>\n",
       "      <th>0</th>\n",
       "      <td>540.0</td>\n",
       "      <td>0.0</td>\n",
       "      <td>0.0</td>\n",
       "      <td>162.0</td>\n",
       "      <td>2.5</td>\n",
       "      <td>1040.0</td>\n",
       "      <td>676.0</td>\n",
       "      <td>28</td>\n",
       "      <td>79.99</td>\n",
       "    </tr>\n",
       "    <tr>\n",
       "      <th>1</th>\n",
       "      <td>540.0</td>\n",
       "      <td>0.0</td>\n",
       "      <td>0.0</td>\n",
       "      <td>162.0</td>\n",
       "      <td>2.5</td>\n",
       "      <td>1055.0</td>\n",
       "      <td>676.0</td>\n",
       "      <td>28</td>\n",
       "      <td>61.89</td>\n",
       "    </tr>\n",
       "    <tr>\n",
       "      <th>2</th>\n",
       "      <td>332.5</td>\n",
       "      <td>142.5</td>\n",
       "      <td>0.0</td>\n",
       "      <td>228.0</td>\n",
       "      <td>0.0</td>\n",
       "      <td>932.0</td>\n",
       "      <td>594.0</td>\n",
       "      <td>270</td>\n",
       "      <td>40.27</td>\n",
       "    </tr>\n",
       "    <tr>\n",
       "      <th>3</th>\n",
       "      <td>332.5</td>\n",
       "      <td>142.5</td>\n",
       "      <td>0.0</td>\n",
       "      <td>228.0</td>\n",
       "      <td>0.0</td>\n",
       "      <td>932.0</td>\n",
       "      <td>594.0</td>\n",
       "      <td>365</td>\n",
       "      <td>41.05</td>\n",
       "    </tr>\n",
       "    <tr>\n",
       "      <th>4</th>\n",
       "      <td>198.6</td>\n",
       "      <td>132.4</td>\n",
       "      <td>0.0</td>\n",
       "      <td>192.0</td>\n",
       "      <td>0.0</td>\n",
       "      <td>978.4</td>\n",
       "      <td>825.5</td>\n",
       "      <td>360</td>\n",
       "      <td>44.30</td>\n",
       "    </tr>\n",
       "  </tbody>\n",
       "</table>\n",
       "</div>\n",
       "      <button class=\"colab-df-convert\" onclick=\"convertToInteractive('df-585851c4-6397-4efc-9abc-356c4710deaa')\"\n",
       "              title=\"Convert this dataframe to an interactive table.\"\n",
       "              style=\"display:none;\">\n",
       "        \n",
       "  <svg xmlns=\"http://www.w3.org/2000/svg\" height=\"24px\"viewBox=\"0 0 24 24\"\n",
       "       width=\"24px\">\n",
       "    <path d=\"M0 0h24v24H0V0z\" fill=\"none\"/>\n",
       "    <path d=\"M18.56 5.44l.94 2.06.94-2.06 2.06-.94-2.06-.94-.94-2.06-.94 2.06-2.06.94zm-11 1L8.5 8.5l.94-2.06 2.06-.94-2.06-.94L8.5 2.5l-.94 2.06-2.06.94zm10 10l.94 2.06.94-2.06 2.06-.94-2.06-.94-.94-2.06-.94 2.06-2.06.94z\"/><path d=\"M17.41 7.96l-1.37-1.37c-.4-.4-.92-.59-1.43-.59-.52 0-1.04.2-1.43.59L10.3 9.45l-7.72 7.72c-.78.78-.78 2.05 0 2.83L4 21.41c.39.39.9.59 1.41.59.51 0 1.02-.2 1.41-.59l7.78-7.78 2.81-2.81c.8-.78.8-2.07 0-2.86zM5.41 20L4 18.59l7.72-7.72 1.47 1.35L5.41 20z\"/>\n",
       "  </svg>\n",
       "      </button>\n",
       "      \n",
       "  <style>\n",
       "    .colab-df-container {\n",
       "      display:flex;\n",
       "      flex-wrap:wrap;\n",
       "      gap: 12px;\n",
       "    }\n",
       "\n",
       "    .colab-df-convert {\n",
       "      background-color: #E8F0FE;\n",
       "      border: none;\n",
       "      border-radius: 50%;\n",
       "      cursor: pointer;\n",
       "      display: none;\n",
       "      fill: #1967D2;\n",
       "      height: 32px;\n",
       "      padding: 0 0 0 0;\n",
       "      width: 32px;\n",
       "    }\n",
       "\n",
       "    .colab-df-convert:hover {\n",
       "      background-color: #E2EBFA;\n",
       "      box-shadow: 0px 1px 2px rgba(60, 64, 67, 0.3), 0px 1px 3px 1px rgba(60, 64, 67, 0.15);\n",
       "      fill: #174EA6;\n",
       "    }\n",
       "\n",
       "    [theme=dark] .colab-df-convert {\n",
       "      background-color: #3B4455;\n",
       "      fill: #D2E3FC;\n",
       "    }\n",
       "\n",
       "    [theme=dark] .colab-df-convert:hover {\n",
       "      background-color: #434B5C;\n",
       "      box-shadow: 0px 1px 3px 1px rgba(0, 0, 0, 0.15);\n",
       "      filter: drop-shadow(0px 1px 2px rgba(0, 0, 0, 0.3));\n",
       "      fill: #FFFFFF;\n",
       "    }\n",
       "  </style>\n",
       "\n",
       "      <script>\n",
       "        const buttonEl =\n",
       "          document.querySelector('#df-585851c4-6397-4efc-9abc-356c4710deaa button.colab-df-convert');\n",
       "        buttonEl.style.display =\n",
       "          google.colab.kernel.accessAllowed ? 'block' : 'none';\n",
       "\n",
       "        async function convertToInteractive(key) {\n",
       "          const element = document.querySelector('#df-585851c4-6397-4efc-9abc-356c4710deaa');\n",
       "          const dataTable =\n",
       "            await google.colab.kernel.invokeFunction('convertToInteractive',\n",
       "                                                     [key], {});\n",
       "          if (!dataTable) return;\n",
       "\n",
       "          const docLinkHtml = 'Like what you see? Visit the ' +\n",
       "            '<a target=\"_blank\" href=https://colab.research.google.com/notebooks/data_table.ipynb>data table notebook</a>'\n",
       "            + ' to learn more about interactive tables.';\n",
       "          element.innerHTML = '';\n",
       "          dataTable['output_type'] = 'display_data';\n",
       "          await google.colab.output.renderOutput(dataTable, element);\n",
       "          const docLink = document.createElement('div');\n",
       "          docLink.innerHTML = docLinkHtml;\n",
       "          element.appendChild(docLink);\n",
       "        }\n",
       "      </script>\n",
       "    </div>\n",
       "  </div>\n",
       "  "
      ],
      "text/plain": [
       "   Cement (component 1)(kg in a m^3 mixture)  \\\n",
       "0                                      540.0   \n",
       "1                                      540.0   \n",
       "2                                      332.5   \n",
       "3                                      332.5   \n",
       "4                                      198.6   \n",
       "\n",
       "   Blast Furnace Slag (component 2)(kg in a m^3 mixture)  \\\n",
       "0                                                0.0       \n",
       "1                                                0.0       \n",
       "2                                              142.5       \n",
       "3                                              142.5       \n",
       "4                                              132.4       \n",
       "\n",
       "   Fly Ash (component 3)(kg in a m^3 mixture)  \\\n",
       "0                                         0.0   \n",
       "1                                         0.0   \n",
       "2                                         0.0   \n",
       "3                                         0.0   \n",
       "4                                         0.0   \n",
       "\n",
       "   Water  (component 4)(kg in a m^3 mixture)  \\\n",
       "0                                      162.0   \n",
       "1                                      162.0   \n",
       "2                                      228.0   \n",
       "3                                      228.0   \n",
       "4                                      192.0   \n",
       "\n",
       "   Superplasticizer (component 5)(kg in a m^3 mixture)  \\\n",
       "0                                                2.5     \n",
       "1                                                2.5     \n",
       "2                                                0.0     \n",
       "3                                                0.0     \n",
       "4                                                0.0     \n",
       "\n",
       "   Coarse Aggregate  (component 6)(kg in a m^3 mixture)  \\\n",
       "0                                             1040.0      \n",
       "1                                             1055.0      \n",
       "2                                              932.0      \n",
       "3                                              932.0      \n",
       "4                                              978.4      \n",
       "\n",
       "   Fine Aggregate (component 7)(kg in a m^3 mixture)  Age (day)  \\\n",
       "0                                              676.0         28   \n",
       "1                                              676.0         28   \n",
       "2                                              594.0        270   \n",
       "3                                              594.0        365   \n",
       "4                                              825.5        360   \n",
       "\n",
       "   Concrete compressive strength(MPa, megapascals)   \n",
       "0                                             79.99  \n",
       "1                                             61.89  \n",
       "2                                             40.27  \n",
       "3                                             41.05  \n",
       "4                                             44.30  "
      ]
     },
     "execution_count": 13,
     "metadata": {},
     "output_type": "execute_result"
    }
   ],
   "source": [
    "# load the data\n",
    "df = pd.read_csv('/content/drive/MyDrive/Concrete_Data.csv')\n",
    "df.head()"
   ]
  },
  {
   "cell_type": "code",
   "execution_count": 58,
   "metadata": {
    "colab": {
     "base_uri": "https://localhost:8080/"
    },
    "id": "SjZtuhL2-A73",
    "outputId": "9c689812-5793-495e-d467-10106998afac"
   },
   "outputs": [
    {
     "name": "stdout",
     "output_type": "stream",
     "text": [
      "-5.4756630729085393e-17\n",
      "-2.7593892650877676e-17\n"
     ]
    }
   ],
   "source": [
    "# Normalize the data \n",
    "from sklearn.preprocessing import StandardScaler\n",
    "sc = StandardScaler()\n",
    "data = sc.fit_transform(df)\n",
    "X = data[:, :-1]\n",
    "Y = data[:, -1]\n",
    "print(np.mean(X))\n",
    "print(np.mean(Y))"
   ]
  },
  {
   "cell_type": "code",
   "execution_count": 49,
   "metadata": {
    "id": "7QZViiVx-EnY"
   },
   "outputs": [],
   "source": [
    "# Split data into training and testing \n",
    "from sklearn.model_selection import train_test_split\n",
    "x_train, x_test, y_train, y_test = train_test_split(X, Y, test_size=0.3, random_state=4)\n"
   ]
  },
  {
   "cell_type": "markdown",
   "metadata": {
    "id": "fv0kJ7ca-gxu"
   },
   "source": [
    "# Q2\n",
    "Use TensorFlow / Keras to train a sequential neural network, using your training data with stochastic gradient descent as the optimizer and mean squared error as the loss function. Pass metrics (Links to an external site.) to the model that you think will be useful in evaluating its performance. Refer to the Class 9 Slides  Download Class 9 Slidesfor tips on selecting appropriate parameters, the number of layers, etc. This may take some trial and error."
   ]
  },
  {
   "cell_type": "code",
   "execution_count": null,
   "metadata": {
    "id": "Re-C4wdQC8eR"
   },
   "outputs": [],
   "source": [
    "from tensorflow.keras import Sequential\n",
    "from tensorflow.keras.layers import Dense"
   ]
  },
  {
   "cell_type": "markdown",
   "metadata": {
    "id": "j1dnsSfoH123"
   },
   "source": [
    "Since the data size is small, we choose hidden layer = 1. The input layer has 8 neurons because the data has 8 independent variables. To test out how many neurons in the second layer, we calculate the mse for nueron number from 2 - 6 and see which one gives the lowest mse."
   ]
  },
  {
   "cell_type": "code",
   "execution_count": 50,
   "metadata": {
    "colab": {
     "base_uri": "https://localhost:8080/"
    },
    "id": "wtHVaa0-F24N",
    "outputId": "b564ea92-7973-4e68-8646-2a6350ce2fae"
   },
   "outputs": [
    {
     "name": "stdout",
     "output_type": "stream",
     "text": [
      "0.1468302458524704\n"
     ]
    }
   ],
   "source": [
    "# neuron = 2\n",
    "n_features = x_train.shape[1]\n",
    "model1 = Sequential()\n",
    "# The first layer is fixed\n",
    "model1.add(Dense(n_features, activation=\"relu\"))\n",
    "model1.add(Dense(2, activation='relu'))\n",
    "model1.add(Dense(1))\n",
    "\n",
    "# compile the model using Stochastic Gradient Descent\n",
    "model1.compile(optimizer='sgd', loss='mse')\n",
    "\n",
    "# fit the data\n",
    "model1.fit(x_train, y_train, epochs=150, batch_size=32, verbose=0)\n",
    "\n",
    "# evaluate the model\n",
    "error = model1.evaluate(x_train, y_train, verbose=0)\n",
    "print(error)"
   ]
  },
  {
   "cell_type": "code",
   "execution_count": 51,
   "metadata": {
    "colab": {
     "base_uri": "https://localhost:8080/"
    },
    "id": "kXbNgvoFGuum",
    "outputId": "453cc4ac-4de0-499e-b2a8-38277dffb14d"
   },
   "outputs": [
    {
     "name": "stdout",
     "output_type": "stream",
     "text": [
      "0.17205718159675598\n"
     ]
    }
   ],
   "source": [
    "# neuron = 3\n",
    "model2 = Sequential()\n",
    "# The first layer is fixed\n",
    "model2.add(Dense(n_features, activation=\"relu\"))\n",
    "model2.add(Dense(3, activation='relu'))\n",
    "model2.add(Dense(1))\n",
    "\n",
    "# compile the model using Stochastic Gradient Descent\n",
    "model2.compile(optimizer='sgd', loss='mse')\n",
    "\n",
    "# fit the data\n",
    "model2.fit(x_train, y_train, epochs=150, batch_size=32, verbose=0)\n",
    "\n",
    "# evaluate the model\n",
    "error = model2.evaluate(x_train, y_train, verbose=0)\n",
    "print(error)"
   ]
  },
  {
   "cell_type": "code",
   "execution_count": 52,
   "metadata": {
    "colab": {
     "base_uri": "https://localhost:8080/"
    },
    "id": "ibKHBQkFHCG6",
    "outputId": "8ed1d1c4-8d72-471c-fcb9-d7194f5ad009"
   },
   "outputs": [
    {
     "name": "stdout",
     "output_type": "stream",
     "text": [
      "0.1752529740333557\n"
     ]
    }
   ],
   "source": [
    "# neuron = 4\n",
    "model3 = Sequential()\n",
    "# The first layer is fixed\n",
    "model3.add(Dense(n_features, activation=\"relu\"))\n",
    "model3.add(Dense(4, activation='relu'))\n",
    "model3.add(Dense(1))\n",
    "\n",
    "# compile the model using Stochastic Gradient Descent\n",
    "model3.compile(optimizer='sgd', loss='mse')\n",
    "\n",
    "# fit the data\n",
    "model3.fit(x_train, y_train, epochs=150, batch_size=32, verbose=0)\n",
    "\n",
    "# evaluate the model\n",
    "error = model3.evaluate(x_train, y_train, verbose=0)\n",
    "print(error)"
   ]
  },
  {
   "cell_type": "code",
   "execution_count": 53,
   "metadata": {
    "colab": {
     "base_uri": "https://localhost:8080/"
    },
    "id": "axz1A6lVHGhK",
    "outputId": "5df89959-1c34-4515-8dd2-731c311377ac"
   },
   "outputs": [
    {
     "name": "stdout",
     "output_type": "stream",
     "text": [
      "0.15534551441669464\n"
     ]
    }
   ],
   "source": [
    "# neuron = 5\n",
    "model4 = Sequential()\n",
    "# The first layer is fixed\n",
    "model4.add(Dense(n_features, activation=\"relu\"))\n",
    "model4.add(Dense(5, activation='relu'))\n",
    "model4.add(Dense(1))\n",
    "\n",
    "# compile the model using Stochastic Gradient Descent\n",
    "model4.compile(optimizer='sgd', loss='mse')\n",
    "\n",
    "# fit the data\n",
    "model4.fit(x_train, y_train, epochs=150, batch_size=32, verbose=0)\n",
    "\n",
    "# evaluate the model\n",
    "error = model4.evaluate(x_train, y_train, verbose=0)\n",
    "print(error)"
   ]
  },
  {
   "cell_type": "code",
   "execution_count": 54,
   "metadata": {
    "colab": {
     "base_uri": "https://localhost:8080/"
    },
    "id": "Xn5xUzi9HKki",
    "outputId": "3300fd49-1ec7-4c3a-9e6d-9c345431887c"
   },
   "outputs": [
    {
     "name": "stdout",
     "output_type": "stream",
     "text": [
      "0.12253677099943161\n"
     ]
    }
   ],
   "source": [
    "# neuron = 6\n",
    "model5 = Sequential()\n",
    "# The first layer is fixed\n",
    "model5.add(Dense(n_features, activation=\"relu\"))\n",
    "model5.add(Dense(6, activation='relu'))\n",
    "model5.add(Dense(1))\n",
    "\n",
    "# compile the model using Stochastic Gradient Descent\n",
    "model5.compile(optimizer='sgd', loss='mse')\n",
    "\n",
    "# fit the data\n",
    "model5.fit(x_train, y_train, epochs=150, batch_size=32, verbose=0)\n",
    "\n",
    "# evaluate the model\n",
    "error = model5.evaluate(x_train, y_train, verbose=0)\n",
    "print(error)"
   ]
  },
  {
   "cell_type": "code",
   "execution_count": 59,
   "metadata": {
    "colab": {
     "base_uri": "https://localhost:8080/"
    },
    "id": "d5bbbDPlOWPL",
    "outputId": "8203da04-4eba-46ae-c1f1-fa8ec61f0ee8"
   },
   "outputs": [
    {
     "name": "stdout",
     "output_type": "stream",
     "text": [
      "0.17118649184703827\n"
     ]
    }
   ],
   "source": [
    "# neuron = 7\n",
    "model6 = Sequential()\n",
    "# The first layer is fixed\n",
    "model6.add(Dense(n_features, activation=\"relu\"))\n",
    "model6.add(Dense(7, activation='relu'))\n",
    "model6.add(Dense(1))\n",
    "\n",
    "# compile the model using Stochastic Gradient Descent\n",
    "model6.compile(optimizer='sgd', loss='mse')\n",
    "\n",
    "# fit the data\n",
    "model6.fit(x_train, y_train, epochs=150, batch_size=32, verbose=0)\n",
    "\n",
    "# evaluate the model\n",
    "error = model6.evaluate(x_train, y_train, verbose=0)\n",
    "print(error)"
   ]
  },
  {
   "cell_type": "markdown",
   "metadata": {
    "id": "oUuxHx9sIavo"
   },
   "source": [
    "It appears that the second model with 6 neurons in the second layer produces the least MSE. Thus, we choose this model."
   ]
  },
  {
   "cell_type": "markdown",
   "metadata": {
    "id": "tnazcZhZInU4"
   },
   "source": [
    "# Q3\n",
    "[10 pts] Describe how you chose to design your model and why."
   ]
  },
  {
   "cell_type": "markdown",
   "metadata": {
    "id": "TNBPEhm7IvPf"
   },
   "source": [
    " \n",
    "\n",
    "*   The model I chose has one hidden layer.\n",
    "*   The input layer has 8 neurons which equals the number of input variables.\n",
    "*   The hidden layer has 6 neurons because it gives us the least MSE accross the models. We usually choose the 2/3 of the input size as the number of neurons. \n",
    "*   The active function in the hidden layer is relu because it is commonly used to build Neuron Networks. The main reason why ReLu is used is because it is simple, fast, and empirically it seems to work well. \n",
    "https://stats.stackexchange.com/questions/126238/what-are-the-advantages-of-relu-over-sigmoid-function-in-deep-neural-networks#:~:text=The%20main%20reason%20why%20ReLu,deep%20network%20with%20sigmoid%20activation.\n",
    "\n",
    "\n",
    "\n"
   ]
  },
  {
   "cell_type": "markdown",
   "metadata": {
    "id": "9RgpgH3_LCDB"
   },
   "source": [
    "# Q4\n",
    "[10 pts] Evaluate the performance of the model using the metrics you included above."
   ]
  },
  {
   "cell_type": "code",
   "execution_count": 55,
   "metadata": {
    "colab": {
     "base_uri": "https://localhost:8080/"
    },
    "id": "ZWEkAJbSLGzi",
    "outputId": "75e011de-0a2a-4b4b-8ede-e2ee2e292728"
   },
   "outputs": [
    {
     "name": "stdout",
     "output_type": "stream",
     "text": [
      "0.185458242893219\n"
     ]
    }
   ],
   "source": [
    "error = model2.evaluate(x_test, y_test, verbose=0)\n",
    "print(error)"
   ]
  },
  {
   "cell_type": "markdown",
   "metadata": {
    "id": "Tjl0KbuzLsmX"
   },
   "source": [
    "The MSE is 0.185458242893219 on the test data. "
   ]
  },
  {
   "cell_type": "markdown",
   "metadata": {
    "id": "zhJOnQH6MIgX"
   },
   "source": [
    "# Q5\n",
    "[10 pts] Use predict to make predictions on the testing dataset. How do your predictions compare with the true values?"
   ]
  },
  {
   "cell_type": "code",
   "execution_count": 60,
   "metadata": {
    "colab": {
     "base_uri": "https://localhost:8080/",
     "height": 423
    },
    "id": "twwAiZv4MdWU",
    "outputId": "a4417cd7-b557-4de7-fd37-ae3e8eda8580"
   },
   "outputs": [
    {
     "data": {
      "text/html": [
       "\n",
       "  <div id=\"df-2e05e0f1-68fa-4073-a2b0-244702c3f077\">\n",
       "    <div class=\"colab-df-container\">\n",
       "      <div>\n",
       "<style scoped>\n",
       "    .dataframe tbody tr th:only-of-type {\n",
       "        vertical-align: middle;\n",
       "    }\n",
       "\n",
       "    .dataframe tbody tr th {\n",
       "        vertical-align: top;\n",
       "    }\n",
       "\n",
       "    .dataframe thead th {\n",
       "        text-align: right;\n",
       "    }\n",
       "</style>\n",
       "<table border=\"1\" class=\"dataframe\">\n",
       "  <thead>\n",
       "    <tr style=\"text-align: right;\">\n",
       "      <th></th>\n",
       "      <th>y_test</th>\n",
       "      <th>yhat</th>\n",
       "    </tr>\n",
       "  </thead>\n",
       "  <tbody>\n",
       "    <tr>\n",
       "      <th>0</th>\n",
       "      <td>0.521154</td>\n",
       "      <td>[0.4722247]</td>\n",
       "    </tr>\n",
       "    <tr>\n",
       "      <th>1</th>\n",
       "      <td>0.881085</td>\n",
       "      <td>[1.2420201]</td>\n",
       "    </tr>\n",
       "    <tr>\n",
       "      <th>2</th>\n",
       "      <td>-0.838320</td>\n",
       "      <td>[-0.862599]</td>\n",
       "    </tr>\n",
       "    <tr>\n",
       "      <th>3</th>\n",
       "      <td>0.178591</td>\n",
       "      <td>[0.22401786]</td>\n",
       "    </tr>\n",
       "    <tr>\n",
       "      <th>4</th>\n",
       "      <td>1.184721</td>\n",
       "      <td>[0.822878]</td>\n",
       "    </tr>\n",
       "    <tr>\n",
       "      <th>...</th>\n",
       "      <td>...</td>\n",
       "      <td>...</td>\n",
       "    </tr>\n",
       "    <tr>\n",
       "      <th>304</th>\n",
       "      <td>0.286390</td>\n",
       "      <td>[0.83594424]</td>\n",
       "    </tr>\n",
       "    <tr>\n",
       "      <th>305</th>\n",
       "      <td>-0.529893</td>\n",
       "      <td>[-0.21206272]</td>\n",
       "    </tr>\n",
       "    <tr>\n",
       "      <th>306</th>\n",
       "      <td>1.465001</td>\n",
       "      <td>[1.2306406]</td>\n",
       "    </tr>\n",
       "    <tr>\n",
       "      <th>307</th>\n",
       "      <td>-0.619127</td>\n",
       "      <td>[-1.1040317]</td>\n",
       "    </tr>\n",
       "    <tr>\n",
       "      <th>308</th>\n",
       "      <td>-0.375380</td>\n",
       "      <td>[0.44097376]</td>\n",
       "    </tr>\n",
       "  </tbody>\n",
       "</table>\n",
       "<p>309 rows × 2 columns</p>\n",
       "</div>\n",
       "      <button class=\"colab-df-convert\" onclick=\"convertToInteractive('df-2e05e0f1-68fa-4073-a2b0-244702c3f077')\"\n",
       "              title=\"Convert this dataframe to an interactive table.\"\n",
       "              style=\"display:none;\">\n",
       "        \n",
       "  <svg xmlns=\"http://www.w3.org/2000/svg\" height=\"24px\"viewBox=\"0 0 24 24\"\n",
       "       width=\"24px\">\n",
       "    <path d=\"M0 0h24v24H0V0z\" fill=\"none\"/>\n",
       "    <path d=\"M18.56 5.44l.94 2.06.94-2.06 2.06-.94-2.06-.94-.94-2.06-.94 2.06-2.06.94zm-11 1L8.5 8.5l.94-2.06 2.06-.94-2.06-.94L8.5 2.5l-.94 2.06-2.06.94zm10 10l.94 2.06.94-2.06 2.06-.94-2.06-.94-.94-2.06-.94 2.06-2.06.94z\"/><path d=\"M17.41 7.96l-1.37-1.37c-.4-.4-.92-.59-1.43-.59-.52 0-1.04.2-1.43.59L10.3 9.45l-7.72 7.72c-.78.78-.78 2.05 0 2.83L4 21.41c.39.39.9.59 1.41.59.51 0 1.02-.2 1.41-.59l7.78-7.78 2.81-2.81c.8-.78.8-2.07 0-2.86zM5.41 20L4 18.59l7.72-7.72 1.47 1.35L5.41 20z\"/>\n",
       "  </svg>\n",
       "      </button>\n",
       "      \n",
       "  <style>\n",
       "    .colab-df-container {\n",
       "      display:flex;\n",
       "      flex-wrap:wrap;\n",
       "      gap: 12px;\n",
       "    }\n",
       "\n",
       "    .colab-df-convert {\n",
       "      background-color: #E8F0FE;\n",
       "      border: none;\n",
       "      border-radius: 50%;\n",
       "      cursor: pointer;\n",
       "      display: none;\n",
       "      fill: #1967D2;\n",
       "      height: 32px;\n",
       "      padding: 0 0 0 0;\n",
       "      width: 32px;\n",
       "    }\n",
       "\n",
       "    .colab-df-convert:hover {\n",
       "      background-color: #E2EBFA;\n",
       "      box-shadow: 0px 1px 2px rgba(60, 64, 67, 0.3), 0px 1px 3px 1px rgba(60, 64, 67, 0.15);\n",
       "      fill: #174EA6;\n",
       "    }\n",
       "\n",
       "    [theme=dark] .colab-df-convert {\n",
       "      background-color: #3B4455;\n",
       "      fill: #D2E3FC;\n",
       "    }\n",
       "\n",
       "    [theme=dark] .colab-df-convert:hover {\n",
       "      background-color: #434B5C;\n",
       "      box-shadow: 0px 1px 3px 1px rgba(0, 0, 0, 0.15);\n",
       "      filter: drop-shadow(0px 1px 2px rgba(0, 0, 0, 0.3));\n",
       "      fill: #FFFFFF;\n",
       "    }\n",
       "  </style>\n",
       "\n",
       "      <script>\n",
       "        const buttonEl =\n",
       "          document.querySelector('#df-2e05e0f1-68fa-4073-a2b0-244702c3f077 button.colab-df-convert');\n",
       "        buttonEl.style.display =\n",
       "          google.colab.kernel.accessAllowed ? 'block' : 'none';\n",
       "\n",
       "        async function convertToInteractive(key) {\n",
       "          const element = document.querySelector('#df-2e05e0f1-68fa-4073-a2b0-244702c3f077');\n",
       "          const dataTable =\n",
       "            await google.colab.kernel.invokeFunction('convertToInteractive',\n",
       "                                                     [key], {});\n",
       "          if (!dataTable) return;\n",
       "\n",
       "          const docLinkHtml = 'Like what you see? Visit the ' +\n",
       "            '<a target=\"_blank\" href=https://colab.research.google.com/notebooks/data_table.ipynb>data table notebook</a>'\n",
       "            + ' to learn more about interactive tables.';\n",
       "          element.innerHTML = '';\n",
       "          dataTable['output_type'] = 'display_data';\n",
       "          await google.colab.output.renderOutput(dataTable, element);\n",
       "          const docLink = document.createElement('div');\n",
       "          docLink.innerHTML = docLinkHtml;\n",
       "          element.appendChild(docLink);\n",
       "        }\n",
       "      </script>\n",
       "    </div>\n",
       "  </div>\n",
       "  "
      ],
      "text/plain": [
       "       y_test           yhat\n",
       "0    0.521154    [0.4722247]\n",
       "1    0.881085    [1.2420201]\n",
       "2   -0.838320    [-0.862599]\n",
       "3    0.178591   [0.22401786]\n",
       "4    1.184721     [0.822878]\n",
       "..        ...            ...\n",
       "304  0.286390   [0.83594424]\n",
       "305 -0.529893  [-0.21206272]\n",
       "306  1.465001    [1.2306406]\n",
       "307 -0.619127   [-1.1040317]\n",
       "308 -0.375380   [0.44097376]\n",
       "\n",
       "[309 rows x 2 columns]"
      ]
     },
     "execution_count": 60,
     "metadata": {},
     "output_type": "execute_result"
    }
   ],
   "source": [
    "yhat = model2.predict(x_test)\n",
    "data_tuples = list(zip(y_test, yhat))\n",
    "pd.DataFrame(data_tuples, columns = ['y_test', 'yhat'])"
   ]
  },
  {
   "cell_type": "code",
   "execution_count": 61,
   "metadata": {
    "colab": {
     "base_uri": "https://localhost:8080/",
     "height": 295
    },
    "id": "dFNBJMfSOr6T",
    "outputId": "8ad02b88-b258-4436-e3a4-1e0a61b5a888"
   },
   "outputs": [
    {
     "data": {
      "image/png": "[encoded data removed]",
      "text/plain": [
       "<Figure size 432x288 with 1 Axes>"
      ]
     },
     "metadata": {
      "needs_background": "light"
     },
     "output_type": "display_data"
    }
   ],
   "source": [
    "import matplotlib.pyplot as plt\n",
    "plt.scatter(y_test, yhat, color = \"red\")\n",
    "plt.title(\"Predicted vs Actual values (Test set)\")\n",
    "plt.xlabel(\"Actual\")\n",
    "plt.ylabel(\"Predicted\")\n",
    "plt.show()"
   ]
  },
  {
   "cell_type": "markdown",
   "metadata": {
    "id": "slEbIXhaPC73"
   },
   "source": [
    "The predictions are very close to the actual values. "
   ]
  },
  {
   "cell_type": "markdown",
   "metadata": {
    "id": "16YxWQuFPGGw"
   },
   "source": [
    "# Q6\n",
    "[20 pts] Describe how training a neural network with stochastic gradient descent works."
   ]
  },
  {
   "cell_type": "markdown",
   "metadata": {
    "id": "hApgsBDyPVIr"
   },
   "source": [
    "Stochastic gradient descent is a very popular method used in Neuron Networks. \n",
    "Gradient means slope or slant of a surface. So gradient descent literally means descending a slope to reach the lowest point on that surface just as in the picture below. ![image.png](data:image/png;base64,iVBORw0KGgoAAAANSUhEUgAAAacAAAGLCAIAAADs48qCAAAgAElEQVR4nOy9eZxcxXUvfqru7b1nXzUajTTakIRZBQKEMAEMxjbGxiaO4zXgmHiNncQ2dn52+H3ec3jBsR1v+GH8WBL8nMTsxoDBkoUWtKB9X2c0+z7dM733Xeq8P46muOoeST3dJTR47vfDh09P6d5Tp05VnVtV59Q5DBHBhQsXLmYM+PlmwIULFy7eUrhaz4ULFzMLrtZz4cLFzIKr9Vy4cDGz4Go9Fy5czCy4Ws+FCxczC67Wc+HCxcyCq/VcuHAxs+BqPRcuXMwsuFrPhQsXMwuu1nPhwsXMgqv1XLhwMbPgaj0XLlzMLLhaz4ULFzMLrtZz4cLFzIKr9Vy4cDGz4Go9Fy5czCy4Ws+FCxczC67Wc+HCxcyCq/VcuHAxs6CfbwZcuJiOQEREZIw5/w8A9H8Xb2u4Ws+Fi8mBiEIIRLQsy7IsXde9Xq+maeebLxelwt3hunAxCeTK7vjx41/96lfvuOOOL37xi729veebLxcK4Go9Fy5OC8bYmjVr/vEf//Gxxx4bGRl5/PHHcQKlkEUH6E9F/J6tOoGIeEr1MzIdtqv1XLiYHIwx27Y/9rGPzZo1q6Gh4R/+4R96enrkMV8plE+qICEQ0TAM+q2K7Unroh+AiAJt26ZC27bPUaXTHO65ngsXpwXnvKKigjFmmmZbW9stt9wCALZtc178cgERM5nMgQMHNm7caNv25ZdffuWVVwaDQXVc51ZHajqTyRw7fmzt2rWmaV591dWXX375uat0mqPUr5YLF3+qEEIIITjnQoi+vr6f/vSn3/jGN2pqagCAMTZVYy5NNMZYIpH42c9+9qtf/cqyrHg8zjj7wAc+cN99/39dbe25MBDTsi6RSDz//POPPvaYaRq9vb22ZX/lq1/57GfvKQuHZ6BV2tV6LlxMArkD5ZwnEolnn332lltuaWhooIUeY2yqyz3aUSLi+vXrH3rooY985CPNzc3H29q++8/fHR0Zueeee/7pO//k8/moRoUNoVYcPnz4N7/5ze23315ZWbl79+4vffnLukd/+qmnr7zyCgYzTuu5O1wXLk4LIUQsFnvyySdXrVrl9/v7+/srKipCoVBx1DjnyWTy+eefv//+++fPn88Yu/KqFTW1NZ/5zGc2bNiQyWR8Pp9a/gFAbm//7u/+rry8HBHnzp27bcf2Rx55ZGhoUHl1bwu4Ws/F2wC2bdu2res6rYOEEORAp2RZJCagaRq549m2Lel/73vfW7NmzRNPPME5Ly8vf+qpp4qrhbSPpmn33ntvY2Mj7ZFRiJUrVy5evNjIZk3TZIyRWYPayydAPoOI6PF4prohtSyLMXbZZZdRSxljmqYtWLCgqamptXV+cW15u8PVei6mNRAxnUmv37Bhx/Ydd/3VXzU2NnLOo9HoD3/4w7/8y79csmSJrp8cw6S56BV2qjZkE6Q0TXNqDTJi9vT0bNq8edfuXXfeeefyy5fblvXGG28899xzn/jEJxYtWnTbbbeREYMxVlNT4/V6i24I5zwYDAYCAeIBETWu6boeCAQqyiuCwSA9k81md+zYsWHDhrLysk998lP+gD+bzT78i4dTqdTXv/71qTLg8XhySmzb/sOrr953332t81th5m1vwdV6LqY5YvH44//++LZt215++eVlS5d+8IMfRMQTJ0489NBDL7300qZNm6TWQ8S1a9du27aNcQY5CyIEFELTtD//8z+fN2+eXCHSmdfQ0JBhGM8880xPd89PfvKTN7Zu/cUvfjE8PLxs2bIlS5Zcc801UlGWcvCfT4RWf4lEYnR09O677vJ6vbTWS6fTAwMDHR0dL770Yl19/fXXX//P3/3n/fv26br+la98pRS1K4SIRqOPPfbY8PDw0qVLPR6PvGk3o+BqPRfTGmVlZX/913/9qU996qKLLuru7qbV0EUXXfTLX/7y5z//uXOHyxg7dOjQ5s2bhRCYN5EZAiK+613vmjdvnizUNE0IcfHFFy+78MKjx44+8cQT27dt27FjxxNPPGFZls/n83q9ZMaVqzOY0FZKWmfb9q9+9atFixb95V9+TNd12oGWl5ffdtttK1as2LZ92yuvvDI+Pn733XfNmzsPEaWKLwJCiPXr1//oRz/avXv3eGz8jjvuePLJJy9cdqGShry94Go9F9ManLGAz+/z+urr6iKRCJ1w0U72Zz/7mVMLMMbuueeeu+66CwBY/nkfohCC1lNvEp+wxuoe/ZOf+MR/PPHEw//n/zz80EPhcBgmFmVS5ckS5/pICLFly5a1a9fmlEtomrZq1aqrr77aySppNwAYHh5+5fe/f+CB74VDIaoLJnbitXW1ixYvXr169Qc/+MGlS5bSiZ7UtqZpPvLII6Ojo6eTm8fj+fznPx8KhaSTDef82muvveiiizo7O/+/73x769atjzzyyD9/97uhYJHGmbcvXK3nYrqDMcYQQ8HQ4OCgYRi6rg8MDLS3t99+++1OLSOE8Hg8tAHM1z6nW52RUrBts3FWY8ucuXTKBg6PvHxSOSWjo6PHjx8/HX3O+YUXXigjuDi5HR8f/+7//J/f+ua3lixZkq9bPbrnwmXLNmzYsHjRYn3CiOGkcPTo0Ugkcjqh+Xy+bDYbDAadZH0+X11dXU1NzYMPPnjLLbds2bIlk8m6Ws+Fi+kIxlg4HO7v789ms5ZlPf300+9///vJuOl8ZsuWLXv37oWJRZMT9OStt946Z86cSU+yxqJjWSPb3z8Qj8cDgQCZdAth7Oabb77++uvZBHIeIF2cww8iJpPJRx99dNWqVStWrPD7fDkv0m0QMlXv2btn4cKFOWR1Xf+Xf/kX0zTPwJsvjyyBc97S0rJ48eJIJIJ4rm7CTWe4Wm+GgpxmM+m07vH4fD7LslKpVCgU0nV9up1wEzPl5eUdHR3xeHznzp3Lly9fsGBBjpZBxP3797/yyiuTnrvRtnHFihXNzc055QBg2+LXv/715Zddvm7da7FYrK6uzrLtArUeHf/BaS5syAsesi7ynnvyyScDgcCdd95JO1/TNKPRaH19PUzcpjh69OicOS2NjY1PPfXUHR/4IHDupM8Y83q9Z7Bs0CFAPkvUuRxYY2Njc3Ozz+c/axv/9OBqvRkKgWLHzp0//fGP3/ve9334zg/HYrF77733W9/6Vv6yYpqgubl5586d+/fvHx4efs973pN/rq9p2mc/+9nPfOYzZyDi3EjSzX/TNHVd37lz57Urr11ywejvX36ps7ursWnWpk2bbr3l3YUwdubbaeRwB47LHlkj+4tfPhyNRL/6d19NZzPMYKZp7t27d9PG1++9917btk3TRMTnnnvuE5/65KbNmza9/np/f39fX98ll1zi8XgKDPAnV5dUbyaTAQBd1z0ejxAiHo+3HTv+ta99LTQjr+K6Wm/m4rLLLvvmvd/81f/91W3vvy0UCl1zzTVv+rtNp7Uenf3Pnj07Go3+4Q9/+Kd/+qfTrXHIBbdwyrt3777vvvtuuOGGsbGxb37zm9ls1uv1PPDAA9ddd91HP/pRReyfhGEYmqal0+nvf//7D/7vn4fD4aeeesoWNkV28Xo8v3riV4Zh/Nu//dvBgwfD4fAXvvCFplmzLly27MUXX3z00Udramouvvji4volnU7fddddPT09H//4x+++++5YLPb1r3/97rvvvummm6ZVR79lcLXeDAVjXNNgTkvL8PAI3QSYNWvWggULpue9bERsamq69tprv/CFL5SVlck9Y4koLy+vrq5OpVLf+ta3wuFwMBi89xv3vrZ+3Xtufc+C+QtKp+8EOceNjIxYlvXJT37SGZUeEevr6hcsWMA5r6+v37Vr191337106VKuabfc8u5t27eHw+FPfvKTRd9X83q9H/7wh5999tlXXnllx44dra2tn//85y+//HKv1zvdvnBvDdzoAzMUCAgIqVTqU5/61IMPPnjixIl58+bNmjXrfPP1Jmzblid0lmX9/Oc/v+GGG97xjnfQak7JXLVt2zAMzrn0aDFN0xbCo+vnKFI8fWDyJx3nnO6NWJZlmqbP56PNON2NY4wVcRdNgs5waeN80lNH152b/ZkGd603U4EAALquJxKJQ4cOtba21tbWnm+e3gT55ZEXMQA8/vjj11xzzbJly3KulJUITdPIT0XCk3+BSynkVd/TweM5hYWzPl8IGGO6rpfi4fwnBlcQMxqapgWDwUgksmLFiumWByeVSj388MM+n8/n882dO/fSSy91560LJXAjyM8sOOOJI2IsFnv/+99/yy23yCvx0wrr1q174YUXmpubb7rpJk3TnP4fLlwUDfdcb2aB7KHZbDYej3s8nmeeeebOO+8sKyubhirPMIzBwUFd1+vr68khWW24TRczFq7Wm1kgl7Hh4eFvfetb73znOz/84Q9PT5VHw9Lp33tmtzgXLgqHq/VUgfaNAAAMGADmBjuaBpB9bRjG8PBwbW0t2S6npzbJv7s6Pfl0gi54McgLdeViOsHVeiqAgCiQifbjo7rumTu3AlFw7ZwaA0vFzHTUOrdAYYnEeFTr7Rm46OL5CO76dJrCPShRAmQMhLD37hl95NFNhm2yaS9YdzaeCyBqv/mvva9vHMgativhaYvpPjnfHmC2sMEwreNtfTt3D+3dnZyZoSxmOASK8VH449rjR9pHsllzwlzu7qWmHVytpwCIDNBOp0R7RzSdMn7+4z8MjcYt2xJCCNuanuNe+q9YlkVxOskf2MVUYYussIUQZjxh/Y//8erYeKq/LzY8mmRgubNresLtFxVAYJwPDma6uyPCFt09qWeePmSaBoINqEF+OPPpAdJ0a9asyWazCqOizzggFygM035t7dEjh8dNCyKRRHv7GAIgm5ZfvBkPV+spgAAQCBvWHcqmNI3poHmfeWbfzjeGJoI+Tt+Rn8lkfvKTn+zZs4fyEJ5vdt6WYMAFQltb/JcPbbQEAmeGpW1+/YRhIoKYmUnIpjncga4AHFgqnd27e9gWIASYdtqw2COP7RgaziCIaav0hC02rFvf0X7it889ZxrG+WbnbYaJcHmINiZT5uOP7YinuIVZRMGQtx2LJhJpsu6fb05d5MLVeirAoH8gMTSUEWghAwbIgR0/MfLoL7elMmlkKHG+GX0TFMT8/u9+18xmN6xb39/X757rTQmIgGAhmIZt/9cTu7a/cZwxLwPOkAOK0dHEocPDANPrarMLgqv1FAAZ37m9Lx43GXtzlDOmb97U98wzh7KGBdPPP8627XXr1w0PDyPi8MjI93/wAwq366JgIAPbsnDtuuMvvniEcT/im+vlTNbctL7bst0PyXTE+dR6qtY+0hyphNpUIGgHE09kXn1ln2EKdBziIKazlvWb3+zauLHdsgRj7Dx6s+QLZ3ho6H/dfz+dPNq2vXXLlm1vbCtlTep8axqubZWAPFFku2wBu3f2P/zQrpRhCxQMPOSWjAA24vY3eoeGYhPCENP5eHem4exa72SnqfNskNQUbqkUzrGC24u2bSICgr1vf/dAvwnM4gxgIo65Bh609VSS//xn63bs6rFtk4EpqyiCMTpGoh+TRqY8c4sGBwdfeumlBx544PXXXx8fH3/4oV+k4on58+dzTauorMxms//2wx8O9PfLWorjkF5X0rOSmhIdmsNScQQZEwJtABRCoLDb28d/8tP1sUTGtgUwYNxmjAkhAAQKSCbFzm09VBvAWbSeHHJqh/GUxsmZobBnwfFdtG1bCcEp4exajwK6KqySxKfqsg55nCncP0qNfDaCjDMPgmla5rrVHZkMs1EIPLmZFUJw0DRmg41jUf3BH23au6/fsk9JeFoKe1OytyJiW1vb97///fr6+s997nPLly/fvHlzqCz84EMP/fDHP9J0/eabb37k0Udv/8AHnnn2WYpgXARj1AWkkYm9EnuEXjcMQ8m8JdecqX4wciAEMGCITAg8fDTywwdeH+oHtDjnwEBwxk92DTKNs0zWevUPhxIJC5Eh8rMac6m9aueaZVmqSFHnKly/k8o7L8c+Ba31Nm7cmE6nVVXZ09PT3t6uipppmps3b06lUqr6o7u7++DBgwX4ryH9r6MttntXn+BZroPP7/H5dLrdfMGSultvm3fFVY3V9b7xuPnI/9526GCfbRe/0yGWIpHIoUOHCt/UI2IsFvv7v//7q666atmyZaFQSNO0lStXfunLX1557cpZTU2arldWVl522WWf+PjHP/GJT1BMp6LWQQwARkdH9+zZo+TMgb5nu3fvzmazqtbyyWSyo6Oj6AULYxyR2bZob+v+xUOvDw2lw+XWJZc0vPvW1suXtwhLY4xxDuFQgAMIYCdOZPbv74STS5uzELdtu7+/f9++fcXxlgOS2IYNGxKJhCqCo6Oj+/fvVzXRbNvesWNHLBZTQm1K0OnLLDWuVOc5kXVzvpByq+V8MmdoyiTNJ9c+E7XYtk210GcNETVNkysFuQyUP+QHwbk8lCtk5wimdVBOXgXiXCboO10zJSniyrZtj8dDVQshnFF86TFh24wzsMVvf7c3kjCCwfDcZs97b7vg5RcP7j+Q0blZ2xD6m89djRbbsWtHRfmcYwdHXn1xX/OcmopKTQjOmM4mtsNyGSIbKJeuspBKSGiS+Zzsf/RATotM01yzZk1sbPziiy7uONFRXVNdUVERCoW4xgGYxjXGWCKRGBke1j0eQLRMq6qyUoBg/OTKxVkL0XSGcad65ShysoenRsRzFjrX5iRPelIuY6XkaXUGE0sDObSc/Zs/PCjXRM7ApqTacpTKTQw9mdNGZ7o1+QqiYEyYWfHqi3uuuKT+M3ctHB1rv+jCC4Kh4K//88Ab2/t10MrC9pf/9srnnj3Q2ZHOGubLLx277IpWDzeE7QVHRZKsk09qLAnTuR+ittM0kRRIzs7Ig3IM04ty15LfTOdEk1U4x5uzkCTsXOvJlCZEU/ZsfolsqaQp6RBjztFCD+dMczk8FK4Ktbvuuou+/1Ic/f396XQ6HA7LapqbmwcGBkzTDIVCUhyIePz4cdu2ZSG93tnZKYSgdASyvKOjw7btYDAIAOXl5TU1NZZldXd3a5rm9/tlm7PZbHd3t9/vp9QBJKxUKtXT0+P3+535AA3D6Ozs9Hg8fr+/paWFIiYlEone3l5KZS2rjsfjfX19FRUVzpE9PDw8MDBQWVnpLIzFYj09Pa2trfX19ZQMGwAikUhfX191dbVzRo2MjIyMRirCFQNDsSce2+33eu/5/NU33FLTPCccH/cdPDwMQgTD+rtuWhSPRaoqay64YPaFl9RdtarF5/UBsK7OwVQyXlZWJgc3Ivb29mYyGRKR/AZ0dnZyzimJPRV6vd5kMskYc0Y/Nk2zvb09FAo5c8qQMOPx+Je++MVZs2ZdsHjxmj/+8RcP/2LOnDnV1dV+vx+AGZnMY48+2tHR8fvf//7555579tlnN2/adPvtt3NNi8fjPT095eXlNDZo/I2NjfX395OEJZ+JRKKnp4ckHA6HKeVQLBbr6+urrKx0DoORkZGhoSEpdhpFQ0NDY2Nj5eXlzrkxNDQ0ODhYV1fX3Nzs9Xrp+d7e3kQiEQ6HnXOgu7s7k8lQoRyEXV1dtm07RYSIbW1tiNjS0iK/i5ZlkYT9fr9zDHd1dZmmGQ6H5bupVKq7u1vXPT6f1+Nll15+wWVX1ldWaozZFRXlmqatXdN2vD0KaM+dV3btqtr3f/Ciiy9tObSvp7sjvWRZZVVluKv7hM8XoDQ9NLSkhKlqkl44HCa5yU8LDVeSmxQmIkajUXrSKY2RkZHBwcGqqiqSZGtrq8/nGxwcjEaj4XDYqce7uroMw5DTnMZbX19fPB6XIRdJaR47doykEQ6HGxoaiEJPTw+9LgmS3GjuywMimqcA4Pf7ZcOz2Wxvb6/P55s/f77P56N+p8KcvjBNs7Oz0+v1ejwehV70PJVK5SjRZDKZTCadqhcAUqlUOp2WhcRBIpGIxWLO1RbpDtqSgOPLGY/H0+k0fXPoXcuyotGo3LywiQxV4+Pj8nUSk2VZ8XjcONWN1rKsWCxGOUblFMpms+Pj46ZpOltENClBlCxMJBKJRCJnp5PNZmOxmGVZTmVEYYdPERnnmUwmlYpbmHjhhYMfvGPJzx+67eZ3Nfl0nkmac+ZUoLAZ47FxI5U0EslYKh0DEBw8OgtwDoxpsVg0nUmDY/nDGJPSAMf3kOTm7AjbtmOxWCaTcTJvWVYikaCLZbLQtu1EIjE8PGxa1re//e0bbrzx85/7HGPsP//zP1OplHOXks1m0+l0PB6n6oQQAgWJXdYiB3EikZCnRSQiwzDGxsZyFhTUF+jYEwBAOp1OJBI44eBLNJPJpLMiGg/pdNp5aiHVazKZBDjlxDAej2cyGTx1I0INcRaSynZ65xAbJExnIcktx4+HxJ7NZjnXBYLutQADpsHisZRpmpYpBvsNYDZjdsu8aiOT9WueKy5r/PGDd9z9N8vXrzlsGlYslqaRKVflhmGMj4/L5Se10bKsSCQiV5dSbrFYLOcULJ1OJ5NJZyENV5KwcwYlk8n8E6pUKpVMJnNGUY7caHVJA0OOTGJeDhXnojuRSNDrzJHcjjrI2XDLssbHxw3DoNEipznN/ZwxTNNc7cUhJpevUnBSXs4SuXaVb076pPy/k2bOzHHOhJzdqFPVylkhGXBuunNql9KXbzlrJ2pnZV5y7myFk/NTn0TG2FjcCgWYR9MZMARhC+ONNwa//e01ICy/X//xz26f3xpm4CUCiMg4fUItzvUcyrJG5w8CfcxlQ/DU/UIO886GI2JHR8cHPvCB3/z3b5ZccAEweOB73+vt7f3Xf/1Xr9/HGY9Fx1atWvWRj3zkb7/yFVogM8b8fj/jTPZmzslAfi05nSWbk9MR4NhAnbXhOV3gVAHOXnN2fQ5Bp5Sco4iE6eRzUoKnGzCMupChQAuRgeCci9Fo6itffLl7cFRH/+e/tPz225Z4vR7GhWUxZFYmI0IBH2MIcMo2LUdT57R00r1w/jjMHwbOtZucHTm9lj/+J60ovyOc3OZLGCbOKHImb451yznNaed+OpYmHdilQ89p9umok9Y/85P5o5yQX0X+6ZuTQs7vSVnKEbccpqerPb+i05VI0cueO0PVlWVe+QgDrjFfZWVAY9wGzGTs0Ui2dW4Z094MrEsvapMFHM3XsPlMOsfQWUVE5TU1NbMaZ/X39S1etEjTtHA4XFtb6+wRzpjP4wkGArr3lIyrk/Zm/idXijfnCHLS5ydNwzZpw2WfOqfcpG3MZ2nSh3OmaP6P/Bbl0Dy1hDHQGGOgASBLpcTw8BhnnKO3ob5C1zXGOQDXdQDQ9NDk5tt8aZ/OOn/WKTBpieyUSUV01rENp0rS+Xk7nYggbx1zulqcc3ZKbVSCgtaNhmHQOlxJlZZl0SmmEmpCCMMwZJeUTpAyQxfIXk6PMGChMsZ1AcAFYm9PRAhmWycTP6vqv4mgBmcxktKgD4VC99//zw8//HAsHh+NRI4ePXrnnXc6zz1PNoMpcDRhjFmWJc8iSiEoZxpRk/q0aIJy1ePcURZNjXhERMMwDNPq70tYFhPCFiJTU+PP/cwXRo4O0bLZbGlcnQS1jjahSggCAKUkV0KKMUaJyRWyVzgK0npr1qxR6Lly4sSJI0eOqFIBhmG89tprdEKhhGZ7e/vevXuLdZtCv18LhXQAzhh0d45kMuamTZuVeA9Q60ZHR/fu3VvgK5RD+pJLL73nnnteeOGF1av/8MUvfnHhwoUAAOfg4oQQYnBwcNu2bUr6AhFt296yZQsdFZVIk7RAIpEgE5ySoWJZ1tatW5OJxLFj3QI1rnGPl4XCOrBiZGvbdnd3986dO0tnDCbWU6+++mrOqXQpGBoa2r17txLRUedu3LhxbGysdGpTRUFplZubmxXmnC8vL5erldKhaVpzc7PTdlkiysvLncnnp4qg318eNqMRYYM1MJAVYDU1NZVCMAeBQKC2traQlaPcnni93hvfdVM2m+Wckw0RAPAcXJBijAWDwfr6+px9btHUGGONjY1kLy6dGnkgVVRUqNoWEHvAeEd3AhlwBJ+Xh4Pegpd3p4BzXlZWpmoxRfIn9wYlBBljgUCgrq5OCTUi2NTU5PP5VBEsHAVpvYsvvth5UFoi6uvroWQXVgmPx7Ns2TKF+8eGhoapXn5wQvdA68LGju5exrThwTiAtnDhfKGisSSxcDhMrkJTajJjjDyEzikYY5WVleRgoQSapi1evFjJ4Q6JKxgMKsx3ruv6woULU0kjMpoCZqPwlFViIKAXlx+Pc15dXV1TU6OEN8Kll16qyvqJiBUVFRUVFUqoMcY0TbvgggtU6YEpoaAbaZjn5VsKaBBL5x0lBBUatqk/ip5pms5WrrwUAAF5ZDSZzVow4e9a4hFGzqEylLz8UQvJVb7FsAhIm1IO2aLh9L+VKIUgTAw8y8LR4QRjAoTnmmsv1DwaK2qtx051qy6dNzmSlRAkDaBwyBG18zKGC1IWbOLygKpaUXU4A2kSUkUNip1mOofLLq7VGGNgJzPmQH+K2gqKlJQcedNK5YHDSCr9bErsDqdPHwmwRGuGk6CS8UxEYol0Ig6IGofMVVc361wDmPKhsNoZARPDWHn0ASWkYOJc77ws9GBKMVdUVSl7d1I/hqKhcJMLRa8sGHLuCQRZMOhlwG3Be3sjag244Fjuna9BczpIfpS016nvSl8UoOPKI+b5vhVHkH6MjKQyGQsAfT5tTksF1xhOnbI0Up+XGCQFQu2QU7jbm3LVhTxEvu+q5i3dNFRCCib80RWKjzxXimsvAqJgCCIU9jPQhM0GepNG9mQgltJ5o3mrMJCGWiAiea6o0nrkGoKO66UlUoOJMCSqtgXZrDE6lMhkTMbR49O8Xp2BzYqNpieEUGjoIz8YhedIytmb1p4rL7/8ssKgJu3t7QcOHABFe7RsNvvKK6/IGzOl4+jRozt27CiyM5ABgscD1cWYZPgAACAASURBVJUBYCDQPNY+tPqPr42Pjys5fETEoaGh7du3n5exUgj6+/s3bdpUOh1SUqZprl+/PpVKKSHIGIvFYgcPHiTFV/LwQ9PKrF+/Yf+hIVsIhlogwD0eIYpKiUervI6Ojm3btpXG1Sl44YUXxsfHlZCSbkkK/XbXrl0biUSUUJsSCpqHixYtUuh7UVlZqdCMq2naggULKPpA6dQAoLq6uqmpqVgNxYEBoJg9uwIYMia6ukabZs8l83zp7WWMhUKhpqam83UMfGYwxsrKyubMmaPkjJUO41taWnw+nxJrFSL6/f66ujp5cbtEerqmzZnT0t0TRRQMeHm5z6MzBidjy06JFjW2srKyqampNK5Ooblo0SJVriGc82AwOHv2bIX2lrlz51K4jbcYBXmuXHjhhaDu+Fy6/CghqOv60qVLFWoB0shFUmPIgGkaa2g6GUw8ndJra5pkXJnSmSwrK5NBbqab4iOtJ4OIlN5eTdMWLlxIhkglatTn8zU2NspDtNKocWAwZ05LZHQnYwBMVNWUs5M25yLbXVNTU11dXQpXObj44osVnp6Xl5cr9FzRdX3x4sVqwwoUiII8V9SuLJw3N0un5jQalk4NFBycI2N8wYJqzjkipBL2WDQ16b3FoqHWgUAhEFGGwFECznn+BfBSIAdz6TQpAEU0mkglbADgjM2aVcGZVtzdPmkoUKsFFHqu4KnhGErHedyvnL0ZpbjsTgr5KVToAKiETg7NIsiyk/e8vBcsqtMYAGpZMzM0mEIUDGym6CxOunFMQxuu89tTSr84STmD8RVNUAbCklwpsLcADo8mx2IZANCYb+k7qjWuM6YDK2Zgq9UCynWK/FSo/QipIjUlnL17nMFaVQEnoISajLaq1l+vKGoMADSdNc6qKavQEREYtrcN2pYAmDjwKZm9kjZR5wzSHcTpFlcKaJUnUeIKV0YfwFPjWZUAtIU9PJg1TRsAgKUvvXxB0RzKM4HSWHIwp3SKgaN/lQw85Qp0SihorUdROVVVmclk0um0kl0GAFBgSArioqQ/iL1i5y0D4EKYjFmz59Toug6AXR2jhmkjMsTiPU7kKDEMgyJrwjQ715OOJs6oliVSE0I4g5iWTtA0TRmQtUTpMUBA7O6KIDIEKK/wVVV7iiZJEiPplcJVDsbGxhRGSaGxp3CxkkgkFCqWwlHQud6rr76aH3m4aHR0dBw5ckSVy142m129ejUFVVfSHydOnNi2bVvRkbUYY5x7GPPMn1OJ3EaEnoF0JJoCZgIr/lxZTtGxsbG9e/ee30/l6cAYI+cGVTsDwzBef/11JdmCaPSm02kaeyrWQcK0sbMzwVBnoM1qqPBCqXfmurq6tm/fXhpXp+Dll19WlY6HPFdUxVwBgGw2O61jrlx66aUK72w3NDSYpqnqSN7j8VxyySVkJFVCsLGxUSaLKInOrDKNM8G0TMZMpQzGymwbNa2koy7GWDgcnjt37vT0XAGAysrK1tZWnLgIUbQYaaHn8XguuOACyptRuoqnnAzkllS69BBYNm0n4lkE4fF4GhsDpZAkz5Xa2lpKOFM6qAsuv/xyVa4hjLGqqiqFFmFd15csWSIzb7yVKEjrnYzIpggKY3IAgKZp8+fPV2jWrKqqUsJh05yQpjEzy9Mpa2wsS6bXUgjSYjYQCNDEmG5He8ReWVmZTEBTyopPHiGRigcVkaYQ0ev11tbWqjoYTSet4eEYMAvA0zi7AsACKF7LI6LCiDXUukWLFinUU8FgMBQKqaKmaZrs3LcYBWk9tTfmnLl4SqfGlEaqkAShyP0jIqIAxoDV1YYCfkhlDYPxvqFh02rUmS44B0AOrIhYRDnGxyk1GQV2d3eZpsU1XlNTU1ZWVlRYkII4VDVanNRUqfiSrSKIKBjjAkHYom80Op4eRy64bjQ1lQshOC/yayT9adRqAWdG0xKh3MR8Xjz1CGcXipIv7TmleS54K44sIiAA2jZnzOM37JaOpNWV1LPPdB4NHXvPta0rA54AIAqOvKgzvuJGnhCi7djxr33ta4Zh+AL+Bx54wJn2Uy0U9qxCFxNJpMSFj43AkaGNGWHs6Nr51I6Xh1vb7KyG2aZQ7aqT17DZaTOuFMikEijv3+lPsHAo+xS4AABkDBA0Bikr+Ys3nuip3Zq2UwzxjUjX/qf237nijr+94ZMhHkKwAbC4iLtFwDTM+++//99+9KPy8nJN1/x+PyJCUZEvXYDgBhr/vfnJn274vykRh3LL1jyW3vf8Yf3iS75Wrvmn28mDi3wUmi1I4Q5XYc4RmHDmmCbsMQAQmDXT/73xxd8fWW2IBEcNmZdbmmllntz89O6B4+TDkv9ugU2YaswVRBweHu7p6dm8aZPX6ykrK8sJKY4nt+UoozAVTjwflALmzPwUTq3ozj3dK1haKCfOELndNt718MZf2dmkZvs0DJUZLG3jqx07fvLSI5ZlwWlkWEjhWaU3VaidGsXF+zlDX5yvmCvafffd57x9IYPfOb9Xzz777OzZs3Nu+DsdPp0lcuY4HS+FEJSiBRGPHTvW19dXV1cnS9jEfTI5KJ3TLyeipLM627Yzmczvf/97Ys/5pHwMHYlmZKGzaifzQojDhw+3tbXNmjVL8p9zO+V0DbdtmzMGaNuC/eC1hwdjI4JO8AAZY8gYcAhq2srW5cA0FKfkQnWSdbY9Rw0h4tDQ0L59+2bPno2OIHEnaz81myW9a1lWb18v2PYzTz/9zNNPz1+4kC6Qc84AWDaTeeSRR2zbHh0d3bF9+47t248dPbZkyVKNczw1fS1MXG/Ika2TVQDo6uras2fPvHnz5L86owGSW6U8+HM2nJ0aMZA8h0zTfO211yh1hvTgczZccpWzwsoZhLIf4/H4sWPHqquryQV60tFOEzt/UiAiZ2DY4tndv93UvttiAAyBocUZR0S0Y5n4h5bfpuvctgUgc3gKY462zeloKYcTJ04cPHiwpaUlh/lJmzkp81QoD82ffPLJWbNmkfnL2SJnkkInwZzHcgj29PQcPHiwubk5f0rKJtDD8gEpOmfDYWJtsXbt2srKSrIyy9pzjnFk8FGFK2jt+uuvb2lpke2ktE+Dg4Ny2gshdF0/cOBALBajm9swIf3f/e530WjUGYbBMIw1a9bYti3D/1N/r1692jCMmpoaytoVCoVs2167dq3X6yWjFQlubGxs3bp1ZWVlZWVlsqJIJPLaa69VVlbKW/cAEI/HV69eHQwGq6qq/H4/2dR7e3vXr1/f2Njo9/vlk93d3Rs2bGhpaZEZhRBx9+7dO3bsaG1tlce9tm23tbVt2bKltbW1srKSrtBblnXkyJGtW7cuXLjQmS98z549Bw8enDdvnnPEbNmypbevf1ZzkwD8j9efGs/m+0kxT5q9b/ktr65eHR0dbZ7dLHUxIq5bty4ej9fX18vjdtM0X331Vc55VVWVc5Lv2bNH0zSauk5plJeXB4NByWcsFlu3bh3FpLniiive+773HT1+7L/++7+FELW1teUVFYyxbCbz7//+793d3du2bduyZcvWrVtPnDjx8Y99DBgjYZLcTnLP2IkTJzZt2lRXV0cTiTjv7e1ds2YNCVPTtEAgEA6H29vbN23aNH/+fBmOnzF24MCBvXv3zp8/X5YIIXbt2tXW1tbc3CxDigsh9u3bt2/fPoqmQ52LiBs2bOjp6aHcVVKm69ati0ajjY2NsuEkt0wm48z8a9v27373u1gsNm/ePOktkUwm165dCwDV1dVybNBsTKfTDQ0NspaxsbHVq1cHAj5/efkTf/jPE4n+nAU7A+bRPHdccXtibHzjug3VNdWBQEC2aGxsbO3atRUVFXSiSm3s6+vbsGFDc3Oz1+vFiTyzkUhk165dCxYskFdoabju2rWLAjHIQXjo0KEdO3bMnTtXDhghxP79+3fu3EkSBgCfz1dbW7tz585jx47Rk1Iar7/++sjIiJQbNXzjxo009523AH/729+Ojo7Onj1b1/VAIEDZvtavXx+LxRoaGiSTlK3QNM2amhrZ8FgstnbtWkSsqamhEkQcHx9fv359KBSqra2tqKigATY+Pv7aa6/5/X5K50R8JhKJP/zhD6FQyFlYOlg6nfb5fM5PYk4yLZIRPSbzqJI4stmsruvO5Kq0RKfXpc4WQhiGQYX0DIXzNk3T4/HIQl3XacVLmpF+kNK0LIsqknxTUl3GmMfjkZ8CKqS5J1kyTdMwDJ/P5xxGlmVZliVrB8d6mxouP1/0pNPpCSe2XVJu9E2j5YmuccsWn3rsbw8OHRN4yupd1/gH3vGuf3zv34EAzjXSwtRMkhs1HCfsjIhIYncuOhhjJEwaK1LC2WyW/NqcDScJnyxE6O3r/dKXvvSNb3xjxYoVmkdnwGLRsWuvvXbVqlUf+tCHaNYFg8ErrrhC93ooPqjf73fONNM0Lcvy+/3OWYGImUyGPDrluoAEomka8UnllmUJIZxxtxhjpmkiIi3V2URCFepKEpFsEY1MOZAImUwmZ7hOOoZJRJqmOYcrjcycMUzZn3Vdl0cBxE82m/V5dRv4I5v/4xfrfm0J506ZcQZzKmY99blHvJpmCWQI1ExaOlFzSBpygeZsY84Ydna6lAb1r7PQNE3ZF7LhiChj/MjJIoTIeT2TyZB8ZP8KIajQuT4guTlnn+xHACARyXW67EqYMJfTnJLDlUY7PUZdiYhy3W1ZlnySIOdFbgbn0qBPnG1P9N5kybQ0TctxJiQOnEsq+SQJ0bkUJ+9QPDXogJwPJ/nQdQBwlsgk6jn6Tj7v7Ab64fF48uMA5heSrswvzDnwIrJerzc/t15OzDLG2ITCAoZoQurPlrzz6PBxC7lAwRFtbjPU/CJ000V/xjWv7gHOT+aUoWZSqJIcYTLGclxM6WHnV4rAOQ8EAjm7PNLyMiANY6yhoaG1tTUUCnHOpTWFcz5v7tzrr79e954UiMY1YKeVm1MaUiVJNy45hXJGKrEhFzXouNktC+W7OR0k2zVpmrf8QsbYpCKadLjmewXn9zgNQo/HAyi4Bdctfed/bHw6JtICUAehMW5Zmu4RK1qXezWPrusaIptwzqRG0ffVOf5zCiWo4c5CKY2ceTppB00qjfwBzBjLbzgV5lRNQ8tZiIjO1Q+b2K+Q2POF6RyWUhr5VU86BaQ+UYviIyA5P8KT/utZS96mOENDEBAZeEH/8yvfc92ilTrXgaENHoEY5GXXXXj1Zc0X6sAReH4arcLlc7on88s554ZhHDp0aHx83LKs/v7+urq6lpYWZ9cxSn+lcW0CZ7AtT6kTc+aP80e+fi+QThFVl0In513BGGO4sKr5Q8tuLtMDOiAXGpi25uMr5l72N7d8QoYUy6+pQJbOMK2myv+ZZ2iBz+cXOksKoV/6wFYO13NFKRggANe9dbzqvvd/5ekdL7ywaUN/dAyy1a2eZd96798GPEEOrKgY48UAEZPJ5He+853LLrvsuuuuO3LkyKc//eny8vK3qPo/OSAK4OgX+hdu/eujB4w9o4eyvpHqUMN7ll/+yVUfmaXVKgmr4+JcoyCtRxt7VVcgyH6k6zqqCGBFJxRyR1M6h3TokLPLKBAcGAIKAE3jNYGaz676q6rRi3/5y+3prC2qa3wsAFxDYKwoXz1p76NTp7OKjrYnFRUVDz744IkTJ6qrq6+66qpzl2qe2KPOzdnXFE2QDn/JeSDHdFsEpJleWoSnSo0zLtBmmsePGjsxP3SiKqyZN/7Z3L+/6WZd99qQ1VnuOUOByJHeVF+flCBjLJVKOQ/+SiRIdmRV9z2cp/BKCBaOgjJDPv/88wrT8Rw5coSihighmE6nX3zxxVgspsrx5/Dhw1u2bCk+5gowjY48mOAM5jU36syrCS2bSg9HLC9jnBUXdBIAABEHBga2bNmCEz4cZ+KEMQDQdb2xsfGaa6654IIL6GCrRN1xBt4Qsaura+3ataW7/tG7pmmuWbNGSXQjojA+Pr5///7iswUhalwDYLaNY7E0F0yzfYtbGjSdATCda0WSBQAA27bb29s3btxY3Ov5EEI8++yz0WhUCTUy1m/evFkVNcuyVq9ePTo6qoTglHB2tY2Iq1atUhUKAgCkv4+ST5DP51u5cqXTY6NEzJs3r6GhoXRqjAEg1jf5/H5MJrll4843elvvWFjcnJDW0urq6gsvvPA83mE8AxhjjY2N0uuoRFIA4PF4li9fLk/TSyTLGAuHw+RMUywFjmgDwEDveDolEDjj9oLFjZzpCAhQfEYtOs5vampSmDcDEa+//vqysjJVBOvq6kKhUOmreIKu61dcccV5OW85u9bjnJMWULXWKysrU0UKADRNk16ESjojHA6TY2DJvcsQoLzMW10dGoumTNPeuO7Ahz44f4LPIk/ofT4f7VKnm3WIFLHf71f1gSQPp/r6eoUt1XVdTrMi+hcRAQQg3779qGkIBiwU9DfOCgOjGKPFc0ozIhAIKAxqwhhraGhQGIDA7/fn28GLA5nFKTPXW4+CJCKdSJRUqXyHdY6SmJS8suAIEA4Eq6qCQsSBQ//AeMYw/T4NEBmb2rpAoVo/p1DYF8pHXQ61YigzBJvZgu07EEGBwKChtqy8IgjAS2STmFF4wkXDWG3mJlWkJM7XeJ6OG6U/FdCxmjavtVrjDEAYGZ5Jm8JGV+xvU6AAYMwwMv29aYEAIGobPMGQAuODi7cS7vQ7V5De9i3zahgHITCbxkTccmX+9gXjHNG2bDsyapKbd9PsqlLiY7s4LyjIhjs8PKwwOkIymaQsHEoI2rZN7KkyCieTybGxsbNaSM8KnLiPXRliHh2Q6ZYFkTGDg13cwp7stoZhjI+Pl86ecpD80+l0NBpVFb7FsqzR0VG6f17iaJFXppLJZNHSY2gj8oxhjWczgiFnUBbilmmUwpiTvVQqpTCPhJy5SqjRfbXx8XEl1KgvIpGIYSiQ3lRRULYgmY5HSZXd3d1Hjx4FRcluDMPYuHFjKpVSpQU6Ojqkc0MpIHEZhnHk2EGvjzEmADEaSdAScKrUaFYwxkZGRvbt2yd990pkUjkGBwe3b98uuS2FlKZpFAsjlUqBonOlZDJJ2YJYUaG8EZAxSCdPxubSdNHVdUSmrCsRtm339vbu3LlTCTVq3csvvxyPx5UQBIChoaE9e/aooiaE2Lx5syo1OiUU6rmiKucIAMyePZvcHZWMY6/Xu2LFCoXszZkzp76+vnTLF80rj8ez6rrlr2/cNJ6IIHoO7htatbJJQ5xqTE82ccG7urpahvyaVsYNmmaU74Ys/qK0/PF0L50yVZXOHmPMtu1AIFCa54omhBjoz9g2AkAw5Lnx5quDQTU2a/JGUJtV5vrrr1eYjqe2tlbhROOcL1++vKKiQhXBwlFQBPnm5mZQN8dkNyghqGmaDIqlhCDFuSqdDkw4Yc2Z3dAyp/pERww47NrZa9rv0HVPEYySKpnmniuhUIgmRumWenJucIaQKhEUjkHefCjKSxlstN544xhDDsBrKvULFs/2ehVcdyFmwuGwKiVFBOnOtRKCFIZAlVsSTQ0ZqOotRkErGrWcKW+ncs8VtdR8Pm9DY4ijLmy7uzOaTmPAV2QV003T5UOtW9J0c3JCZKZlb9l6SNgcUJvdVBUMelnRV23yoLx/p/PMPY+e9q498ZxD06CxKcC4EGgYWTE8nMbzEDTbhQowTKVEf08SwGZMNDVXeTw6TLvDVRdngav1zjkYw+Y5tbqHcc6AaQN94/b5yBXgonQgishoHO0gmTUaG8u55nbl2w8Fea50dHRks1lVnitjY2Ojo6OqfC8sy+rs7KQQsqVTA4CxsbHBwUElnit0xbqvd6i+NuT32hYywcXgYAIhWxxBIUQqlVLCnnJQe2OxWF9fX062hKIJWpbV3d2txC2JKGQymUgkUrRjDSKMRFJC83LkGudzm2sH+ocyRjG9mQ8hxPj4eH9/vxJq1MD29vZsVhl7iURiaGhICTUAsCyrp6cnnU6rIlg4Clrr7d69W5XsAGBwcLC3txcUHRNYlrV3717SekoUwcDAQFtbm0wwVCKEEIcOH+ZadlZTFeccQAz0xVEUaSBmjMVisba2Npiw6pbOoSrIoCZHjx5VFdlFCHHw4EHSeip4hGw229vbW3TnomBDg0kADoyHQqyyhh8+fDiTySjhTQgxOjp6/PhxJdQI27dvJ7+f0sEYGxsbo7FXOhDRtu2DBw+qYm9KKMiGe/PNN+ckSCsFra2tMpFS6SeaXq/3hhtukMlrSmdv/vz5LS0tpd+IpNbpur7ymhUm2q0LGo8djyGYA30py2LFhblDxLq6OnJuKGLqmqZJhtFi6j4bSAs3NDTU1NRQ20vsX2L12muvpeCJRK2ULkbEcDgsEz8VQUoIHBpIaZomhNU4uzIc9q9cudLjURMOT9O05uZmZ4qiEgkCwPve975Jw+4Xh/r6+rq6OiWkyIZ73XXXKQkmOFUUNAEUxoGAiQwjqCKkKABwzhV6JMFpEmUUAXl5PhgMZo1sy+yAsAJcs3sHEqZpAHim6qssV09FaGTa07300kuJROKjH/0oYwxZyTfmJ2NPSk9J/zo7t8TvELGHiKX4Xph2pqc7btlpL4PGBp/Pq3t9jHMFIQOoZ1WNPXA4EimhBjB5/o1SMGk+nLcG582aMf2dMBRC1/Sm2dWcg7Ct/v7RTPqtPgKnXIsPPvhgV1cXlZxr+U/P/i2RK8vi7W2DwISNYm5rnc/nZeytjgPsonS4NtxzDgRkjNXWB5BbTAPLZB3t0bfeirtjx47ly5efdOd20ztMHYgwPmYNDiaQIdM9zXMqNB0ReTHZAFycV5zMauosyj85Rjz5X85jOVZdaU+Q/+Qk5TSc4amYlIIsn/RJJ6v5NPO5KuQ4PKfq0xHMtwBO2hycCPIuUDAO4bDHpwFnnAHsO3DCtoXz+Unbm8/8GRpyurZTmtFHH3nk0ksuDfhPbu5QoPQyE4iZbDadSicTyVQqlU6lcML8erq2n05o6Oj3Qsonld6kcjhzG/NlcoY+kjxPkSDatn28bdhG4MABRUNtgHNgoMHpyZ6haadrOE42dyZl7AzMn66xZ24mThbiYdIeye/N/OedD+ez5GxsPv18HkAptE9/+tNlZWXyCMayrL6+vmQySfGEAQARent7h4aGslkjFApOFCIiHjt2LJvNUjp32Yb29nYhhLyWRIVkFaVQ4PF4nMzV7e3tmqY5c0Kn0+muri5KuoqIdIadTCa7u7t9Pp9MOUxPdnR0kLlgaGiIsiaPj4/39PQEAgFnmtHx8fHOzs7y8nJnFvDBwcG+vj4qpMds245Goz09PZzzVCpFJ+iWZVFhdXW1JEivDw8PO/OxI2JPT088Hg+Hw4hIt8eoMBKNBHwBzrXnn91hWjogevzWkqVV5eVhaYdFRPK/ceYeFUIcP36c0lHjRBrZTCZz/PhxnMhBTg9nMpn29na/3+80OqXT6e7u7kwmMzAwYBnm1ddcs2XLFsMwGhsbdV0PBAMALJvJPP744x0dHa+88spzzz77zNNPb9y48dZb38MYxBOJrq4up4iEEGNjY93d3aFQiFKaUhsTiURbW1tlZSVjLJ1Oj42NBQKBSCTS3d1dWVnpNB0MDQ0NDg5WVVXJd4UQAwMD0WiUQhxTi4QQ/f39g4ODZWVlIyMj1Lkkong8HgqFnGd85FZFl38lnydOnDBN01lo2/ahQ4ec6dsRMZvNdnR0MMZkiGAq7OnpoYEtCaZSqba29tfWth07PsZB9+j4Fx+52OtjHSe6vV6PzMFEw7Wzs5P6AiYiNqfT6c7OTq/XK9PaImI8Hu/q6iorK6Oc9zQ1ent7R0ZGKioqpOlGDlcahLJwZGSkv7+fBiEVCiEGBwcHBgYqKyuplp6eHr/fPzAwMDo6Gg6Hpdwsy+rq6spkMjL1AiJS+AOSsLPw2LFj6XQ6FAplMplkMunz+YQQXV1d6XTaeaRuWVZHR4dlWcFgECdiT9AgpBvQcrRTIWMskUhQomFElIXOcM00sEkhKDwz4fkhpLLZbI4xfuPG18fGxs28iDrZbDYnjg1xT8EFwKG8iSbp9b6+vs7OTnqSnBKcSjPndQCwLCuTyVChU8tkMhnLsizLeuONN0iN2rZNtThZouTt6AgBgoiGYeS7+FmWlUqlenp6Dh8+LBPUG4aRY1zHibTzzhJqo/SxwIngeul0et++/Zl0xudnc+aWA3iQwciwlYgn5TPEWyaToTkpXyeahmHIYU2eK+3t7VS7Uz+SNHK+uqlUKhKJPPzww5dcckkymTQNg+JoWZaFpz42NDTU19dH0wMAGOOWZaXT6RxhWpZlGEZOoWma2WyWAplEIpH9+/eTvx55OznXBYZhUOofZ3fQ2MhZNWQyGep06ZZEH6FsNpsz+klE+Q3PH5kU2oi+yrIwnU7nBzvKZDKnuGoxIYRIpzOD/THGNIHCF9ArqkJG1j506GAmc4rHGQ1CynbmLEwkEtRBcrSThEkapNYHBwf379+f78JGNHMKTdOUcjvJJmPOJxFx48aNiUTCMIx875+cNsrPZ35Fcp5Go9EDBw4QwzTenOJ1TgEJ+mBICbOJIBok9p07dyYSCZzID5fNZnNiHRHN0gMg5YDJ6U1/O/0h5I+hoZGqqkpd153jTb7o1CZOZwXnqlCqecZYKpUSQpB1Sfo3OJ95k7nJSuRvKdZoNFpVVZVj43NyJat2FuY/Rn/G43HLsuQ6DvMSEsoWOQtzxOgsH4uNh4NhBOu5Z48/+PMdumY2NVX++Mfvq672FX4WTisgAKAIcbSwymmj1IyyakR89dVXf/nLX9bV1HLODx0+pHs8t9xyy5e//GVfwM+AxaJjK1eu/Iu/+IuvfPWruq4DItc0r88rP/VOO+ykDc/poHQ6nU6nKeWNHEv5QnZyi44NTo4AbdseGxurrKykdbrUjE6u8ms5QyFNrWAw6OzcnMcoX8epbFvCxmQqe993WwsSvAAAIABJREFUVu/eO4KIV18z/75/us7r1caiY6FwSC4ecxro1HFESgpWPu+Ug1N6MNloP/MYlg2X/zQyMlJZWUkLczjbNJ80h5dz/tIHpry8PGeaOxsyacOdHMp/tW07EomUl5fLzJ/OZ5w8ELcK13p6Dq1JvQ3q62vzC/OfZIzluxc41ylUkmNNd46w/IadoalEmXN+Zh+iSeV1hpKcgCuTPplfeDovDU3TqioqAQBRu+KKBp0LBBGPpyNjqapqjcEUUkNQFTLmyllZIkV54403XnfddTSgf/CDHzDGvvSlL3k8HgoFDAC6pvl9vmAw4MnzS8ihWYgkg8GgDEY06WDIf2vSQoKu67W1tTlPFjJiT1fIOZcqYNIaJ2UbQQOWSRsiMpYVKDj4Lr+kTtc1TdNqamuc1HLacrqmyX/NkYNTejnIF/6kzOfo69Ol4ylcaM75K2Ou5K8wCmy4s1DTNOfMPcMsUB6n4Pz4y8woyI9bRWUoENDTGSuVNCIjifnzz3lOPM45nZzS19jn89EpoaZpruFxSmDgSSXTsbEMY9zjYQsWV3HXDv62hav13grQdywQ8AWCnnQmbZnYdSK5/EoODBXGKZq0XufGYcWKFW9uPVyHi4LBAAViNJKKxwwA5vVqtfUBV+u9fVGQ1ss/wisF8nRGLUGCEoKTngqVwhX96dFZZQgjEQ9oxqHjQ7dbC3WvBmADFHS65zw9KYS3/L3G9ddfT6s/oje19pwNzhMlubwtRYA5BKHk7nCylH/edAYwYIhw8EDUQg4sq2v+msrySU85S2HvZF2KTq+UEzwXSoCg8MCuQBS00Dh8+LDC6AOjo6MDAwOqmmqa5tGjR8mYpYQmWTNVBZghc34qlaLRUl0d4BxQ8OPHerIZAACcoqN4KpWi2A3y7LxweDwehRlXc0DCj8ViZKBneZaoIgiapnnixAkyfZZIjZBOp4eGhsjcXPhbiCAE7t3dhiAY0wMh1DmjY9OOjg4leTOIn0gk0tHRUTo1iYMHD6oKasIYi8fjPT09SqgBgGVZbW1t5yX6QEGRpijuhaoqR0ZGKFaSEmq2bR8+fJju1SshODo62tnZWTp70h5//Phx+mZwDi2t1cCQM08iJkZHYoCCYaFsE0Fy8lIlPbVAxPHx8Y6OjimtpM5AjTw9pe9O6YrPMIz+/v6p61BMJrKDA2lgAgUrqwS6ekvsqfKrIOfQzs5OJdQAQAixf/9+VSFhACCRSChkDxHb2trOS6SpgmKuUFATVWpl7ty5Tm+VEql5PJ7rrrtOYRKTuXPnNjc3l74moqZ5PJ6rrrqKpMc5X3ntohd/155GTCbt/sH4vNYKVvDRKhGsqakhJ9K3fl9wZpBiamhokJ7JJYLsrVdccYWMF1BKk+ndUCi0aNGiKUuPwehYOp5KAwid+5ZdMItxAQC6rl955ZVKUkkgoq7rs2fPVhXUBAA45zfeeKPCJDC1tbXkTK4EmqZdffXVCmdu4ShoytXU1Jz9oYKhZBBLaJom/ZuUQFU3SPO8HCiM8cVL63xeLWMbhgk9vQmBovAzcalGnb4X0w1+v19haCO1ncsYK056CDg8kkkkDcaYxwM3v+tyjXPS8qpSfE3Yu1Sm4wEAhToUTuM1VRwYY5qmnZcEaeBGH3grwRgEgryhsRzBZgx6uyJCcNeS+jaAwIGemJUNIEIgyBYvrVASXcrF+YKr9d5SMDDrGirJE2KgL5nN2OimDpr2QLAH+seE5WWM1dSVM87cDEFvaxRkzcBTQyOUCDEBVQTVsoeOKBGlk3JKz7ZtDfTmOV4vL+OM9Q7HE2mr8G0+XaiSfj+q2qsQsqWqso4oHCdEUJqDp0TTtll7VxT0DAetrorpgAKE5LB03iSm7aSQBNXqAeUCLBAFrfWOHj2q0HMlGo0ODQ0p9Fw5duyYWhOzEs8VnAid0NnZSXY0zjkAnz2nnGsCQYxHs4MDUzBg0UFSKpXq7u6Wuq9EJhWCBjHZcJ0+ccWBKNi2TdFTVH2ETNMcHh6eavD9TBp7u6MIJtdg9pxqFDb5ltu23dXVpcRzBSZC2siwr6WDMabQcwUA4vF4f3+/Kn8927Y7Ojqmb7agI0eOKMzYMjo6Ojw8rGq1Qp4rFNRBCcFoNNrd3V261qPBQVGP6JvBAATCnLkVugcRRTYD7cf7puQtzBhLJBIyjda0MuOSUk4mkzRvlfSFjBmlxNxPDoBDQ0NT/WYcPzqYjAMwiwE0NVcDA2ACAGjeyhBBpYCmQzQaJWdMJQQB4ODBg6rWK4iYSCS6u7uVUIMJvx+FjjWFoyDPlZtuusnv96u6Azxv3jxUlDQDALxe70033aTWsaalpcUZoa9oMMZ0Xb/66qs9Hg9jjCJ5zpld6dUZQ82wzO6ulC2EVpgoiJ/a2tqysjJVLvIKIY2GZHUtvX+l9Jxh8kpkLxQKLV68WKY0OfMr0r/qWPtANiM4an6PPr+1ClAXgBpjXq93xYoVSkzq5NjU0tIya9as0qnBhPxvvfVWVT4JnPP6+npnMIhSQPb0a6+99rw4JJy3bEGqwDlXy54q2zxB07Q3PXUAAFhFebCh0T82nrURenvGbZtpU5nRmqadFxenAqFcempTQWmaVrgnJjsZExe7u2OGlUXG/UGY11oDwAFOXs9S2BdFO9acAaqc9QhqeeOcq3LTmXLV56XWGQuGoHG48OJZ5KY3MpRMpxRHTHShDIyO8HFgICsYAvA5c2vDZXQleBqdqLqYKv5EtJ5aWxWosKY5bYWO34wxvGBhjaYDA5FIZfsHYmQfK+R8D0+fVOG8Q7JUhJH0dATzpFcqe84oygUQRM4glkhHIhlETePa0qWzONOAAYOTh7ZqO2I6U1MLZ+e+9bUX6rmi0FVCmsCVHAODI4iLEmo5cT5KQY7oEAEBELGxoULTNUAtmTZ6usdstAq5jau2F84FqE9JFzDGSulfhfrOyZ4keNaDUQS0hAmIkUgyFksx4B7Om2eHATVgwKHIPOKnrQ4RVfuawDlQo2pn2fkazGfXekKInTt3KgyN0NPTQ3eYlRg0DMPYtWuXKu8BAOju7j569Cjp5RJJcc5N0zxw4EAikYCTwbUAgNXUlvn9OmPMNKCjfQTApoXImanREInFYocPHz4XM6REED/Dw8NHjhyhP0u8y4yIpmnu2bNH5soopb2k5mKxWE9PD7k9no0aA2CI0NudTqVMxlDXsb7xlMRYlmXt378/FosVzZWTPUQcGho6ePBg6dRgQkNt3bpV1dRAxEgkQpmqSqdm27ZhGPv27YvH46VTmyrOrnc45wMDAwqdCSnTEipyUBRCkAeWqk9HOp0eHx+fqkvXpCB+otEorXooDiVjPFzmrasLM25bwjjRPkTLmgJpZjIZGiiFm3Ft225va3tt7dpjR48pT7wiQVf6LcsaHR0tffUtlcvY2Jj0zVYSX09K76xvcODAxP59PaYJiCIY0mtr37xCTpGmotGoklFH7GUyGSU6FCaE39/fr8qVFRENw4hGo0qo0YpndHQ0P1XTW4CCPFduvPFGhYbX1tZW6RNQOjWv1/vOd76TTIdKdhytra1ssgQgxUHX9auuukrTNJpywBgDLRhiDTXho8dGUODwqGUL0DggnIV7Wg7U1tZWVVUV0lKccJNub2v/4Q9+MD4+HolG7/9f91922WWMMeCKPV+Ivfr6evJcUdIXXq+X/H5KJ0UoKyujmCtwNg4ZIAhALrq64qZpM8bLQqym8hSLrcfjueaaa1TxxjmfM2eOKs8Vat273/1uhfECamtra2pqVO3rPR7PypUrdf08hHMv6FyPnPVU7acoAyYo2uFyzimBppL4awCg67oSlUcsUbiknNBGmsYXLalkDAC10ZGUaQAgO+tyj/Qm5cEofORZlrV7z+5/eeCBn/70p1deeeWvf/3rk/pX9eYYEamxlL4WSj5UIulJaiVONnqdEijLbMVnfgMY2jYfGhwHQMZYQ1MgGDxF/5JHoSp/PUTUNE1hxBoA8Pv9qr7fiChz1yohyBg7mcLlLUdBWg+UHosqP8V0HlGrIlg6kfxzN8ef+I5LZ+k6Q2TplN3RTruGs1TKph5FHRF9Pt+HP/zh8rKymtrapUuWXHXVVROyevOhk3aWkkENVOV/7hwntJ0spV/y3z2bJBljdiJuxWJZRJtzdslli3JynCg0tjitN6VTO0c4F+ydl/bq6XTamWxcCEEXgOSCgk2kwuScywzkxGs6ndY0TRbSuMxmsxSpXC4P6cAi56tIibTpSWfthmE4A53TURE9SZn9qJxOQzVNc+b6NE3TNE36gEiahmHYtu3xeORamk4obNv2+XyyIrI/mqYpb6HIE2vTNGUGVSkiIYSUG40GOnT3er3O9L4UB9jZcCFENpupKvdXVIRGzJgQ3q3bjixd1pBNZ3TdQ3dCpAZPp9M5IiJhktglTUrzKsUuC03TJBGZhtnV2XHo8OF7/uYewzB0Xfd4PSd7DaC3v/+Nbds0jQMwv8938SWXADsp4ZzFgmmaOYV06JbNZsnjNGckkNzkgYZpmrZt+/1+5yeKcnjTRkyWU+ZvWvjghMk1k8mQMJ1r53Q6LRfUOSKiKzGyMGe4Uv9ms1nKGycfk6Pdo7Nj7SMZQ4AGOmhLl1Wapun1avJJ27Yty9J1XfaaFDuNN3k6TOnqnQObaidhOica5Vmnu0aST1kIjo+KYRiWZcmNjhzYiCjbKAchFcp3qeH5MzqTyeQUSrlJYVLDTdOUYscJryDDMOh152iXTzoLaRDKNMdk8adC57UoObCV3JWS4Fu3bnWedwohdu3atW/fPqcONk1z8+bNhw4dchYi4muvvbZ7925plCANtWHDhvb2dnTAtu2NGzceOXJERlmgjOh//OMfe3t7nUIfGxtbu3btyMiIs5ZIJLJ27dpIJOJsdjKZXLv2/7H35vF1XcXh+Jxz73tPepKeNmu1bNnyvttZ7NiO07CE0EDJt4UshH4pbUpSvm0IUCj0C11ZGuD3IwXCjwIlIYUSIJQsdmzH8W7Hi6x4kR1bki1rtxbrSXp663333jO/P8bv5Pppe3r3OPanzfwByvV9c+fMmTNnzsycmT1UiV6uir6+vt27d6dFhfr7+3fv3k0TL3E2Nzfv2bMnrXl7R0fHnj17EomENCuEEC0tLbt27XIGXhCxqanp0KFDadw4ceJEY2OjdL3Tz9944436+vq0JLu9e/e1nG8uKvYigmXZreeHbRuPHDl69uxZinvIBbBv3z66+ehc5Dt27Lh48aLT9olGo3v37nXyDQBisdj+/fspZNlyvuWJJ554dcer//Zv/7Zt27be3l7pRWSMbd269ZFPfvLP/vTP/uxP//SLX/yiEIIBu3Tp0p49e5y3OIUQXV1de/fuDYVCctQU7Nq5cyddI8dUkKqzs3Pv3r20PcixNzc3HzhwgH4lOdzY2FhfX0+9LOTZ89y5c/SmM6zU0NDwxhtvpAXBjh079uabbzrnwrbtAwcOnD9/3vmmbds7d+48ffq0c4Li8fiBAwdkyXviRjKZPHDgwPmWFkRoOtdlmQDIfbni5MljvX19EiFjbGRkZNeuXcFgEBx20ODg4J49e4LBoBw4hVB27959+fJl55s9PT27du1yxlgR8dKlS7t27XIm/SDi2bNnDx486Gz3gYgXL17ct2+fc/EiYktLy/79++WnKZHo9OnTR48edUq7EOLYsWPEDTkc27aPHTt24sQJ59eFELt27Tp+/Hia3X3kyJGmpibnRJim+frrr7e2tso1zhiLRCK7d+9ua2tjjlSVUCi0f//+gYEBJ+XhcHj//v2XLl1y4ozFYrTMQSkwaU3Qf5PGTdP3x44dq6ury8/Pd3qUbNuOxWJerzdt8yTrhnqwSjbRHWN62NfXZ5pmTU2NU4tTw3nnPklrw7ZtuaPSdiGtCcMwNE2jSV26dGlubi7tqGm2nmVZhmGQWScfGoYx1tajnw8ODiYSiXnz5lEIIplMJhKJQCDgREgCJLkhDQQ5RklnJBI5f/784sWL5WVSmmAEePJ7h/btateYp7am5Ls/fL/GbARO1o1ESzYyEUk/p7IcixYtSpu1WCxGn0iz9eQmb1nWCy+88OSTTz711FMrVqzQPDpnfHR4ZOPGjQsWLFi3bh3xvLi4+E8+8QmPx2MkjWQy6ff7nSySdpnTc2fbdiKRoK8PDg4ODAwsXryY+ClNMFJnhmEIIeQ9JFoYZNaRdUNWIU2uEELX9bNnzy5dupRkjN6UNgIhicViZIk4bT2aizQWxeNx27ZHRkZmzpxJz8mU8Hq9aZZIIpGwbdvn9Xz1n3YfPtJv2PaKZcX/+NX3lhT6dd0jXzNN8+TJkwsWLCguLpZ7PEmX1+slftJ+TEIoDxwk28lk0jRN4hv9dnBw8PLly3V1dTRl0oijQ4zTmh5XhsmaplmjJ4cOHVq1ahUtMSc3hBDxeJyM3LSTlmma+fn5zmUeiUR8Pp/X6x0aGgoGgwsWLKDJJWPcud9csZE9HkxdtHeeyeT8Ets5583NzXPnzi0sLCQtKa1COXC5zMkbC4pATwvxUHAArvZ6dHV1LVy40HlegNQdSecT2qulO9Yphc6H4XA4kUjMnj2bDkokGSQiZN+CIy2DjmzOY6yTTsZYPB7v7e1duHAhpKqrp1nC8uKq8/nYkDR9xePxhMPhcDg8Z84cWlpOtS4RSoGWVDHG0gZOcuzxeIaHhxOJhN/vl2ugoKBAoDmnpmw/dNpoDwxEjYRZXJTLuQ5X89NZbZ82lVgsFolEiCRJw7j3VYl4KX+apt1+++2//vWv6S6qDOFqnN96662PP/647vXQoYh6hNPA01iUFkghGnRdz8vLI+mPRqOk9eRUSs4TizB19mepQLlT3qSKpIeJRCIYDJK+EEKkjZogTRfQ32Nj+nRfOxgMhkKh6upqScDYi7Sp+6EikTAvXBy2bPRwraa6KJCXq2m68zWyZXBMzrNULnIJaJpGLHIaa1K06LkQIhqNDg4OLlu2zMk3AJDGgVPFpIkljLnJK4To7u5eunTpuLIxdlHQ/KZNsbMFQiwWGxwcpPINY8eYtszpD+cxlrCRwJDS7+/vnzlzJomoo2fpOMvcOXD3kH5aHnt4ZozdfffdTt/f5C+P/Ubaw7lz56apjEl+O+Vzn88nmxll8vUpHy5YsIAMz7HS7HxtyrHTz30+34YNG9KcVowxjlBdXeDxaHHTtFHEYqK4hI/NXXHipJ9TashYwiaih5QvSaFhGPPmzautrWWMIbxVu17XNN2THovMkG9p3Kiuri4vL4fUOWjs/jyWexPNLwD4fL7169enyd6UA5+ITkQsKirKz8+ndTjJdxljiCyRsEPhJGWPV1b4PR4NHGyjNOz169eP3UEzkZmxmwfnvKampqKiYpIRTck3p1blnN9zzz15eXkZrtPJcQohKisry8rKslunY5e5x+O5/fbbnUo2w4G7h4ySZZy+fPcgpUQJTs45bWWoKIarqu6FJMbprna+UFmd68vV4qZt2tbAQKJ6ZsGUPTRYKpljrMkzLtCh6dFHH33/+9+/atWq1tbWxx57jCx0dKo9dSC5h+6KiUmlSTYyOMz/7ABT8WVn4GJShGxkxLAtgUwwjc+cXZA2GqJHVYkzQqK85kpeXp6q1BCmtCQMcU+tYskcptZ6Tt+zQlClpJzYFOIkl5N7bOSlgrFagPGKqvz8PM9I2EbAN97oXLGiVPNOLaDT6mrIGAsEAt/85jeTyWR+fv6SJUveckqoFjbJfHlec9m+UsYx5My6nF+nrT2lPAsbL/WEbBs5MF1js2aXAV7FN6f31j2Q+0Jhw0+aguuSDZchSMXy9iu+qXdjYh+ovt6fieRlgVMVQqe/3A1MtNIYg3yfb+6cEs3SbYzt39dk2lPn60l/eSask8bIokWLVqxYMXfu3KKiIulnUS5oaecUl/OLiE4nvZL5dVrcU6KyBR450m4LZAiVMworynIBkmleV4VcZIyRz0vtolB4kVQKnioKM8sVvyaQUfUBCvYrNKMo60JJUAZT9/AV7rrO5IasQdJDMei0JFtE7vN55tSVMGYjav29oUjYmvybcowKm4SoBcYYDVYeJ10ipGRJ0i8uscmb2pmVHoBk0j5zupN+uHBJmT/PJ2w+NpOcUkPcECZBkqcKGwCQ4ClBSDr0xsQ2XchIko4dOxaPx1Vp5Z6eHqq5ogRM02xoaIjFYqrIu3TpUktLi/tL0UQP1VyJx+NXmwaIgmkazp5TxDWBto7CN3R5dPLrGWTvhMPhtra263IumBLoNn5zc7OqPcO27TfffJMSVlziJAs3Go12d3dPudgQIRxOhIYEIGiaNnd+wOvTuKY5J4gxlkwmz5w5o6rfjWVZ/f39qmqukLQcPnxYbc2VlpYWJdgo96WxsfEGrbnCGAsGgwprdcRiMaq5ogSbbdtDQ0PSvnAPkUhEyUxgKgt3ZGSEuOfQU4xxJhjMrCrSucZ40hZafzBqCwtxiq3eMIyRkRG48W4v0eji8TiV5VDlH5AVa5QM1rKsyWUPUSAaNtojo9FQ1GaMAdcqZ+Qx0NLCP8T/kZERhe0DE4mEzABXApcvX1a4cg3DiEQiqqI3QoihoaHrcnDJKIZ79913q/JzAcD8+fMVBh9ycnLuuusuhW7ghQsX2rbt3g1MJzKv17tx40ZILRIHkTYAFBZ6ikt8/cEEA62vd1TYTOMcUTA2zm5Ea3XGjBmUuXKjmXvksqiurq6srFRFHiU3ONNW3ZCHiIWFhQUFBZNMLgNmIyDawcGEECgQc3KwvKIAABAFwFU/pMlVWJ6ntrZ21qxZSrBRLOiDH/ygqmpJjLGqqqqKigolM8sYo2pJCnOPM4eMKk1dafGlyLIgr60SVADAUhnOahG6H6+M8dGqGKP1BAPuz/dUzSroHwwjYFfHsG2h1wMI9uQ2+NhkzhsEMJVuKgMvWVOIqaRWKS0uHcGYyr6cUoFyplt2sv9SAhjjoBWXaoEiH2OCMS0t8u28PuEeyHepSodSrGBa5XkywanKvKDZvF4CnJEY4TXoow6OJgZKEKrSy3ImlGi9cTEDHXGZlpvjnT2rkIFXoH2+OZhIWgjWRF+VwUf647pskpmAqomQ24ZE6AYtS11uYY7k7fHeAxDMTNrnzg4CGsB4WYk/EMhN/du1WqXoAFUI0/5wj1CtR8X9nGYNGVWaokO4whguprKTlCCU7FNCIY1UbVCYcF6t5TUGzKt75s0tA4GI0NkxFIkZAIxNtbSEo/+DEgpVgZNp7hmIqUvsoCJNRO6Lkm/jcw8BAMwkO3GqhYFAFEsX1+T4PIyN4+FRe8IgwtSGNdViuxaK77qYexnpHbqhpeqTqLoKm0KNDKn0C3At0zIKiY6UvbR3NI3PmhNAZjDGk0lsuzCM9mQGhdNgudFUHoHM5HCf2U4nIOHoDeBmlsdmEY6LDQEQrIGB6NBwlEEuQHLewjKPZ0I3q9pkDlCqSdUqqRucvGlBRqrn5MmTiURCFYmDg4M9PT2qsFHHFmd5KJfQ39/f3t6uJLREGqqpqYkSa8a7lAolJXm6Tj4jvbX1srCtSfJXEHF0dLSzs/NGC2UQMMZCoVBLS4t7U5TUk2maLS0tlLkCrk+4VGhkyswVZGZnV79Aj0DOGVbXFHBtfFabpnn+/HklMVxEtG17cHDw4sWL7rFJnCdOnFDV54tkTyF5lmWdO3eOGmm9zZDRCbevr09h/HtkZCQUCqlyA1uW1d3dTeWtlCAcGRkJBoPOkk3ZgXRIUUsUeTUtDYoCuXl+HQW3gff2hU00x9YgkAgBwDCMtDp6Nwigo+aKEoTEPaqtNpGxPC2gOh/hcHgSrccAbGH2XEoAeAQzvR5eVJxelEViA4D+/n4l+XoUyohGo1SDTwlCAKCl4R4b7bLRaHRoaEiVvSKEoKJzSrBNCzI6KFmWpTBcJa0AVYdcOoArdMOhihuC8tztrJc5dsjxuPH1b7x6YP8gY7ByZfHXv/6+/PzcSTJX4OpbblmTh4AAbHR45I5Nmz72sY999q8/53GX4iBPfODQ+C6jrmQByXIG4G7I0rsqqRoHG2LCiD/55KFXd7SjsGtrcr/3ww8XBfLGJU/6u1WtC8Km0PlDOVgKly06bgq6BHlB6+0/tWTEX+XhQrU+ApaqhKMEG7i2KSQSlmoBwyfsd4O6Dresq+MaAtjDg8lEYupRKMyWUA60aFWRxzmnOuwSuRtsMvY9OQOTSa2/Nw6AGmhLltR6PTiRzwEz6CaeIci9Vu3mrbz6gFoH+o2buaJwaq8RzmvBO/caWcrxpDgZ59rcWUVeyBHMHhyKjUbNKTv3ZEGbe0dbhl9RiCot7OASeZrqnNCQZxgzzZ7+EANb42zRklKdeye/KagKlEeolLgFxiJUQiTN742r9eAahG+uRQjyRgtrOpk2ifxxxquqi70+wRgYhuhoC000COnRz2463gbmSPNWFbZJ/jNrbE5HwdjXEGF0RASDEUTknC1cUsX19OTkMT9RliWq3LZQuw+BOgPt+h5WMtJ61NpKFaFUxIUpKoODiPISrhIKKfdC4UZE44WJyfPni5w8GwCE4EcPtdr2+IEjlkrpovFOV78oLL8xCXmywAyoSDSR9X5UrV5qwzKJM04gnDreJSwOgLpHq6zya2zCXCJMteNxT5j0iioMG4LSkjCyiY0SbNJpe10slYy03v79+2X2gHvo7OxsbW1VlWhCnZkU1lzp7OxsbGx0Tx4tKsuyGhoaqO7FRAh1DoX5TAMdmNXUNBiLjR/Vop8PDQ1RS7Apd12Rgmg0+pMf/fjLf/u3333yyaGhIdu2BQrlskbkDQ4OnjhxQpWeoq5dlDXl3tZDxFgs5mzgN/4X6y8gMI158/M8OV4b2YRqyLZtqvfjhjAJiHjp0qXTp0+rwgYAe/bsUZUaQsUCzpw5o2qhCSGOHj2qttpChpCR1qOmM8oKG2pvAAAgAElEQVQ+qe42HwBgqpUqKDprUMtU91qP9ljbtol7EyoCBhrXVqycxYEDs0cj1lBwslXEGKMuPFPu4WRNJ5PJZ3/2bCwarZ01+7Udr33l/345Eg6La+Djk9aK7JHqnoG2bctueS6xySmgDl4TvRaJJINBAwEZY+WVXo/OgPFxPa0kIc5egC6BNLvCyCFjTGHRENplFRa4p97T1+Wom1HNldtvv13h/YfZs2ejuhtpPp/vtttuU3jCnT17Nqi4K0M/9/l8q1evnvQ2BTLG3/O+NVtfbbOSLBETA33xuXPHSdqjjL/S0tLS0tIMCdA0LRgMFpcUf+TDH+GMrbnl5r/90t+2tbUvX7VCubSRkq2srKysrETXJWMJg9frvemmm5Q0MCCEBQUFBQUFk/gfQyPx0eEkY8A1tmxVOdcYCD5eHtGVzXv16tWq/Fyc86qqqpkzZ7rHBqkD6bvf/W4l2AAAEUtLS2fMmKEKYU5Ozk033aQK27Qg02iG2hC48l0I1KXX0B6uyuOAmWQmoj1nXl4g4EdEM4kDfaMw8afJ75OJUqbjbVlZ2X333afpmubRyysq8vLycnJy0tcxIqAC57dM7SYF7dKvR3pKVYUe0nRyr53IUg4ORhIJBBQej3b7nYsYQwZi3Bgupq4Jqz0GqUIFqSErXGUTJ2BNGyaPKV1r0B588MHi4mLJbtu2L168GAqFCgsL5fBs2z5//nw0GpXNsInWkydPxuNx+aYQgkoHCyGo+xG9Ztv22bNnDcOgZmb0cjweb2pqYqkuUySFkUikubnZ4/E4uwvTJaecnBxnk9NYLNbU1KRpmrMnZDAYvHDhQn5+vrMrLhWADQQCVD+KiO/s7Ozs7CwpKXF2iR4YGGhtbS0tLZXNJWzb7u/vP3/+vLNfn23b3d3dXV1dM2bMkAiFEK2trSMjI2ksam1tDQaDRUVFchkLIc6cORMOh1N8Y0zTgOG+XZ0joQgKvbDcu27tTM7BtsWZM2eoPat05NENPCFEXl6enLV4PP7mm2/6fD7nkSEej1+4cMG27fz8fDKXTp8+PRoO182r83o8NEFGIvH0M880t7Rs3779V88999wvn9u7d9/7776bMRYKhZqamqjVBiGkZPrW1tb8/HxZtc227eHh4aampuLiYvkmAAwODhIz6T9pint6eojtkDpyCiE6Ojr6+/tJCGVlis7Ozt7eXvq59IdcuHBheHi4oKDA6SE5d+5cLBajh5KkxsZG0zSdLKLKvbFYrKioSKbskRACQJ4/hwEItOqP9ew/2M4ZlpYUfPS+ZX6/F0EDYKOjoy0tLdRUlxAiIrV4J7bLPSMUCjU3N+fm5vp8Pqn6I5FIU1MTvSnHHgwGm5ubicMyPEXiSiaVFKSurq6uri5nR1BE7O3tbW9vd8oweQbb29tLS0ulkhJCtLW1DQwM0MAli1paWiKRSBrfWltbh4eHCwsLeaqnsxCioaEhHo9LviGiaZrNzc3xeLygoECKummaTU1NpmkWFBTI4GcsFmtpabEsSzYyBIBoNNrS0qLruly8iBiNRs+fPy8b4EoZbmpq0nVd7VmYp90IQUTLsizLkt9gqYtQY8O4yWRy7JsyROt807Is+RBTGRgyQuLMpaL+55IYkgYi0mk+cM7p/qNzr0DEZDKZtnsIIQzDkCpPAjVkkP9JyzKNG6Rlxn040Rgl2fTQtm35IancDcMgnIgIgChsACwt0wHAFmbbhUFhcwCOSEEzO+3AaBjGWFOFvpI2dmIRaZN4PH7q1KlPfvKTMKbRGi3gWCwWj8eNRIIxLn2CY/MNnTMuTU7nrDmZ6VylxDfC6bRBaIySOfRPtm2nBdAYY8lkkq4eOsdIUeM0bpC17iRJ0zSKfafRmUwmhRAIdIsGms9eZqADevMLtUAgD0Gj+eScJxKJtE/TFTdpAcl5l3PhXBoUk0mbICkG8k3iW9prxLe0MZJojX3TMAzn/DrnIu3TzqkkSFvRkiS6neXkGz1MW0HEYbw6wSAejztLSMivy+oSUpivzIXjNWI7qIYrWiZN0aAjTRxT4XnqWC5fg9RVMPlQpFqpyUUu/zPtvDP2VhA6CgFJ9S8XAIwx1zFVk4c72nVLDjqPzzINxTltUpWkDVzmNMh9kkbqPODLN6Vp49TdaescUx5MdLjk8apjrxDCBOb56b8fef75s2aSlZR4v/Odu2fXliNaiMC5ljbwZDJJc5HGDXb1SV8STzx8+eWX58+fv3jxYnpB0zXG+OjwyMaNGz/0oQ996lOfIvK8Pt+MGTMoVYMoT5tfIYRkr5wveSmQKKFj6biuW3Tc9nNOetoVQNKDNKeSz1ISJp9KSN2hdHIDU14LeVXmKhaBBiDC4cRn/uqFjp4IgLZ+U/nX/vGDjHNEQcswTYpktIql3DWSG87EHZY6VkvRkpPiZJF8TiSl9SknW4TiME7Blj932mvg2NVoXuRKSVsUaQ/lVuGUYXAsc6m5pGJKk/a0gcvX5GaTtsydCwEdF/LSSGJKL/wAAHfqMkiJVJrTbe/evWlbDY027bfEGpIqyTv6Qz7knHd0dLS2tsol6nxN/tw5TiqomzZswqlpWjKZ3L17N2WuEElpZp3E6aRf07RxB67remdn54kTJ6RdQF9JGzu9mcYNJ51SGmzbrq+vD4fDUjolztRbXOM+jWtLllR6OHAd41Hz1JkBQMGAa5ruFCxEDAaD5BmAq4VPclhS5dw/tm/dVjZjxuJFi6+sNE2T+6nGeWEgUFlZWV0zs2ZWTXlFOU/N1bjz62SvHKl8ePny5ePHj0smy8mVQMx0TrGUNyfr6NOWZR05ckQaC5LDk08lPUzjBj00DOP8+fPSJH9rfpkAhI6e4WAoiQx1rtfNKmKcVu9blKcJDKUlSRvQKe3OVUCjcwq2/IP4JtF2d3efOnWKguBp0k7B0zTBpoE7qZKiRRzbsWNHOByWD52/HftQsj1tfukhIg4MDJw6dUr+1intaQOXq1uyLm2Zc86TyeThw4fD4bD8J+lZSiNJYQyAIKMYLjkjVIEsC65kJIyx3Nxc93gk8JRnQQmFiDiVS+JKFdElS2Z5fHYsyZO2aLs4LBBJotKw0SK/8stJyaMhGIbx2o4djacaV61evXfv3uHhYX+e/wMf+AC7egEDy9JLPfZXlKkjFUEmP5kIMJWWNF3axn2fNgmZuXL1OzbjWkfboJG0UQg9B1evmTf5lQzC4D5zRZJBk6swNQQRyXGmChvLOHMlk4/SQnPJvexgaq2HiBs2bAB1l0hqamoUDtXr9a5fv57+VkLh7NmzlWTVkNLxeDyrV6+G1DFzklB4cYl3dm3pmTdDQti9PRHbtrnGnO1pyNYrKipyBpomJ4DiD6+99pplWpcuXbKF8Hg9jzzyCAAATrmos4GysjIZ5HEDco1R5gpTcdGNMZaTkzNnzpyxWxqCABAdbaOWCQJEoNC7eFn5lAh1XV+1apV7UYGUtV5ZWVlVVeUeG6TE74477lC1bDnnM2bMyDBrakqg8d50001qjbgMYWqtxzmXnikln+QOt44ShPIMqAqUpOk4j5+Q2skneZ8xXLpsVlNTzLTF0HA8FjOKvD7nC9zh+cpQ62maVldX973vf59Bap3L310bYVM1F8xRqEq6k1wiJBeh063mOMpxyzb7+xIChc/jr60tzs3NtByRQtlTokAJpNSptfUUDlZt17BpQUYnXK4uT4cg86WbOTZVcL2o4gxqZhYAIHAYCkVHQ1ZxUXo9y+nyTbpXQB6kUzBlZZfpgvJN2+ldUoIwTYyv8h+hZiSxty8iwDYMPndOwZTq51oYKcolWfmaVQvXxdCDDLOU34G3BbCqplD3ACJGwlbT2WEA/vbUOHoHGMPBPisYjDDGcnP16poSRJVVAN6BGwoy0nrUlULVJ2WekapiFQp7egDA2AS97EAmuFAWEkyZho5QUZGfn+fhjFsmO9HQLvAq/sjMhrFZWjcCyCwHyrNTciylyVV1/4FIkhV6rvonwKP1zbGoCcB0TdTMKsKplgYhkZOrijYlBd8hRR6Fv5UghJTsKcQ2bubp2wBTaz0hxKuvvhoOh1WttAsXLpw7d05V3zXDMHbt2jU6OqqKvNbW1oaGBveaBVMJq4cOHRoZGZnSw4LAZpT4C/JMBLBtq6snbo2p6kOZKw0NDWPTPq87kKesu7u7vr5eST0iCkC//vrr4+b3ThdodY2MjDQ3N4+tXoXITp+9mLQEQ57jg5nVgSm1HgAYhnHo0KFwOOyGMAIKdnV0dNTX17vHRmBZ1vbt21UVNUHE3t7ehoYGVdhM0zx48ODQ0JAShNOCqaeWYjcKA+p5eXn5+fmqfJlEnvRSuwe/3++8u5M1SB9cUVGRs/PDhO8D83jsNTfPYwwQcXgk7NxWZXaox+Ohm0lw/dwi4wJR6Pf76T6TqqhraWmpjGm4REXcy8vLYymQ/yqE6LsUJ5dCRYWvpNjPM8u9SLuH5wY457m5uUVFRUqwEcKysjKFK9fn8xUWFipBRQl6RUVFXnfdWrKDjCZMpoYoAaoqoSq65PV6165dC2OiclkDJdaoUigej2fVqlXgSE+fEBA4F2tvW7B583nDtOIxs7sztHBReRohlLly5Rc3Un9IIqa0tFRes3VJGyJ6vd6VK1fKcKR7IvPy8ugibVrKXjRqRUYZCtA9fNMdqzQNAHHyMDcF5VesWKHkyELsUpi5AgCMsY0bNyqM4ZaUlNDkKsGm6/oNXXNFZpMr+aRMxVaLEBTZPsxxScA9VRKmXBvIbIaemurcosIcjhA142feHEIQTmzOKKTyfB2XwK++XQOup0MihDG30LIAdvXdDyf3EKGjN2wYGvCk1+NZtryEMZiy7Kq8eOCGKid512JRqM2qUT7e6yXD78RwbxhgHJhWUOArKc0BAFvA6cZOMcHiu6H03bhwg+dMXA3YdLY/ETcQIVDoKyrOAQDOb3QOvwNZwzta74YBZADoy2GV1QHGNDPJWs4NXI8A1/9EaDjaaZo2Y1pRiSdQyNk1yGd8B24cyEjrqY0YYqocoxJskKozoTCgqapDjRxpJpkrjNmMaRq3aqt8jJscxHAkHAolEAWiQIF4DcpYKgRJG/2vkuZEMtFE1ZDlRCCiQGGjJWw7ZiTPNV+2QQCyshm+XF8OMsamWhrOmXUPRJKqXjwSodq0FbXjpcps10WYM+qH++qrr4ZCIYWpIefOnWOpElIuIZFIvPbaa5RYo4TCCxcuHD9+3H1eEtGTTCYPHjw4OjoqMqgtjAK4xuvqygE4oG5benAwIdAGfOt20dDQ0PHjx6+XuEwCNLqenp4jR45MHbrJAChz5eDBg9Fo1L2uJxUQjUbffPPNqwQPcWQkaiRsAFvjOK+uwuPxArApTT3GGKUlqUoNsW27q6vr8OHDSrCRhtq8efPIyIgShIjY19cnC+q4B+rzdYNmrgBASUmJ1+tV5V7x+/15eXlKFgYAaJpWXl6uMJrh9/sLCgqUpCMwxjRNo+QGNnUnTA0BONPrFlTm5HgQEYV25lS3sE0GAGDJ3Iv8/HyFYU1VQErZ5/NR7oX7AC4AcM5LSkqo8pIS8hhj1DcDABgwBhyB9XTG0GaIlkcXK1bNzpxyznlhYaGS3AsSlZycHFVBUoqNKMxc4Zz7fD4qnqwENE2TSV1vM2S0tteuXatwgVVWVoK6rAsqaiK1gHucVVVVlD2gBJuu68uXL5dreLJXryTk8aJiz7z55acbuwRi/dGWD9xbp2uIYDPQGWOBQKCwsPCGylkhIHpKSkqo+jnVFnWDjRqkrVixAlJpSW5GTRhycnJmzZqFV4pfCAC0bXGmsUvYoHEoKc6fNevKqs7kW5qmLV++XGHUtby8vLx86lovGQIiqs05Ky4uLi4uVoJK5v1cFzGeWuspNKMIFBaWuBYI5UjdZ66M+/fEPwBq4pPrz1m5fMapU10MoL3HjkTR5xWM+aaN0AHyfH3thIwwS03nvm7N2GKubrCNm/oDaJlW8uy5YWRJIbT586ryc1mGjLoWWRcKJVn5KlOeB6MKVTZfv47ffgfGBU1j1TUBj64Lmw8PhcMhE8CtC5nk9brcebyRAUFLxEV7+2UUAKjX1Pq9PpW9AN+BGxPe0Xo3IpRX5DPOATXTxMsDCURkzJXCsm07FAoFg8EbyhV4vYEJwKGRxGAwSt13Z84u0rR3VsR/f8gohqs2YUIIIVt/KUGoKtGEQMb73V93l+kI0+IeA1ZW6p9RkMu4EMh7+sMWJoXFZFKI/CNDhKZpvrpt+x/e+79efvGla6f1JGE0XiXzK7G5l0A5F1JaEBGE6LkUBuYFBl4mqiu8DDK19dQmYDnJU4VQbZKT8vHKmVWCcFqQ0c728ssvKyksQdDS0nLmzBlVboJ4PL5t2zaFmStNTU1Hjx4d2x9vukA/TyaT+/btC4VCGcRwJWAg4CuZoQEgcHHijS7T4KnONay/v5+SGzInT9f1d7/n3TNnzmTX0plCzO/q6jpw4ICSy0aU97Nz507qDegeIWMsEolQvR9CZVnQen6IgY6IXl+8smoa8VOKt+zbt294eNgNVRKbZVnt7e0HDx50j03ifP7555WQBwCI2NPTo7AkjGmau3btui6ZKxlFM5YuXUpNW5RAWVkZ6RQl7Sk8Hs/ChQuz6ykzLpSXl1PbbJd4MNWzbc6cOdQVJXPycv36mlvqzrYcZ0w0nrgYja7Py6Ei8Jifn19bWwtj7s9PAgyYz+vzer1CXRLsOF9hDBGLi4tlsNV9oNnj8cyfP5/yfjIf70QghPD5fGVlZRKJYZjHGy4KG4CzpSur8wumJ+Saps2dO9fvTy95nQVQTJNSxNxjkzhXrFihsJeWklpEEnRdnz9/vuyq/naCnkwmPR6PlANEpIbBMo8GEefPn089g53JNfQmd/RIxFRFOVmtQAprMpmULRYp+O1svcgczUCppY6ziRqZ/WnNIYUQlmXRmwsWLKCH1BCaWslJOqmIqdfrdU4Ylc9L6/BLH6LCEpIkssOdsoipzqpp3KBe1MQNOXbbtmtqaogeluoLTK2sie3SPnX8HD06W7JkBmeaQBGJwqXecNmMXM44Ivj9fl3XhaMpLaTMIiLSySLTNDVN07UrWoNzTtzQdI1rmtQfF1pbd+3cxTUNAPx+/4YN6xnnNL/OXDk6Mdm2nSYwNL/Ejfz8fEonpLsZaWuYmDl24MRMdHTFlRM0d+5cGVQl0UrrE0h9uNO4MfZNYhHn3JEagqOhRHd3lOtoC33dbQu9Po06/tKu7FwCJG9juVFdXe3sZyLP+GltJEk8eKoxpsQg1xQJTGFhYUFBQSKR8PmuCtmTZKYxk+42pCXSmqZJbKeHixcvhlSvcWdLz7GLFxxr3/mmlCJN02hy5WEcUtLu/Dr93DlGkWpRLXvvEIs457W1tXKPpA+ltaZ0LnNQB3zv3r1OVwJ1IK2vr5fHMZLg3bt3NzY2Os9oiLhly5bDhw87HxqGsX379ubmZnR0CxZC7N69+9SpU87bRbFYbPPmzR0dHeDwQYRCoa1bt/b19ckx27Y9PDy8ZcuWYDDonN14PP7yyy93d3djKvuUMdbT0/PKK6+Ew2EnSR0dHdu2bTMMw0l5Y2PjK6+8QopGPmxtbd28ebOzvSkinjlzZvPmzc43hRCnTp167bXX5LqlQR08ePDIkSPS9UZQX1+/f/9++rnkxvbt251v0j/t3bv31KlT9IAzXlmZxwE50wyTtXdQFIJxzuPx+EsvvXT27FnnGMPh8NatW7u6upxn/FAotGPHjosXL9KVUhpOJBJ5+eWXu7u63xoO4uuvv/75z3/+M48//vinP/3Ev/yLbdkA0NXVtWXLFmdpX8ZYe3v7li1bnIcmROzo6HjxxRfpHCor67W3t2/dutUwDJIuovbUqVM7duyQ/iZaZg0NDQcPHnS+JoRobGzcvn07uxoOHDiwb9++NI/hgQMH3njjDSc3TNPcunXrmTNnnK/RRYX6+nqHBcr6ekcjMURMaJo2d26hrmkIaJrmq6++eu7cOXDA6Ojo5s2bu7q6nNwYGhravHnz0NCQnG4hRDAYfOWVV4LBoBwLAAwPD7/00kuXL1+W0iKE6Orq2rZtWzQade4B3d3d27dvd44RERsaGrZt25ZMJp0Pz507t2PHDmchcck3cXVD+mPHju3Zs8fJIjqbNzQ0ONe+bdt79+4lyXTO75YtWw4cOOBcaLZt79y5k8TVyfbdu3c3NzeTpiPMkUhk8+bNFy5cYKmMS0QcHR3dvn37pUuXpLQIIcLh8GuvvdbV1ZW2zF966aWenh5U56AEABYMBgsLC6UqpWAf5zwQCMjNyrbtkZERTdNkT0I5wV6vV75JG9rw8LDf78/JySGc9DAUCnm9XnlypI03HA7n5ub6/X55GjIMIxwO5+Xl5ebmYuqUZBhGNBr1+/3OowT93OfzUZFIehiJRBKJRF5enrMFbSwWi0QigUBA7p+kXk3TdKaGCyEikUgsFisrK5PcEELEYrFoNFpWVubc5MPhsGVZsroncYOcd4FAQBZMFUJQkWfiG0uljwwNDREzpZlAD30+n9/v55wzhkNB45OPPD80nGRM/6M/XPjoo2u9Xg8AWJY1NDSUk5OTl5cn6TQMY3R0ND8/3znwZDI5Ojp6hUUIDz/88IaNGz760EOxWCw3N9efn8eAjQ6PbNy4cenSpXfccQfnHBgrLCx88IEHuK4lEolwOBwIBGQ3ZLrRlUgknBcSqGT86OhoaWmp3OSFEPF4PBqNlpSUSIOLmJlIJJxVUYmZQggn3wCAOFxcXOx05w0PDzPGqCStfDg4OOj1ep3ckJJJb9JDy7LoIbEdAIQttrx87snvHkZmaho8/fSDs2qKGBdm0qau7TIjFxETiUQkEqFrRfIhjVHKGw0nkUiQuMpetCTDkUgkTbDp58RMafJIZsoxImI0Go3H48Q3uYLC4bBhGM6yprSr0UMnN+hCZCAQcE7Q8PAw3fNxCvbw8DCtfbl4bdseHBykeqLOxRuJRHRdl2ynZU4dxwOBgMOHYEQiEY/HEwgErmgcxoiZtPblJkQrmgQbUkcW0zRDoRDpE5UN5CS7JeOkUpcv0ap2Wp5SOtNec/4x7j/JiWQOv488+smXne0o0347lgbnQ7KcJ/m0fMiudixK6yPtSdrDyUeHqTNa2j+NxZA2ChrvlZWDyEBEw+Y/f21P/bEetNn69VVf+ft35eflSmzy586zQJpYOAeOtnj44Yc3bNjwiT/70ytiCsAYGx0euWPTpoceeuhzn/986lxDZiWwMY7XcVOdJSfZ1Y48mrhxJTVtutNoJla8Rfl4M+L8reTbWJLGzprj52ia9g9/cOR3LzQzblZV5H/vBx8sLQ4gCMa0tCUwkQhJMQZH2q2UWKdsS6lgqaBW2vCdqMYOHMYsGTn2cSd9rHCOK+1j38xwmTunadxvyWUuKWdjbtdItjhflm9OToNL0NPQpQkQQTgcdmrliSiY5F+dT8hQT3NCOSePHso0+olG69wJaV9N85tMSerYjzLGksmkZVnkAx67yCcf3bh6OZFIkD9oXP6M5QBjTNjo0dnypSXH6nsA7J7uSCxp+3OvnJgsy0pzU8J4ye7Or1zJJknVRGGMAU+jAdmVJ2/9bspPgIOTmPLqmqZJVvkkNTIn2red80KkxmKxvLy8ScqUTjTwtOeMMfLWWZbp9fqAYSJptnYNMwbAYE5NiTdHQ0AGOmNTzzikJjcej/t8PqfUjZXYNOInsVnIVeeUvTQaxsU8Lqm0WkdHR6U5Nlbax/52kvswdGilpTEuh6ekOY0zdErw+XxjJ3eiv1VBRvl6mzdvHh0dVfX5CxcuNDY2Oo04NxCPx6mZEbjOsCNobm6mbkEux0sDNAyDMlcyp42R/On6qptqOefAkr09Q309SbLOBgYGjh49iinIkBQ6ffT397/lslGduEcy3dnZefDgwXHNmSyAuBeLxdxLC8V/wuHwmTNnbdsEFNFRq/lsLzCBCKtvKfN5c4ABsIyniTHTNA8cOKAqNcS2bbWZK0KIF154QVXNFQC4dOnS0aNHlaCiLW337t2Dg4NKEE4LMqo+sGbNmjRbzw2Ul5eTd1/JQd3r9S5btoz2HyXkVVZWFhUVUfshlwgZYx6PZ9GiRbJXQ2YIERhqupg1pzDPnxuOhdD279/75tLFG5BDQUHBvHnzpkUYIgSDwW9/+9uapiUSiSseFtU7KPkWZsyYIU08CmVmjZBikUuWLKG0JJfTQb/1+Xwzq2sYByHslubuRJwDWLqur92wQNM0AGvKsnpOhJQ/kJ+fnzVVTiDuqUoRo3Pi2rVrlSTWEMLi4mKFzjVN0xYvXqywiEvmkFG+3uLFi1XpFAAoLS0FdYarpmkLFy5USB6VDHGPjTBQStc0ETIGHBjP9UJRiRiN+CwGZ5sHo/FwIC8/Lz9fnvgyRcfZzJqZVxCnQHmtYFJwgUDAGQdzA4Rk7ty5kxxvMwf6eU5OjrfCx5iVtOCNE0EAE7geyNXKSv0a44x5prUbaJo2Z84cJYJHAlxcXKy2R9qiRYtUrQvGWEFBgSolxRjTdX3evHlKsE0XMu0WpPB0rVBDEbYbnLysEDIApnG+cnWNR/cCiMsD0ZHhJDn9stEpjME18I+MBeUNZa5BQR3BQIvHjPa2IAPOgFXX+D0ejXxQ08WmXPbUjve/49JQAO/ctb5BARE1jW/ctMCjcUAzFrYHLyeBAcI1vF/xPwE4ZyhYNBwf6IsJwbnGV66Z5UjZfgf++0NGWg9V32RWi01htwECTGXbuUQiI/fTxUZ7PuesrjaQn+/j3BNPGF3dUVskQXCFrFMIzvQdApcMdKZ2q4p9AQDaICB5ecgaCSWQQ46Hr7mpKguLY3oBpcxA4VV85WsWVC/ba8HADCGjGO7Q0JCS5i8EsVgsFoupKrdA6cF0gUlVUJiyOt2jglTWN3PzFrsAACAASURBVN1wmC55jLHS4pziGToCs1Ecrb8obGYmr2Q+Xy+JmQQQMR6PU8DaZfABU/fnhoeHlexqtGJN00wkkgLF6dMD8aQNnOX7eV1dRXZaT8qee/IIWyKRUNWFg2BgYEAJeQBg2zYlEivBhoi0NJy3nt42yMjW27lzZywWU3UC7+joaGlpUeVxcCY3KEHY2tp68uRJWZbDDdAyO3LkSCQSyc6FoemiotqjcWAArc2XQ8NieGRIXg28Lj6RSQAR+/r6GhoaQFE4iLgXj8fdWxmMMbql0HSuJWnYhw6cQ0QNRGlJTklxThbEMsbo+qbCckQ9PT0K2/EAwKuvvjo6OqoEFWOsv7//5MmTqvZa4p6qvJ9pQUaZK3fddZfz4pdLmDNnjkily7pvyuPz+TZt2kTkKVF8dXV1s2bNck8YJQN7PJ7bbrvN7/dTF4jpIkG0l6+sOXp41EqYkVFsaeq+df3s1atXq1LxCoFIqqqqkrUb3DjmSUlpmrZ27Vq6jaTEfiwoKFi8ZGH/5dDggMEANA61tWWIJmPTzhdBRI/Hs27dOiVhTRpaTU0NdZVRhfDuu++WV8HcQ2VlpbxN6BLICFi3bp2qvJ9pQUaZK3QdUtUnZekbVfkNpaWlCslTld8kU9Xc5CJw9G24dekvnzmTiHPLtlrawus36R6P70ZTeZCazZycHLq3655CCgfLyXWfuUK7jscDbZ2dkQQyxjy6vnbdbGA63dCbLnkAUFRUpGQuCBvd0nWPTSKU7QOVIPT5fAorzqnFNi3ISO/cgGvMCTc4eW4AAcorvdU1RYwJG6Grc4RunV5vut4+UD5YFFZHa9A0ERjm5WlLlpUx4FknbSsnTy3C/1Gikjm8k7lyYwPjXDPq5ldqOtiIPZfCpn0dvL//nQABO1ojtgUAYubM0qKSd5JW/sdBpn0zVKYOOEAtQoXYwPWtXmcCR9aZHMgNLvx1tTk66CC03r7Bgf74jRnABYeoKBGYtEqFKqZDCGHGk9DadpmhydA7Z3aBz5sjIJso57WYBbVirCpNQiLMToYnR3hdxDgjW4+Knan6pGEY8XhcFTYq0KYwZY/K+U1UCmm6QJXmsuYeA8YYr51b4svRgIl4zN6xvTEajYKiUgsKgdYDJTcoCX8zxmzbTqsR6wYlAFiWOHG8d2g4ioxpOtbNL2UAgNmceFiqSquz8Kor+lJl+JRgIxgZGVG4cpPJZDweVyV4tm1HIpEbN3Nlz549lBqi5JMdHR3nz59XhS2ZTBJ5oEgRtLe3NzY2qmrhZlnW0aNHKbkhi+gNIgdm1c6dkZOjAaCZZPt3v3n69Bm8uhzbjQBEz8DAwPHjx93v4aQ3KbnBWS7YBUaBiLGo8dtf7zEMAKZ5c7T5C4sABGPZlEigiufHjh0j2XMJZEZ1d3efPHnSPTZIrYWdO3cqzLAbGBhobGxUhc2yrMOHDyssCZM5ZJRLsXz58rRC/lkApqoGzpgxQ1U2HABomqakmZFMjCgrK1PSLYiAMTZv3jwKW2eVeMEZSxYGchYuKr0c7EPkyHIqKiuFjVzD7JbrtQPGWGFh4dy5c9Fd2ooETdPmzZuX1hoiK0BAAQK8OV7byrNEzLZZWal/3vxKAMCsrijL+/M+n0+6RFwm65SWlkps4C4WQb9duXKlqm5BNLlpTUvcABVHuD7dgjJ5qa6uju5muCwcRElYJSUlkNIy7puAcM7r6urcl+WgBCJEpLoXSpKoEdHj8cyaNStr2jhwAE3n7M7fW1hfP2AmRdwAXQtwjbErZZFuFF887WQFBQX5+fn0t0vFxxjTNK2uro6Oui6xIQAicM0bjSID4fVoN62uyfFqkG1EjwSmpqZGJta4z60pLCwsLi6mPj7grnYAqc4FCxbIMt0ulTIi+v1+Vel1RBItjbcfpuZCLBZra2tzb8bLKezu7u7o6FBynkfEZDLZ3t4+NDTkMn1ftjjp6ekh8pScH8PhcHt7+/DwcJbRDECBDABq5xblFegIdjgSrz/anrRNAYA3isYDSM1vX19fe3u7sy1U1kBes9bWVhWFJxkAZ0w7dfz8yFAE0KPrfMnyUpfkxePxtra23t5eTLVGc4PQNE3iHql7l/suYywej3d0dEjuud02EAcGBtrb25X4MUkXX7x4MRgMusc27a/T/zkDl+FwWN7dQ8T6o0cffODBbVu3uncqk6B85ctf/uxnPuM+oEEEnz9//qGPfvS3v/1tVufHt4D2ak3Tnnjiiccff3xE0UWZQ4cO/e8//uNXtmyBrMw9hiCAC4SiEl9hqZbMC8cKuv7t+Z+2DbQLASBAAAoUqmvlZQN0Q+vJ73zn4Ycf7uvrU9JxvOHYsfvvu//nP/951goUUQAiCkTE/mjwH5762pC31fSP+vPZrFkFSFUGs+VeS0vLnz/88FNPPQUqikRZlvWtb33rU5/6lJIADiJeuHDhow88sHXrVmcdBzcIn3rqqY899JCqO2R9fX0f//jHf/bMM2MJk08ikUjSSKKYRjXITLZbR3NPgfF4fN++fc8995zTbjJNMx6JWKYC04zEwkgkYpEoILg83sr6XLFwxEwYU/8gA4QAEI/FEtGosIVLQ4qWgWVZsUjUNJLUxHvaWASzERgKkyf53IvRJa+HFtb3Ljz7pV//y2+Pbx81wogCb4x4LmOMA0smEvFoDOlI5doUtU0rHo0ahpHd+ZFOtWhbI8bo797Y+qmnv9Q1pze4+HBk8RFtwVlvAK+8kBVtjDFh2bFINJFIuPeHMMYAMRlPxLO9sj0WhBDRcCSZ6onqHmciFo9HY6YKW4+ISUSiRsIYV+uR+RwJh3/8ox/19HRTR+BJMqLorCZNt8m3jSvXG4Utujo7/99v/z9f+tKXKisrr9q1rv+CevvhRjk62szWBCRt43dv/K5R7DULQrY3gbpoCl18cuf/t/n0DjtpIIIAZVlUruGGug2AAJBAa/vZvU+++sPmkfPoMcEjooFLbfnH/+v05qSVYCgE+x8p49OHazGz4+KUrtJAIHD06NHH/uqxvXv2UD7ZRBu8TGmQanESxacnk8nh4eEd27b//Oc/7+7qKiguWrJkSSQS4YxxzgViIpGgGjiRcNjNnXwiNh6PW6ZlWVY0GmU8+xUiDZxYNCqEoEa6erbG45VjDgNAsC3bsqxYLDYaDruZZhpv0jCEENSaFhE5nwZKBECwwNZahi/+on5L3IozoTHONcviHi2SiPz62Ct31q3L9QR0sBnTM0eNVyrIs3A4LGw7EY+HwxHdo4M7yTaTZjKZNC0rGo2FR0cRkGeLj+SXssMoB5BPi3cAACAAUYhhK/rcod8N2zENGNgWA83DvHHbfPHE1nfNW7ewpBaZxqZPKALE43Hbssxk8kpdE3c+lngikTQMYQsaLCC6Mc8EYiwaE0IYCSMcDnt03Q02BLBt27QsUgVh13VcECAeiwnEpGmGw+E0TSActRpvueWWH/7wh5/73Odu27D+k5/85Pz58wsKCsYeEynvp62tbc2aNZzz06dPV1ZW1tXVjft19t3vfnfb1q0Xz18gs7CwuHjBggWMM51rpFiGh4fPnz8/e9asispKzpiLZcEA0LbtluYW0zSXLFmi6fr0JfkKkEggYiQcPnfu3MyZM6tnznRpZjBgnPMzb76ZiMeXLlvm9XrcVfgAAAgGg21tF2dWz6yurmaMTfc4ZYHFkI8WxtuqwyCsK44+YKSduI2LBkp94TwGYrouJYFEJDYcO1ZRWVlTU6PpGnNxUmbAyD89EgotWbIkNzcXwIUWQBCIoZGR5ubmqqqq2bW1MH0zkjqwxgLQXNZne2xAzhgCZToCcNBmBgNll/OACcaySKWEcDjc0txcWFS0cMECUtPZrw4EgXjh/PloNLp8xYpUc/rspwMRotHomdOnZ8+eXV5RoWsaurPDBeLFC60jIyNLly11X6EDEWLR6NmzZ8vLy2fX1qYRRoykwQ8Fgxfb2izLBIBAoHD9bbf90X0f2XTHHdS+WQoYdZj713/91/e9732I2N3dvXTp0jvvvHPcr7MHH3ywsbHRShiUbZCTm1tcUnIlcM4YOEoBu3RekE+Z/BeccxQCXPgvEAAdvaIBUSDybAuBS8tR2LamaW8FRtz5Qq4Y24wBosxumB4K2wKmJ2fB5cWgifQ1oIFWdCrpDXrgygcyJsxxH6i3t9fv9xcXF1NmQ/bGBU1oCj/94Wp+EUn8aadljE23LgoCCsawxDO03EbNSuMRQ5bfxnPahJfZ9vQzH1EIZIy2XxSCccbAhTwjIiLXNJJqIQTj3I17j5abbLPNskwXfQuEEEg6QYXTEQFRvEXehK8hxmMxivMigK7rVdXVmzZtevRTf1FeXk6RbvkmIh4+fPgHP/jBY489duutt7Ix7X0l6P/xH/8xMDDw+F/+VUtLi2EY8+bPf/rppwOBANOu6rsuGzNnPU6pmIUQgMhcI5RoMdV83mXkS3oTICUibtIvnHicTodpIUEEZuO+1oN/88I3YyI9eShfy/v508/UFsxCJqZrZjBggDgwMHDXXXfdf//9X/jCF3RddxN/kCXw5N+UnpkdtjSmyYUxPQYyhsi6Bjv/99OfGU6mZ0jkenO++vkvvXvZHYxZgNPWes4VK3NRs1YINF5ZLDZrgXGS56TH/UJzv74ksDHm1IRvArz0wov/8Pd/bxhGYWnJQw899Oijj9KVhLGsFkLU1NRcvny5uLh4cgJ0j8dTVVX102d/drG19Stf+Upbe9up0413bNrktOxklqP7pGJwiIuSQJVzOpWQ56TNpW3rXAnZMVAIARpfPfemTWW3vNZ1SGiQo5lWEi3QdZ7zwKoPVOSVo8YY06d7QkNAQJaTm8sAdE1jnHFNc+PVS9NNLgXmiu3DuVONwjSTzhAQbSwvrLj35t//+eu/tDiiYXu4Zmjo9dmraxZtWnKbxjkynWeVqsxShWxpmC4zV0hUlMgegZKOmhJIPaGiWzeQmmI6qE70gmmar+3aqXk9f/noI/c/8EBJSYnX6x37GqS6vLe2tlqW1d3dPX/+/Eno1AGAc15QULBi5cqf/Pu/P//8801NTbfddpsvpfXk6lXYs05uZe6nRNWkjgWXJwI1qBCAQX5O/mP3/QXbwQ80H46IJHLNY1srS1f/r41/4NW8NEnZ+GwYY85LBYoYyRRdEE6ztbNkIIMc3fPgbR/s7O/d13wo4YugEAU8//dmr378/Y/lenIAIPPO305Qni2kVpKJdUxRgXFwqHj3qKYEafMODQ0FCgu/9/3v33LLLWOv1skxmqZ54sQJTdP8fv+yZcuam5uLioqWL19OBW7HwpWYLGOMc15ZWfnJT36yv78/zRDr6ekpKysbq2WzAyqRUlhYqASbZVkDAwMzZsyYZNOYFoyOjlqWpaR8NAWIhoaGAoFAlheZOQCgDjArUPF393zhxPITv3jlYOOpHj1WmR9cUKyVqG2f6h6oFdSMGTNcrhBaY5ZlDQ4OlpWVZWv+MAttDUSJVlwz8K68M8JfHCousP/yz+7bsGhFgLu9AYqIg4ODgUBgotU1LVQAEIlE4vF4eXm5S2wEjLHOzs6qqipVKzcejycSidJSV3daCMiOGxoaKi4uHnuJnixK0n1f+MIX8vPzx80ekVJh2/ZLL720fPnyD3/4w7quP/fcc3feeeckCSc8DUVOTk5tbW3aEj169KhhGOgANwPu7e1tb2+Xw3OJzbKs+vp6edPDPcKenp7m5mbLshhjlOLhBmzbPnnyZNb3+a4YxMg0xgtyczctvPmPlt2f371KH5rReykyHIopmRElQHpqaGjo9OnToMJyoTtejY2NyWQyu2EyAJ1zoaFhWBdbBryj1TkXl7+r8oN3zr+5yFvIPW6T5C3LamxspJIw7qdACNHb29vU1OQSjwREfP3116kumXtUiDg8PHzu3DmFhvyJEyfC4fDYyZVOsPLy8uLi4snLTyCi1+v98pe//JGPfMTj8axcufIb3/jGokWLJvnJW7YeTCypGzdupA9Ld6Z0fmXhnps5c6a8IiNtVIlkugh1Xd+wYQOF0mV+Nuc8a4/SrFmzqqqqNE2zLItUHjVwyOIASJTcfPPN1A9BTm2aw2WS8WpkyjFgwBggMF/d7DyuMQ9CJCJ6ukerKvI1fcJY1dsJNLqioqJVq1ZBynjJWvdJwVi9ejVt2lkUv0AAEKgBGwpFL/WNcvRyjqtunu31eiksnB1tBOSGW7Nmja7rlP/gZhZI7KurqwsLC+Uqc1ksABHf9a535ebm0gVhNv07c05lJIQoLCxcunSpXGJZrH3p5qZj0M0335yXl0cWhpOBYzFP9CF6rmmarN2SiWGbUbcgOmIQC5LJZGdnZ09PT2Vl5eLFiychaCLIy8uTvsK2trbm5mZEzMnJ2bhxYxYnBV3Xy8rK6G+i8OLFix0dHXfddVd2S66goIDyikOh0L49e0dCoZvWrLnp5pv49GWaJrKoqIgQvvHGG6dPNQYCgTvvvLOsopwW8zSI5AIEFBb7c/08GvYisFNvdMTjF9esWUVlbK4vUK74pUuXOjo63vve97qMViFiOBzeuXPnwMDAwoUL169fn4VsMADggLbW3ZkIhyzGOAr79Jljq1YVz5gxA1zHHzjnfr9/3759CxcurK2tdYMKAJLJZGNj49DQEGNs3rx5CxYscIkQET0ez6lTp2Kx2OrVq7PoWiV9efF4/NDB1w3DoNQLr897++23Z13eTQgRiUROnToViURycnIWL14snRhvD2RUQV6mrYTD4WeffXbLli0rV65cvHixG0JpkfzsZz/76U9/+vTTTzc0NLgp5Cl/GIvFvv71r2/fvj3rAhiYKoC+efPmaDTa0dHxyCOPdHf3ZEEbSQxx78iRI//5i1/EotGfP/vsX3/2s8FgcPoILQTIK9ArqjycgxDJF3+374tf/GJPd+8N0v/k9OnT//RP/0SVIFyiikaj3/nOd06dOtXd3f35z3/++eefv+JzmA5QIrYtoOnNXrR9CMLrY//1u1889YMfJJNJ9wYyuS++8Y1vNDc3u1y0VBL8xz/+8TPPPPPMM8+470Nv23Zra+s//MM/RKPRtWvXFhYWZjEpMiPn8OHDP/nRj377/G+e/9Wvnn32Zz/+8Y+zo4q4ZFnWf/3Xf0Uikfe85z1lZWX/+I//qKoedYZwxdYTzozfMUD8sizrl7/4z4sXL/7LE0/oug5sstDkJLlL8qwXHg3ftnbd3335K7quC8BJ4uI4Jm/LCVR8jbTVK1teyfX6PFNl206eWkUzfe+995YWlwwPDx+rr798+fLMmpkT5WlPTh4AmKYZiUS+/9RTwNm9f/SHD97/wNmzZ2fMmDHRwpsAoZcxyPF5Vi2sbDvfJlCzeYCxfM6saefvXgPgnK9bt27t2rVNTU00LjeKoL+//xOf+MScOXNs214wf8GP/+1H937o3hyfb1qhaoaAaMYNOHt2gGsJW+g1NZ6P/t6fvv76nmQy6fP5XJ5JR0ZGjr/xRmFePgfG2RQJt5ODmTT/42fPfv6vP7948SKW7XUAKTYAMNDf//hjn/7Wt761ZOlSTdfAYRlkDlQ+QwgxODj47H/+wuv1Wpa1c+dOwzA8nuxvLiUSiUOvv/6VL3/Fo3vm1c27ePHiyMhIdXV1dtiygCsqJs2tluazI37t37//tddee+SRRwzDsCyLaqhNpAUmQUiQSCS++KUv/vM///Nf/MVf9Fy6dIWaSU8cE6HSNI209qFDh4qKi2bPng2MTT7D0nQfC+Q/ys3NpVgVApSVly9cuHDyPG10JFhIvtFXhBAej+e9730v55wzXltbm5+fn5OT4+TtuNik68SJUNP4XXevte0k50KA16OVIWMwxXDfPlB1Tpk9e3ZNTQ0AcMZ/7447CgoKOGNZqXbt8uVEe1s/B85BvO/umzm3br/9dvcVhi3L2rJly6Y77vCqaOra1tb20ksvPfrII9/91+9Kw2fa0ZtUzpBhGN//3vdXrlpVXT3TSBrSrzddqihfTdf1D33oQ+QvSyaTBw8eXL16tcygzIJCn89XUVn52c9+tr+vr+HYsVtuuaWwsFBh65sp4YqtJ5l1+fJlp2ktj3uVlZV79uwxDOPNs2d37tx54uTJL/3tl2bPnj2u+YOpvMFgMBiLxdJeSCQSRUVFRUVFj3/68a7Ozq1bt/75ww//yzefWLlypVzb4yJMJpO9vb1p/4qIhmHU1taGQqHz58/ff9/9Z0+fwdAU80Eqr7u7e2xxU8uycnNzy8vLNc7bOzp+/KMfVVZUTG680FymkUfmJPm5q6qqaJkJFJ0dnTU1NaRGJxFEy7KCwWA8HpfKkebFMi3Nl1NYnBcOJxB9/tzZDLgAweH6BzQUgsfjoRhuZ2dn/dGjDz74YDbZIQwF8tOne6IxQAGaJoZD57Zvff7Tj38GXDv1Dhw4MHPmTK/Xm0gk3OAhqKqq/MY3vnH8+PFf/frXZ5vOPfXUU9mlOpEo9vf3Hzp8eO2tt/7qV8/VH6vfePvtDz30UBa12qVlQC68aDRKUdeKioqJjmWTAy0Kj8fziU984u++/JXHHnts06ZNf/25z0kj4O2Bq2K4hmEcOXIkTekigNfr2VSw6VJPz+o1q9/3vrtM0zxy9Mizz/zs/37ly+Mmxciz6sWLF2WSigTDMNasWVNRUbFq9aoVK1Zs2Ljxa1/72rPPPvvEE09MpAhoLkOhUH19fZq/w7ZtXdfLy8u3bdu2adMmr9dj2bZAtCxrElVFD5ubmwcGBtL+ybbtOXPmlJeXA2PDw8PFpSUvvvDiL5/75cc//vFJrHqi8OjRo3IDlFFIn89XUlLi8/k45yjwwMEDH/+TPwkEApNHORljFJZxPiQ7tLpm1szqopbz/cIGr6+CMc/1Pt1eEyCWNjQ0HD5y5Ktf/arH60HAaVa/wKRpn2vqE6ght8qLC/x+ECie/M6TixYuqqysZNM/4dK0Dg4OdnZ0fPCDf3D06FEjkRBCWLbl5rxcWFi0fv36svJyTdd+/ZvfHD16dOPGjdnpZUQcGBgYDYUeefSRo/X1H/vYH3/7299etXLVunXrpouK7qTL2OPw8PC2bdvWrFkjMzqmSyHpUM55nt//nve8Z9euXVu2bFm9ZvVtt61XlVSYCVyl9YqKiu6///60NxAgNBriwEzTnDV7dq7f77XtD97zgRdeeEHYEw6bhrd+/fr169en/ZNhGGQ/Msa4xotLiv/PX/6fv/mbv7Esa6LEHMJWUVHxwAMPpP2TbdvRaLSpqenFF188/sYbXo/39OnTSdP89re//YUvfMHj8Ywri/SV97znPWP/KZFIkKOQMbbmpjVLli4pKip64YUXHnroIWqVMu6QGWO5ubkPPvjgW3xDJPIMw/B6vYho2/a5c+c8Hs/adWsnr9lFuTIbNmzYsGGDfHjF1rOtSDR0y02+1gsDFghNKxHotgDGDQuJRCKRSDz26cf8eX6eVZ+aSMR682wPAmM6LFxY/uE/uv29797w6COPnjt7rqpq2o4kMlUsy/rmN78ZDUeOv3E8kUiMjo4+88wzhpm89957p4vwLWDANF47p/ajDz3k9fm6urqyi2bQSrEsS6CYO7eurLLCw/Xnf/ObgwcO3HbbbVkjpL/z8vIYY/fcc0/WV9Pkoe2VV7auWrXqg3/wBz/993//6j9/9Te/+Y2nuIihqzuRmUMm9fIwUBBIGkZFRUVvby8dCaurqwOBAMvqkgpV0XFeUPX7/YsWLdI0LYvdkq6hVFZWPvjgg7Zlc8aGh4dDo6EVK1ZkZzNTkyqWytTRdf2OO+44cuTIlay9rMhDRMuy+vv7z549+6EPfSgnJyeZTJLlOF0G6poWKAisXFP+0ovepG0mDAyPZufwutHBMIxt27YtW7asrq6OMjGnX/WHDfSGhoM2MFvj/KZby30eT9mMsptuuqmkpMRRGiZjdKnLxe973/uCg4Mo0Lbts2fOLFu2rKqyalqo0oB0nMfjKSgomDNnjsfjydrQA4CSkpJAQaC7u3v2nNm2aRcVFZWVlaEQzpIi0wXGWDAYLCgoKCoqyk7lQcraSCaTBw8e+MA995SWlHzqU59qaGhoampau24t529T96tMtB5DELquv+td7/7dC78Lh8N+v//EyZPv//3f51o2cSt5XD18+PCtt97q9XqPHTv2sY99TPbEmy5CTdNmzpx53333ccYBoKu76/LlwXvuuSe7Gqi0uY2OjnZ0dFAPp+PHj//5n//5VRWopgPknzp9+vRPfvKTBx944HRjo2Ek2zvaP/rRj+q6nrmil75qhnzZ8kp/rnc0Ztk2O3Sw/dZ1VZ5p1x9QD1Tj27Zty7KyY77kcDQaff43vwmHw7Wza48cOdLX17d8+fJFixZljgcYoMBTJy/Fw/8/e+8ZXtdxHAzP7jm3ooOdBItISqKoRklUIyVLsiO5F7nEsuW4xnF6Xpc4/hK/tr40x3kTO7HjxMmX2I7tuMf+XCRRFEWJJEiCEDuI3jsugNtw+z3n7Lw/hne5vPcCvMBZirSjefjgAQ/2zJmdnZ3dnZmdQeAOA7ZqlZHPp8OReENjw/oNG5aWDY/E4+GHH2YAQqBt2z/76U/vuuuuu+66c8mWKSFER0dHLpe7duvWSCRy7ty5j3zkI0s7LxMDm9at23nnzhdeeP6xd78rm854fb6HH37YpZ8fEc+cOXP99de7OYrKZX7NmrWz4dmGxkavz7dl69a1a9e+lNeLKhBNRA4MDOPhRx7OW/nvfOc7t9xyS3VtzSOvefWSC5WSjeDf//3ff/SjH23evPkNb3jD9u3bl5yo+cImnAFjbPWaNT6/X829tSggv0FPT8/nPve5DRs23HDDDZs2bbr33nuXbPxmjMXj8W984xujo6Nf/PsvAABn7Dd/+yPzHZYvQR4AGiLI+DXXrAxHhm1wTp8Zng7duG6dhtuRbgARh4eHY7GYx+NpT74iqgAAIABJREFUb2+/5ZZbYPELmLwMcOrUqSd/8WQul9u3b5/tOF6v96tf/Wrl2BARUGRz9qkzI4CMMYcx6wtf/PNfe+VdAgNvfstbGhoblqADJAE0e7nBmGCbtmyura+DpV7OJ9NH+7n2b33zm9ddd901m6953/vet2TNQhJVVV39J5/61Je//OUzp88cP378LY++ZfnKFS53UZS28w1veIP7gp+BQODx9zz+rW9967WvfW04HH74kYfXNq3jBneV9XRRNFzS/aw2kKZNGVoBS5JsoCSFBWxLOzyWJZKOQktWeaCk1ZIbTyzcv1ksHnmDWpZz5YWcvQi4WLQXCAPkDP/zWy9+99sdWcuqrw5+9rMP3L5zcXcDKIP8XDT2ivvvf/zxxz/68Y953JmTKYpYigeFEy1hwyLFQwjBDU6hxtIYUjG7HAQYGZr75Cd/Mj0juGG/4fXX/eEfvgLBRjSkS8RNRQSZeUmK8WLIuwASg+04RiFWaWkipwIFD8jhkIPiBiFR5fKenIxJkPPrwux4qVJpVPSZnp4eugEOSllbIncJMTvxeJxqdDLGTNN0ObqWZUnyaFRcJl+JxWLj4+Oo3DRcmjRDYRkfGxvL5/Ok3Bln9G8J2Ehw0+n0xMQsA7jr3k1ev8cBkc4YAwORK55/gNiVTCYnJycpunVpKkDOUsM0bccZHR+TNWIqRYjgCBtQDA+G5+ZAgOXxBW67/RoGtmXDbCRCA+q+RB+lcpORK0tWeYyEw+CJVHJicpL+t4SZVUQeIvb29rovwUrAOU+n06FQyD1V9DttHqnCnMvOLhYqupF27tw5Glq5uaPNFOmsxX5ycnJybGxMnu9caj3bttvb2yV5bpSUJG94eJg2VoTQjeFWCNHd3U21DdWhpfwIi6KTGicSieGhHkew9Wvq1q0JmMBydqqrd84WecgDYvmbPXJDsYSOLIq8eDxOWUOWplMIidxQoCO6OrtozVgErxhyxgRC70DMsmwAs6HKd93WRsa92XQmNDG5tKNoKalycJd8tpAyxgA44zPTMwP9/dRZ9wdJADh58mQulyN+ur+BF4/H+/v73atj+kUI0dXVlUqlpD5xSV7lcOkdPuecYtnlFs/lJzds2CBDAt1j83q9u3fvDgaD7lERbNy4sampacm+iyIwTZMSS4DrzhI9jY2Nfv92xlgw4L9mc31vXxQd7OycyKTRE0Scfxu5NE/RooAxtmLFiurqaj3YiHu3377YEFYEYIzbFjtzesh2BOPGmjXBFStrEKG6unrz5s0uF9rzX0E0TfP22293XzoHSP0BrFu7drmO7HUEnPMHH3ywpqZG16AvX75cIzbO+V133UWhIFoQLuLTl2yBiCtWrNCYyygQCNTU1ICmGWgYxrJly8hAo2UvU1VVVVtb637lkbvOhoYGGaTiEiEAeL3e2tpaADAMfsONqw0wOMN4xDpzany+6hnkn4nFYqlU6nJv93w+HyVk1bKZosFdwv4dkY+NJkeG44xxxnDbjatM83yq95qaGi1ajyisr69fcuqRiwlGAKCyTe6xSZyrV692Y7ssAil77oGsWzQ1tCBcFFx6bmvZbxchVF0i7oFoc1OrpRTc01Zq5HZDHirACoWEb7pxrT8ICEY2l2s5MuwgsHkuM548cfKjf/S/nn7q6cuq9dSQOl0fktxbVNQuYvbE8bFsDgUaAS+/8eaVtBzIIdCykdeC5LIi1AjuHSxF2K5gZyva6+mVY1BccroQwmVwALk/kMpfmLtya1CcLoEzxoUQTesaNm1uBM6EwOGRqO0wXq6uq+M4y5cvTyaTc66LN1+SSNB0lKb96dKQMAREs6tzwrI5Y9DY4LnuulWIFxjohrALX9GHikDvVkDLWlsWtFB4mWirECra68kLZFo+qW5btGDTVbBOIkR3RfkIpOdHV0+lTpHDYXrEXXdvNBlDATMzqXQ6L8qdcE3T3LRpU21t7XyMwovBDZGiAFrs8XJwcZGXARzBR0bjtiNMhjdsX11X52UUtuc4uoRZComuweVKaU33oEuMJUhJ1qIH0F3hUJdQxmdcxHohRH9/v4xcWaClbL9wy3A4THf+y04z9b+qYM2H03GcwcFBtaxHJUTO95BSiU1OXnDzVf562Y7ncrnR0VGKHlC9V4ulU/6cm5sbGxsj8jjDbTesrAoGEGEukT/bNuKgjeWAPm0UkmXhxdVAEonE+Nj42Ojo2OjY1NTUAvN5vmkpX0kkEmNjY1BQf4vqY+lzCg3J5XKLeh0ZxJOJ6amsQGEa/MYb15tcADC6sh2JRNRCCGUlcL6HRZ92HGd4eEQNDaFmpeOrjsV8OB3HicViNLiVsAjLrfeqwCBiT09P2bIeZfu4wIfoIYUlVSIe8k9lOw6FwR0ZGZG25kWR5BKM3bt3r1+/XjorbNtubm4eHx9vamqS0/7ZZ58l9q1evVoa0RDxhz/8YTQabWpqkrnncrncU0895TgOGaGxcNn46aefTqfTy5Yt45yPjIzEYrFAIPD0008bhtHY2Ch7NTs7u2fPnpqaGkpJQrv0UCi0b9++mpoa1X8Ui8Wefvppv98fCASOHj26fv16n883NDT0/PPPr169WvX6jYyMPPfccxs2bJAZU4QQx48fb21t3bhxozSmOo7T09Nz8OBBzvn09PTatWtpa9DR0XHgwIFt27bJvUY+nz916tSZM2fIGwgF+Wtubh4dHV2zZo1ctIUQR44c6e7u3rhxoyRJCPHzn/98enp63bp1qpnp6aefphw+8mE+n//FL34BAMQ34tLs7Oz+/fspbz6C6fPahw+MRedSjm13dPSNDh1tOXaUoLW1tb+/3+/3L1u2DAT+7Gc/W79+w9p1a/fs2SN9Drls9utf//q5trbvfuc73/72t7/97W8feOHAux57DBhMTEzs3bt348aN8p4ABWocPHhw1apV0nEphBgdHd2zZw/dHp2amurt7d20aVNfX9+BAwe2bNkiWYSIp0+fbm1t3bJli7oAHD16tKura+PGjfLU4zjOiy++eOLEiS1bthw7dqypqYluKz733HPDw8Pr1l2U3nXfvn3hcFhKJgBYlvXnT/xiZHyOOWZ1tfn4e3Y0Nlbn89kf//gnoVDIcZyVK1dS41QqtWfPHkRcvny5lPZsNrt3795EIiHzXCJiKBTau3cvpc8pzB0RDkcOHDiwatUq8s7RDndiYmL//v319fUUV0CjFg6Hn3rqqdraWplrRwgxPDz87LPPrl+/npJTAMDY2NjBgwd7enq2bNkiw06FECdPnmxtbd28ebPcQQsh2tvbSYZlCJQQ4uzZs62trVu3bqW5QyN44sSJ7u7upqYm6dkgZoZCIRJXKW8vvPDC+Pj42rVrSSE4juM4zne/+91IJNLU1BSJRIaGhtavX5/P5/ft2xeLxdasWSM7nslk9u3bl8lkZDp4RIzH40899ZRt25ScivZ3kUhk3759Xq+3u7ubZIkxRg89Ho9anjAej//iF78gB6PG4zCLxWLk1ZJSmEwmGWPV1dWSlalUyrIsr9dLSRekEEejUa/XK1vSPJ+bm/P5fGrWTEScm5vzer2UY862bUoPFY/Hq6qqKI8YcSSfz6dSqerqalJG8mE6nQ4Gg+oFONu2E4mE3+/3+XyZTIbyOOXz+UwmU1VVpV7oyWQy6XS6trZWihEiplKpfD5PD2XHc7kcfR0ApNc1l8tlMpnGxkZ1oqbTadu26+rq1I5TMaqiuI1kMomIwWBQpr1CxFgsZpom8U1q/Hg8TixSPzQ3NxcIBGTHEdFxnLm5OVL3wNCxnc/91d4XDkwI4MGq3Be/8Prly2rodeJeMBj0+/0g8EMf+tCuXbve897fSKfTgUDAF/AzYHPR2P333799+/YHHniAM4YANTU1j73rXYwzy7JSqVRNTY1cGBCRagPKhzS4tm3H4/GGhgbOuWVZtm37/f5cLpdOp8kjKVV2JpPJ5/OygIPcQSCiuqTRAFmWVVtbm8vl/H4/yWc8HuecV1VVqREFxMxgMChlOJ2xP/yB746Fkhy8N26v/dzn3lRdZQrEaCzm8/m8Xq9c/2zbTiaTPp9PKnFEtCwrnU7TAMmHJJnnmXl+dBzLslOpdFVVkORNckOKqxxcx3HoAru8bA4AJFq1tbWyO/Rpqsuj+oWI7cRM9WEul1NfR8RkMmlZFr1ObPT7/ZRGqKamRrYk0TIMo2jyyrmvLuc0zauqqkgJ+nw+knbOuWQR7ToTiYTH4wkGg/K6hW3bqVSqSLBJtGjik2wzxqilqjrkNA8EAkssrDoPnD9aqzNN/l56xJOCJdcr1Xyj7reLSCzdoxZ501Ax5aq6QNJQav6UG2MVFZQYSkW5ilNqxhf1icRQZEoverfoobQ9SRMyKgdk1cavUstKfNlFvVP/K60qMqkZYwzABmCHD4888cQ+y/F4PNbnP/fIjh0bZP78C5gRSOt94EMfPC/QDEjr3Xfffb/+2Ds/8fGPmx4PCAQAwzSleVC12UtJUMVALuAqi9QelR16eZ2raNDlT4mEbvUVPVepkgIs/xqaTn7gvT9N5lMmsHc+duuHP3QHZ4hgFLlx1VEu7WPZjqsPHcdmjJe1yOM8folSmUdEuSQUCUxR+1Ik6sxVpyorXGgrdQctMM2hcIkN5pnmRdwg/FI5qkNWVrCLpnnpcJelEy6WpWJGLxWKL2+V2ozVDheRVRTEt4C9eQGK1WErHYkFXi/Vg2WblaWq9GHRneIF4hPne7cswfP1SH24wJ+Knkg4LzHABYprti5bt6ZmeCwGTs3xMxM33bTWY3qAURDJBUMeMkAVJcJ5LQDgNUzTNIsip0rFsVQS5JMidl1yUNSEr0UsKuVY0dDMJ7GIiCAcgSNj4VwubwAL+Pnuu5u4AYjAOQIUR55XLu2lDw1j3ji4BYZ14Z7O91aFgi3pLFJelbwL5WR+4cFVCzmW/aW0X/P9XAA0KjsJVz490cuwKLhIVpAx4DU1vk2bGgzmEyL//LNDtm0DyxfJClncI5FIPp8/v86X282VfuiXChAALFsceK6HIhpXr6lbtbYWABiYJOq/hJ16GfRDRVpPPeS6B73YQJ9vXmLT3tnL1F8GjAEEfMa2G1cIdBCcqYnU6FD8/GEaLngqR0ZGHnvssZ07d8bj8fNHj8sTrXwFRYUBA4S5ePaFZ3sEWgh809aamhoPAEclgehVLi16gznKRgssGS6HJOtFWCFUpPW6u7vLRq4sDSKRyPT0tK4O27bd29srgxvcQzgcHhsb0yJ8JMRDQ0NayCOOpVKpiYkJhXXMNIwbbljl83ABgIBtbdPCMVDYUq9xzq+//vpHHnnkVa961apVqzjnCKh900MkUTZWXaIihBgYGLAsqxKECAJRDA3MZHIeYAZjuOPW1X4/GcsF8U+th+WeSMdxhoeHddVyRUSKXNGFDQA6Ozt1TQ1ETCaTusgDANu2BwcHdaWEWRRUpPVkUhMtQAFxurBZlkVDq2umhUKhsjFTiwXCYFnWwMAAOebca1LSegMDA4QNAeiexuZNyzc01XPODeAnTw9nszaiYErVNDU/GChp/vQCIkYikf7+fvdbDFowLMvq6+ujnCuVIHQs7OwIocltxwwEnZ23bS04HExEYIxRriRdRQhJKZPv3j0Q9wYGBrRgI4Tt7e0a1Uo8Hh8dHdWFzbbtvr6+ZDKpC2HlUFFWURkaosUsQks3hYy4v0ZGC7isM+CeQsuyHMeh4Ab3uU4RMZ/PyzSCLskjXeA4jszMQwjzeftHP+z46r8e8TJ/bSP84z+8ad36WsYWymSlPasoCZLjOPl8PhAI4FJLK6gIhRBUrhsqEBUHRWou+9lPv3CyfdRjBHbtWvHJP35VdfWFYEMoxE67qWAtgTS7ZVnzVaRaFBD3KKhrKTUwyyGkYCwZ9+MSSPA0kicrDWjMj1AhXPp7jDFinK7NlOykFh3KCsU6dSGU3kz3/SV6ZPkh97QRTgoEU9WKaeJ11zd4DEMIEYvb/QPRNetqDPOCMeulAcYYFVAHHWNBHaQ5Vhk2nAmnu7qmGQphWztu2+D1Fgd8qGnmXA4KK+QA1yXGQgi9KoAxpkbJuceml7xFFY3RCxUtArq2UQQy/EILNu0I54uQWDI2JjNHukYot59F+1DG+eo1AZ+H29wWQhw/PmJbgr20ZmJ5gtY1HIvNEYvCPtrSn81bTAgDxNatDYZxIRandCBcUqgFiQq6hIRAdlYLNrg8s0yvHqgcXo5c+VUABqyhwb95ay1HjsxoaxtLpZ0llQD7JYZsVpw5PSEYR+BVtdl162o5uzKX21+Gqxwq0nra/d8a3fNY7rK3GxCFMkZasGknrzz3ELwe72988G6TGwJgajLb0zN9BSIC5kk6sGQg609FDlyEmenU0GBKIDDOHn3bvcEAByj2WmgPJLoc/dWFDQolfnRhuxxhOldp5Apdfs5kMrroGx8fHxkZ0SUrtm2fOHEinU7rIm9qaqqrq0uLvxURqawHXTV1KdCEcG5urq+vr0g1IzLThO3blwVrfQCOZfEzp6cc5yUVKZr/kUiks7PT/cpBr1uW1dbWJhPqzPNhRBQC8Ux7KBzOcRA+n/Hgr13v9XoYM4twJpNJkj33E5jIa29v1xUaIoQIhUI9PT1asJFOefHFF9PptC6EkUhEI3m2bbe1tV0RH25F+fVmZmZs29Y1hSibAADYtu0em+M48Xj8fCSHDgpTqVQ6naZEbLrIo55qcVjn8/lEIkH/vWAT4QzQ8Bh8/QafwRkCnjjVl0xaoHszcknIZrOxWAxc7wtYIbne3NyclJOyCBEZgJW3socPDQrH5ow1NtQ01vkBmOrMkdtGXes3dTCRSGjReuQhzeVyujK/Uh+np6e1zDIoBEtI2XMPQoh4PG5Zli6ElUOl9XBRXx5ayscgllQstSyoXdBFoXvbrUqVUFKrLxlIrctEQyr3BDqIAEL813eOffObnZYtvH7427954y03r5qPyZcpcgWVi+jutTzp66L7+cXfdQQya2gw/slPPjMbThncvGfX6s98+jVeH0NAzgzSfSoGnP/e+6Jow0I15yUjuagjhXVCV6CJ7KOWSUHkacRGQT9a5GSxsIi6Gbq8LTQPNTqtNfoNCbREJKhULbYI5MJUsZJaroxxzjg3zDe/6Q6PjyHz21k4cnjMQVvYebhMt88uBlYIDZEC4x4ndRkusZghojh9eiY2l3UAvKbnfe+91+szGONS5cHF7kIt7ldeADdIVNDINyioTr1uXL2d1RISuzS4Mj7cK+KurhyuWvLmI4wVdGxtnX/b9Ss5ICC2tY3F45Xearis5F1W5AiQy8HJ04N5S3DG16yp2ryZkiFedMJ9KUm6ShBeDmx6Q2F0oVosvBy58isFjLHbbl3l9SAz2Pj43PBQAhi/Is7clwyQYSSc6+uNcjRMzrbfVG8Yv9o9fhncwhWLXNEbGqIFlYrw6oxcIdtK2f7KT9x+27oqv+kITKexq2vaQcEKt25RBS0ElaNN191+qCxyBRmePTsejdqccb/Xe+uONWz+E73G3sv+vgSDu2S4aiX5ciCsHCqqDHny5Em6P6/lk5OTk6Ojo7oG2LbtU6dOZTIZjeT19vZquT+PhciVVCrlHiF1cG5uruz1fnle2Lx12ZrVVYyZtm0dbe7LWzY6QkrYhamlW9iInkgk0t3dTd9yOSLEvXPnzuVyuQW459jiyLFhK4sIdm013HrbBmBlTMakjjOZjK7IFQCwbbujo0NLYg5i1/T0dG9vr3tsUHAKHz9+XFfkihAiFovpIk9ODY1O4cqhor3exMSELv83ACSTyXg8rgub4zihUIiiB7SsG8lkMhqNutehpIYcx4lEIpZlubevsUIdj3A4LB2mpc38Ps/du5o8BgLHsfF4V2cYmJ3L5XK5nGVZ4uKCAdohlUrNzs66dI+CkssgHA4vHOc4O5vv7Z0WTJjcuOPODcsaAzA/n/P5PMVOauGAEGJ2dlZXpinGGHFPCzZCODIyois0hDGWTqej0agWbABg2/bMzIzGHHGVQ0WRKzKAQJesSBe4xlAY+t09QiyuTbF0PKxQG0G6510ixHlqR1zUzHHOdY7/2aeei6WyfjP46KOb3/2+6378g6eGhoY2bNjwpje9icr6AAPG+OWIXMFCLQiX4ytPyiR4RdUbJDz9dNeX/+lYKp0Pesw//tSuBx/azMGEkmZyIFSrvPvhkOQtGY8KcqLpQqWRPIlQS/QF7fU0pm9YFFSUc0VvagTtvmq95Onqr5xXuga1NPaifDPON29uWLexLtZp2Xb25LGJnH18emomEAh84+tfb2k+/MV//MdgdVVpbmEsV/dnUeSphGmJ1Fngv4gICIhwpHUomxYc7br64LXblzM0gDmlgq1xIC4TQtA6NbTPMr0IKXJFI8JFwUud2epluNwgAAN+/50713R3TqNgodnEK1ft/O3fuhMRH3rwwT/7f/60v6/vltt2yMpB4ry7gMkzOOXvu5J9uBQgAiIwlrZtX9e5WQCBYF57be3KZXX/w1IuvAxLgZcjV37VgCpi3HPP5tqqAABP57CvHw3D9Pl8q1avrqmprqquVm353DDI8k2lbOnccUV7cGlgjE5b7IW9vXNxBxG8PvHqV99gGgzBxpcV38uwIBgf/vCHq6qq1NKu09PTVMZYbuDz+fzk5CTlyJV2JQAYGRkpeug4zvj4uBBCVu0lM9n4+DjVD4aCgSCfz09MTMgQbUKYy+UmJydN06TEmfScsn5Tsk9JUjabnZyc5Jx7PB5ZxzOZTE5PT/t8PvUuRCKRCIVCgUBATSc5Ozs7Ozsrqx3Tw0QiMTk5SQWhJfHxeHxqakoW/Cb6I5FIJBJRC1fT1XEqFK2yKBQKURlj9TQ0OjqazWbVh4yxsbExy7LURLVCiLGxMcaYWtTctm0q66HWRQ6FQmfPng2FQqFQaHJqMjQ1NTcXPtc2M5dgAjGdyLz6NZu9Xk9HR8fM7OytO3b4An6fz8sYy2WzX//612ORSGdn5wvPP7//uf3n2s7dddfdjLN0Oj0xMSHrl1OP5ubmQqGQ3+9Xq6dnMpnR0VFipnS2JhKJqakpYpHUsNFodGZmpqamRj1Wz87OUj14yQp6SByWgwsAU1NTqVQqEAgACAbMsvP/8pXjk6GkELh+XdW7H7+jKkgV5WF0dIzkTb4ra1youYUty6IiJKq4WpY1NTWVz+dlaXAAIG5wzmUKW0TMZrNTU1OqZBI3SIbVE1wulxsfHy96mEwmp6amZP1yminENyrOLUmKRCKzs7M1NTVFkjkzM1PaMhwOU0so5FwhDquF0hFxcnKySAgdx5mamqIi8ZIkRKTCL5Qfm2YltVRfJzvd1NQU1YCX8k8zWo6F+tAwDLVAaCaTCYVCrFAXXPJtYmLCMAwt6a8lcAoikf8XQoyOjk5MTMgniLhv377Ozs6pqamil7u7u0dGRtSWtm0PDAyQk1FuKBzHGRgYmJmZIbU4PDzc3d2dy+W6u7tVlxCJUXd3dzKZVMMsqGVRVhUhRE9PTyKRyOfzBw8epMwNiUSis7OzyKeWSqW6u7uLwr6mpqYGBgaKEIbD4f7+/r6+vtOnT8uE4zMzM5TjRMU5OTk5PDysUo6IxDf6EIEQYmRkpKWlRXXPU7kA4pv0AAghBgcHQ6FQUXzJwMAAuUTl6+Fw+OjRo0UPk8lke3v7+Ph4LBZLxBNzc0nbzu24fRXjDgDEo+nQTC6VTLW2tnz4t35rZHQkMTd34d4C4ujY2PPPP//cvueef+65I4cPMwAhRDKZ7O3tVX33iBiLxfr6+lS/G00/aomIoVCotbWVpp9kO5EqhJicnBwcHFTHAhEpB49sSRwIhUL9/f35fP7o0aNy6IeHhwviaiBiMgn9w1EByDnedsv6hoYqxhljBiIbGBgIhUJF49vd3d3V1dXX10dOYUTM5/N9fX2lfkkSV7WPlmWRZKoI0+n04cOH4/G4SjnxjfLEyA+l0+menp6i1+PxOE0EOU3Gx8f3798vQ39k44mJiYGBgSJf9vT0dH9/f1FwxezsbE9Pj5SiPXv2JBIJ4rDajCRTneYAYNv28PBwUT0gRKRpTg7r06dP0+tDQ0NU8wsK8u84Tn9/fyQSIVbIkIOenp5wOAwFaRdC5HK53t7eeDxO3KOgIsuyenp6JDPp647jFLFdC7CiUAbZDbmACCH27du3a9euorVCUlZUKV2+rn5GvUY+MDCQz+evu+460vRFjbHcPXP1oUoqsfXQoUP33ntvdXV12WZSYanmZ7lqlXa8v78/Ho/v2LFD9Qur9JTmJijquPwJAJZltba23nzzzbW1tVDwqRX1kRVcvaCs5BIDu7iG/Ozs7MjIyO23364mIFBHTdI50D/7Z3/65ETI8hj8Xe+8pXHF+KbNm27avp1zzgtr7Fw0dt/9973mNa/9zd/8EGHzen3r1q1ljDNefHddTX+g7mclhYg4MTExMjJyzz33yL+Wisd8g6v2FAsVQo4dO3bHHXdQVnooZFoHxoRjHTsa/uxf/MKx0O9jn/3Mr9276xrpurVt2zAMVG62kxikUqmxsbFrr73WNM35ZJj8Oeq78mGRoFqWdfz48ZtuuknurVT6pSObVEDZjqscRsSRkZGpqam77767NIpAcnhhUlVpR8Snnnpq9+7d9fX1pdKusl0lBkqmmHw+PT09NjZ2xx13SPksKixBjWXHVZpLp7lt2y0tLTfffHN9fX2ReJQqBNSapKCM1itlUNlIDjkHSie/CqUasJTjbJ5YNnVqQYnQSGFS3Y5FM03SWaSnSgVRVRzqT/mwiCGqvb9o4EFJEyK/JWd1WZVXllFFn5ZDU0SP/KiqKAEgmUh+7q9faD46xTmv9lof+f0tD73yXsMwrLxVVVVF3Cet9+53v/sTn/iEWagWUkRGqSQsdsTlc1V2i3RcqZDIwZXck6OGIBLJ9Md+7+cDY0lu6OtkAAAgAElEQVQQuHlzw9/87atXLK+VG9gFhLNIcZRVB3JKS3oIYemgz9fZBXiiCliRjKn0lJ35oMh2WWWqSrv6XVWe1Xfh4vFlJU58dakr0ozq73KYikRCFUh28YagSMmWjoWKAUqmvxswS0W89ElZj16p6i1LVunDCptd8k+SAJW80sZll4j5iC/9WYqzlCFqg9K3isibjyGXZIt8dwGWqn8KVvnvvmfj0aMTedtKWPbEpHXoYHMkEq6trX31q19tmOfzkXBgBruwpC08EAt0fOGHlZNd9ET94oVRQ5wYT/QPp0AwbuDd96ytqwsolb4XEs6yLC19UvR8YYG5JJRdSNSvL4ytQpJKH5aVzPnepQYLBAyV7UVRswXaFHXkkpqnLAYt8HLkyq8sMMC77t7c0NgajvkMnvj+dw6tWDPq9xof/ehHDeNCCqZfRnBs3tExy72OYwmvF+6+d4tpsF/qHr0MLyW8rPV+ZYExo67OePChG3/036cYq/OY/G//9mPLGgKmaQohuHlVR+QtDJls/rlnBnJZn2mmb7hh47p1NZw5AFcs6vVl+OWCirIPUPVfXdf7qfqvLmxYcUGZCoGM6NIA54YwMoRRWXHUkW1BersqoQ2BeTx42x2rOfdbIpnNew4fHfD6Ah6PhzOuPfsA0SYHV0u2BSFEPp/Hi0AIxzrXHuodmDSYxTF4zz2ba6o9CB5YsBSmHA7Vye6GPMKgUfYQkaqA68KGiBWKSiVArNM1bUGZaLoQVg4VuUUOHz6czWZ1HbDHx8eHh4cZY1oGOJ/Pt7S0aElqQjA2NtbZ2amrToht22fPnqXYCzcMlLbeaDQqU8JckkLOjOu2Lmuoz3EuUJithydS6SywHLsMh0Gyy8zMzJw5cwbm91AtCizLOnPmTDablfZvRMzm8cDzvZZlGBw8Xrh95wrDQBQVuRRSqdTQ0JBqy3cDtm2fOXNGS1wFdS0UCp07d849Nig4AWRQl3tgjIXD4Y6ODi3YaD07efKkrjohi4JK8+vp0ilQWNNA382+fD5PClSXKNP9BF1antbb+Yy1FYLqaMvn85WY0gUgAK+vM9/2ttsBGDJrZDA1OZoEpNQD+tdYqZu03KInjlHKkPP9BRCIkVi2vT2CyBh4brtzRdP6GoN5KukOLbR69xdyLFwCKzisde31WKHcksZpq+W8IoFzLmfuSwwVLcjzBRwtDWSsjBZsWC6WyiVCLBdhtDRUUBL4ogVhJQoFARkCojMVyn7og/+dyWVM4X/7O2/4wIfv8HAAxkFrzhUCNTDTfZexECR0PuJBiLyd+dlPJ7761f2Wxf2m/6/+/t7bb9lscA5ARc8X+uKiuFcheRoHF8rFx7gESkekUfZAn1NVrx5YFFQ0/LIEjJ5Pak0vwzTV4lERus8KJVExrYWWJMKKGlM5DW42Nvo3rK8G8NhoHT7SMzubQeQIl6VcZGX1fSoFGStzHhvDdJrt23vCcUzTEHW17NotawyDAwNgl/bhLop7FZKnvRyP3rwPGqcGK4AWbKBbDyzu0y/9J1+GlxhMk7361Vu8JkPDmprMnTg+Ki6PyrvswFh3d2RyIs0YcoaveHBDVVDD/vRl+J8GV0br6XXcXCY3kBYfny5sbpAYnL3hjdsbl3sZ8+Ut1nJkNJtLX9ahl2dJ90hUEEK0Hh1KppgAq7Fh+Xvef4/BbVikN/qKOA0rhKt8XlwO1l2lPlzyf5MZWMsnyf+tCyEWKtS4j0WQCCn2wiU2Og7Inrq0BEvLtORb5f1Fxg0P3nV7EwMB3Go7GxrsTzDd2z0ZyUHkuTR7y2ElZzqeT2CTOXyoBxgw7tt8fXVtDXLmrTA4WTXGa4lcUUfWDR6JTeOkgIKJULq/3QNNCl2VJNRpqwXhoqCiBX///v2pVErXCXx4eLinp0dXBeV8Pn/gwIFUKqXFfA4A/f39p0+fVhMcLQ2wEKzX0tKSTCbd+3AJotHomTNnxGLKXzAQ4Hjue3BT0A8cMJ3B5/b1Orqz0JHTcGpq6sUXX9QyFpxzy7KOHj2ayWRISe3b1xGbsxCtgNe4b3cT54AV71gJQyKRoEww7k1U5BFuaWnREntBxExMTJw4ccI9Nonw2Wef1RUawjmfnp4+c+aMRjV69OjRWCymBduioCKhWbZsmWkW39hdMgQCgWAwqMsLzjmvqamR6VvcIwwEAhKhG6CZzzmvra2VXkj3OA3DUPPTVQacc3HjTauuvW41Fx7LSZ84EZqZSQLCYo+HCwCNptfrlTn13EfqMMbq6uoMw0CEVDrz4vGxbJ4zJtauqtm9+xp0TAGV7oyIJMMw1MSRLoFzXldXpzETutfrraur04KK+L98+XKZCdE9yMHVgg0Rq6urr0ge+UVErmjsLejzf8tAEy3Y4DKQR79cWYRC5BnjB/YP/vXfNeeydsBr/taH73jzozcmEjOvuO/h9+iLXLkMgysYIKLx4umRv/rsgVgqYxrsQx+447F33cYXGU2lfSzgqhfmq3zm0i9XdeSKrk/q9X/rjUWAy0De1YCQcS6Eve2mVSuWGUyYubw48PygLXKAPtBqWLkMg2sA2ALsJ3/elUrnOTPqqv233LJusSoPLsNYwFUvzFf5zNU+HBXCy5Er/xMAAZAb5vLlgVfcv8XD0YF8z0Dk7NkoOsAANZ5ztQMi2shDU5m2MzMOOELg9dfVbd3SoMVN/DL8z4SKtN7lcIFfzfKKOq7yyD5qdC4vGY8QgMIwuPmqV22rq/My5mRzzne/3ZLPWwwEgABAB916XSWRugYXESm/xM9/fi6RyAvhVAfMt//6Ln9gKZHk6rC6p1C7DF8OhBqxacd5BdetiiJX8vk8uZm1fFKNvXCPDREty7IsS5cXnAIIdG281fgG9+TJnCuL9PozFIwxQMT1G+ruvLuJOwEE1tk9HU7mcgazwBAMoGLPQFkoijVxLzCExLbsbBr2PtNrW44J3u3bll17XfX5Xi3OsimgEDWFSkZflxTqylJBQBlrtKCibmokj8RYY+QKFkLEtCBcFFS01/vpT386Nzeni33d3d1tbW26fLjZbPbJJ59MpVLuURF0dnYePXqULr27BETM5XLPP/88RQ+4D4XhnMtyPJXbRGjdisfjmUyGM/HAq64J+pnAfD7j+9E3zvG06XFs5gju2tzBGBseHj548KCunZRlWc/sfe6ZvX3ReIYBMMjfs7upOuhdgmWG1ByVVdIVZGdZ1v79+7XEXiCi4zhDQ0OHDh1yjw0KDPze975XWgtpyTA+Pt7S0qILWz6ff+6556iQ0EsMl/ZqM8aampo8Ho8uO2tdXV0ul9NluDUMY/Xq1VRNTssGjYpAarkOyRgzTXPFihWeeUpSVA7yOBAIBJYtW0Z4LomQlpaxsbEvfvGLVLHziSc+s23b1h23rT3SOpCpmXh65jh/sPqkZ7Bl/NyOddurfVUcUDDgi09FRRkHampqli9fXlTCZlEdBQDE88ZGZICm5wc/OorcYbZn4zUN9z2wlXEBaC6WQGKUz+ej2Astez0pey7xQMGPEQwGV6xY4R4bFBLerF+/Xgt5AMAY00geDcGKFStkpc2XEioaezrx6dJ6WtIQSUDdOVdKS6C5AVpy9UYPFNUqWrhlPp//8Y9/fO+99wLA3/+fv2toqP/0E59uaRn73//fvyVX92QDYUNw5jXrzPo33/7whx98X43Hj5yZbImjQ7aLJa8ZtrC5QGRGRuRODJ7dd7Z5KDTeeTZqxjcGZlb+9m/ufvSt2zweDzC+NHbqHQ55XtGVMoDMAhoj7KhWnEZzDVzFM7dyqIi/evNAaA800Z6mQiO2yxEqUTmFjDGPx/PmN7+ZClrfu2tXJpMxOQ9syGU2dWeNBCBjnNmONWNP//DET1bUrHz87jezxe+kJLjlHgPGzJSd+PHJJ/91/3eiVoKBEGsEX9nvX3bbjXe+wTQAwEHgSyNQe+yF9qmhd3ZoVKBw1c/cyoEX2TvJxFhks8RCbuuijaHMja62LHUsYOEmr/pQplZXEZItvOzDIiMgGVaLWpbNTe84DpGkPrRtuyi5NhlWKF950cMiG598WNqy1Hhclm+LZWbR10tbOo6TTqczmUw2m81ms5lMhn6n14PBoOM40Wi0o7Pjta97TS5lv3DuQNKcYwI5cjQBUHiYkbLsPW3PjYyOACDC+T6WcriUJJnnvfQhXAw06KXMlPLGEBxbHBk6/S97vxGzYpwjd9DreA0Pn111sj1+IosMUHB2gYBSbszHzHw+XzRACwhh0RQoy40FxLX0YVm+lWZ4L2UmFq42wsVQKoQwjz+EulOhZJYqhFK+lVUIZfm2wMMl8809GI888si6devUIpsnT56cmZlZtWqVNB7Ztt3a2ppIJFasWCEfIuLzzz8fjUbXrFnDCplgLctqbm52HKehoYEVriU5jtPc3JzP55ctW0ZfIbtyc3Ozz+erra2Vy280Gj1y5EhNTU1VVRUULNCRSOTIkSN1dXX0kCCdTh88eDAQCFDxb8IwOTnZ2tq6cuVKMvNRy8nJyWPHjq1bt05eqkPEjo6Oc+fO0UNJ0uDg4IkTJ5qamuRDKud+/Pjxa665Ri2i2tnZ2dPTs2HDBtlxRDxx4sT09DTxjRUy2Z4+fXp0dHTt2rUqNw4cOBCJRNasWaOO7tGjRxOJRGNjo6Tctu2DBw8ahkGmRmqWSqUOHDgAAGrLlpaWr3zlK0eOHDl27Fhzc/Phw4cPHz7c2toaj8erqqrq6up6eno+//nPnz51Km/Zk/GZ5qGW8cy0wQAZCATGODAmAMKT00e/v/+db3sMAEKhUEtLC5l0JZGjo6MnTpxYvny53++XYhAKhZqbmzds2KDuLIaHh0+ePLl+/Xp1g9DV1dXZ2blx40b6L/Gkra1tcHBw7dq1nHNAYAy/cfiH7RPnBDMQATkDDkIAAotGoqtF44Z1TcAu3I88duxYLBZbuXKlyrdDhw7lcrlly5bJrzuOs2/fvnQ6vXLlSpn0NJ1OHz58GABIXKW0Nzc3ZzKZlStXyhGPx+PNzc2BQICquQMAohOLxQ8dOrxsWaMsUi6ECIfDR48eXbZsWSAQkEohHo8fPny4pqamuroaClbaiYmJlpaWNWvWeDweLNSiJRneuHGjevRra2vr6OjYsGGDKoS9vb1tbW1NTU2ypRCCXIVSMmmAzpw5MzAwsHbtWrm3EkIQ31asWCFr3TqO09raGgqFVq9eLR8KIcjnIKc5rbukEIjt1B3Lso4cOeI4TmNjoxzxVCpFHKaH1M14PH706NGqqio6ghAkEomWlpaiO3npdPrAgQPBYFDjTTgAYOFwmK46Sm5Go1HGWH19vfxMKpVKJpM+n09OP2LczMyM3++XaotYHIlE/H5/VVUVU4peh8NhMiSjUmAlEonU1tb6/X6pEfL5/NzcXE1NjWrjzOVyiUSitrbW5/NJBWdZViwWq6qq8vl8+Xze5/MxxjKZTCqVoquRks5MJjM3N0dXiWUf5+bm8vl8Y2Oj2vFUKkUthRCEkB7SVJEIHcdJpVKkxGXHASAajdLFTFCqRkSj0Xw+L1cL+jkzM2OaJnFY5qmORqOmacrRJf0YiUSqqqoCgYAo1GbO5/OhUKi+vl6VA9u2Y7FYMBj0er2ym+S3pVvPxId/+co///wnP/3LL/zNnonmn5zbU3QrAwEajWXvWPHA7//m7xmGkc1m5+bmGhsbpdaT3GhoaFAf5vP5WCxGKoaWa5/Pl8lkksmk7Lh8nbSJFAwASCQSjuPU19czzh1AEOL3vvPp5t6DyIpPZ+tq1n35sb+6bnUT4xe0XjgcJr6pGmF2dtbn81VXV8uHtm3Pzs76/f5AICAN/I7jhMPhqqoqUkYqM71er1RwAJDNZhOJRHV1tVRwiCKft2dnww0NdfIhievc3FxdXZ3P56PBJZmX0i47ToLd0NAgh8yyrEwmI/W1lK5kMqlqYcnMVCpFHC5qKX0O6XTa5/Mlk0khRG1trToFwuGwx+NR+SaEiMVijLG6ujp1tZienqZpTh3xer1CiHg8bhgGzX3qkRAiGo36/f7q6mop1ZZlxeNxeoiFC22WZc3NzZGKkG5SehgMBlVVaNt2NBqtrq4mLQGagJVm7xAXp7FGxJ/85CcPPfSQqgehnGFY9kr9BQvZ2OUvbW1tlmXt2LFDzTOuNpMLl1xw5CdKCchms88888yDDz5YX19Pg3RR9t15jKaSwiJ2OI7T2dkZDod37dpFZmB6Xd3FiJJ8+mov1E9wzjOZzKFDh3bu3FlfX885l9OgyCNB6k/+osqxuswwxqampvr6+iR5andk39X2apvJiYnf+Z2PPPHEn4/7wp/+0ectuOjcwYC9+abX/PmbPsYMgxscxfkhW4Bv8r/yDDI4ODg0NPTQQw8RAaoU0VuO45imKbc2UlqIOcAYCueT///n9rY940Cx0Wfn5tu+8Pb/d1mgGuACVWoCFZVXUGLFo1k9Pj6+bds22vhL5atuSGluqyY2VSyVT9i5nHXwYPPOnbfL3Y3EiYoLW+7xVUVWNE2oZV9f3+jo6Ctf+UooEU75SpFgG4YhZ4racfr9+9///iOPPCKPBUUDhxf72bGcc0b2HRHHxsZGRkZ27dpFjJUCpnZEFDL+qzSTPlFRAUA+n3/++efvuOMO0tGqaFUyVd2A8cQTT5RiLDJbGoZByRvUlqWaSBW+sr9gIQ1JVVVVTU0NXJybnn5KyZB/KpVp9bu0XMjcEqUh+/O9XvYJfbSmpoYSpUC5LOEqSWXxFDWgPTLtLyQlpLOKelfEgdJP0M9AIECb7iLOF3FMFXH6PZVKnTh9+u1ve9uGlU2zyVBPaMAyBEMEYIzbG+u2PvHG328IVgMzClycl+1FvJX/pcGV0T+lxEiuqkumHDV0EBjMzIVPjByzBSKaHBCFzQSiwd9525vuuuZWjsAZh3JSV0pk6RB7vV7aZcwnWqU0Qzm5AgDGDI/HpJ0vtZedYiXkFXFDHWvZmHNeXV1N3CtScKU9KuKe+lfZxjTNlStXSvJKB650cEtbqr8Hg0F5tlORqL+U9lHlntrS4/E0NDTQ1JBtypIEWqGiyBVZM0zL52kv6SKk6yIouw67JA9KpMclNtDh/5Lrp1w5FyaP+Dw7O/uZz3xm165d27dv7+jouPXWW2+86UbGWDQZ+/npfXvO7e8fG3ByNb65ZauzO//m02+49tqVHAQ3fLBIP65K3pJLZzjCBiH6ZqY/8oW/mAn22EyYkEVmcuG/c/3Nn3n7J5rqVpvImKL1FkXhfBuKJYA81jEdQV1Fg+sSm0Ro27auHHFl98UuEeri3mLBeOKJJy7ZaL6VYcnALl7qXaIqXaB04XSJRz0hFq3eS6OKfqlQp8idNaUL9Hq9O3fulN6JgMe/ff31t629+WdfPhoI38OjTZjkIPjOuzaahsPYUrKelQrJYvvrMIc58NyzfWefYyzDTNNZ0bhifV3TG297ze+98j1ra1aZ3AS2FJVaJG8aBU/LpC3aK7lHSKC3WhBo3XlpR1g5VBTO43K6lgWNCOV2VTtOXYskKETqIumSg0J/DQaDr3rVq0BRu4jIOEcGPmGsqWnIzvZ5ajd6fNc5KI4cnXz4taGbrlvNOC52rwcu+niBMOSRaPrpp4fsOe5L3rTR2PHpjz64qq6+NlhjcoMzDgCCAeBSBkbavzQOqy5QjywaQTX5uUflfuW+rAgrh4qyDzDFXK0RNMqNLs1CoGv9UfmmfYWspKXcjNCWU/7kjHGgCw4GYLKxPuPzAADMxhL/9c0XLeEsOfXU0oZAyLInDv7Xt1umRjJoioBpvunhW29Yt7Gxqs5negzOGQPGwIClxCgTKyR58ry2ZNCr9bSDdjWqXUNdKZUHlWg9xlgul9P4SZmWQ9eSK6NhtSAsG/y5BJCh2hTd6n7ZkIYkvZkqELy37Vx+8431jDMQ0H42eax1WCw9pVWZyNtLAu1HhMChsXjzgbBlZ5mAZcvZA6/cYuUsGlYtegrLBX4vDYiq0sDaJWNjjFHwvHtsUCAvm81qFBWhr1oQ6JtoS4CK9npULUgXfYODg93d3bp0PCU1SSaTusjr7+8/e/asbdsuKaTXLcs6duxYIpHQYkgi74Ss2KKlywJY0O/94Id2NTQGObJMJvcf/9aSTFmLxc0K1YJaW1sXTRsiIuZy+X/6x9bo3BwIrAr6P/y7DzY2+FqOtMip656HyWSyt7dXVx0yKgWVSCTcoyKNTEHg7rFJnHv27NFVLQgRp6enT58+rUXqENFxnMOHD1+l1YIQUY3mdQ+BQKCqqkqXkuKcL1++XCN5wWCQLoG4XCTpeIuIhXo3bvsrz7Z649Q5OAzYhg21r7pvLXJmI06Mp/77e6fSmbRt59CplGwy03i93vr6ehnSWBEgMoG2I1pfHG5vn7AFR8O6+ZZVd+xYzZlRv6xa42FNCFFdXV25lWBBqpExVldXp+WuK0mLevfDPSDi6tWrNV7FpYsGurAxxvQqlkV8upLZmMvlyPGnxTJKK63GyBXVZOt+bsjAGoqndUMYFDpL1jSX/SVVQjdbTNOsMPPKvOQBArC5aOy+3ff+xnve+0cf+1h8zvrUn+wZGkw6mAr6+N996dHrr23gzOC8UpcXANAJiOKQK+4sOk5metb+gw8/HU5F0PY2NvAv/NNbm1ZXcw4CHUBeFHm+BKDoK9WT61JUKOpYb+SKxgwuRJhlWeo9JZcIaa7pqmpGkqzRy1w5VLTX05Wi6/wnOZf7IPfYVJnTxT5CqEX4DMOQdzxc9pcVahvKuw1aGMiZB5kDAHV1xrsev8HvtRnzJC3jn750KBpZdE5p0zRlFH6F5CFAMoVf//ej4bmk5XCD2295dPuq5SZjAgAYGGqs/+L7dx5kwGnRNQY3CEFr4IWuWC4CVhLArAWnrp0jdfaK5Vy5ZIvLpIm1J9UBTXYu2hG4x6a+LhWWS9rkWLCSGyNukAICZ8zr9d9914ZXPHQNMBDc6e6a+9lPz2SzWeEIRBCVVdWQR9FLDi4iIFoo0Mrbh5oHmw9OOsxmaN5w44rXvG673xvgnANcqI+hZc0ovcawZNAbL6WOrHtsEq6UWqkEpJPqpf90pXpH185CBb2RKxqdwkWbgqVB0aDqZSBqyr8PAACCsfMJ9QKBwK8/fvOq5dUmeoTAp5/qOncu6aAt0KpQ66nhhJegEBEFy9vJsdHE9/7rXDqXYwB11ey9H7yjvj4AgFI49eoX0CR4MjBIl3Vf+/YCtd5gvVJRJpcDKjrhZjIZ9z5NCTK3nS5zQyaToQmmRf4sy6LqSO43F0RSLpcja5dLPUUkURJAN3jmAwZgcLF2dfXv/O5dfpMxxsJR+0tfOjA+kUR0KiwllM/nM5kM/b7wsoFCAPBECv/hH/ePjs8Boo97Hn30+u3b600TBZ63IqXTaV0OXACwbTufz0uF5QYVWWnk4LoEwuY4juSeSyDppXw2WhBSYE1pIsUlY3McJ5vNXr17vSeffDKdTuv6ZF9fX3t7u67dSi6X27dvH0WuaJkYlFDPvaxgIbHEoUOHKHLF5eaRXp+enn7xxRdd0lYeGDDGfR7vrl0bH3hws2Ewh9mj43P/8pUDiYQwzhOPME8EM223Jycnjxw5sqCJ6jwGxiGby3z32yc7OxMCwOC+G28OvuvxHUFvDTAEMGmaNTc3p9NpLcF6AJBIJDo7O7VUDqPQv+bm5mQy6RIVFCI5hoaGjh075h6bxPnUU09pjFyh3H+6sDmO88ILL0QiES0IFwUV3cMFgOXLl+tyBgGAzNygBSEFr+i6ZQ0AFECgyybCOaccai77i4W732qiQ3ddZrls9utf//ott9xy7657DcNkjDPGDdPYcfPa1tbBWFQwx54OZex87vbbmxBsBEThMFbepEgP/X5/Q0OD+uSiXoADiIDCFvYzewa++53TeZsbYKxeaX7miTcsa6zmnDMw6D2yxFFuRJfcY4WbAB6Ph3KulCVvscA5r6+vd+/WlMZQlXvucQohVq1apcXrSvz3+/2U0s09kKW7sbFRr7O0Eri0VaIoCZr7T0oHny57vNwI6CJPy4VN1c0qM5G5QSgPehKzG4QycuUV99//+OOPf/TjH/Mowmc7uc6u0Of+vHkilGLgVPuD7/3QLW95yw2MGYwJzk1WUk4IS1LmlSUPhQAmHBSHDk18+R/2x6PcEVZDnfd3/2D3K1+1xjCC8v6vPA2QnLjcy5eVc5cIF+jmkhHqxaZxlql3K3UhLHUxvTRw6e8RTRpdrnTW0xK4qyLUtdFjhcRw7lHJDtK2UZehUFUrrmksD4bh3b5t1fs/eEcw6LEdkc5b3/7W8dbmYcexGZPfvei0yxhDFDBPRs8LzYDZmOvsSv7zPx+MzQkHrWCAvfHRzQ88tNFAn6ryoCB1i4qDmQ+KFIqWqSsvOLvEI0nSjk1jNJzsrEaEGrEt7tOXbCF3K7qchrSGLy58/1JACHV508C156EsTo39Xay4iAIQ8y/NKETOvffdd8373ntTbV3QcXgyBZ//4gt7n+228g4KAQJQCFR8HIiIgIIJwVAwdFCIwkcQUEBeCAeFsJ1c+5no3/zVU7ORnI3CY/DXvva6d7zjTq/HBONCLBhTkktzJef2kkG6C2RYkhbTnkZjvEYZBs1efv0ItaxkS4ZK4/X0amW92LCQSE4XTo0aWT0HuUclt3tLeBeUymEIl0BBuzZ/wPOa19/0utdtraoC2xbJJHztX0//7KddqbTtYA7AAUdNNW4DMAQDwGDIOQDDQuUzAEADwcnkrcNHJv7u8wfGxywU6OWe+x9Y/c737Kip8QOwotRW8mCraziKjAxXZJcxH2g820pgulMlXQ6OXb17vVgspjE7QjabJa+cliFxHCcWi+lyzwNANptNpVK6cksgosTm/oRLni/i3mL3eoh46tSp/fv3M0YZmy5FOAgArA563vu+21/92q1eHwqHxb5OelsAACAASURBVBPOf37zxe9+70w4lnVEHhj1CAEgY+en4lO9oe6B2Z6Z5JQl8gwLH0FwbCcWt5/dO/APXzwwFko4mDcZ7t7d9Lt/8IrlDcHCJ1H5/Pn7fIlEQoYluWEgsYtCQ3RJMpGnK0sKIlL9IC3YCGE0GtUoyblcTmMsh17uLQoqMtXt27dPY2TN8PBwb2+vFlQAYFnWwYMHSRFoQTg0NNTW1qZlawaFcnmpVAo0OVump6fb2trUT1QCpmGOjo5+6k8+dfLkyaK38PyxF2WSOyEEAAdkjDHDYMGA8f733/mOt+7wmKYNc3Np/v0ftP31X+4bG7fylm3btsBcNpv80emf/963/veHvvGpD/77J3//u//72d4jWUcgOmg7lu3MhjP/8k9H/+2rLdF4BtDj8+MrX3ntH/zR7ob6KsbPbxhVnksVf+zYMamn3Dsfkslkf39/aR3YJeN88cUXdUXYOY4zMTFx6tQpLdiog88884wuNYqIs7OzJ0+e1IINAIQQR44c0RVYsyioKHKFvOm6IlcMw6iurpYVb11iQ0Typusy3HLOqfaulhMHYywYDFZXV1P0gHuEHo+HqgBLy8Ol30F0bPuHP/ihx2PW1NRQjStgQJErX/va12695ZZdu3epqDg3ZPdRgMdkN9yw0uOzB7pty7Zsh4WmMs2HOgCNtasabJb72sGv/dvzP5hMzeasbN7KhzIzp7tPL69v3NTQlEjm97/Q/6Uv7j9zejpvOwhG0G/+2kNbP/yRu5c1BGHBxUAI4fV6ZZlE96Y9APD7/cFgcBHcmwdou+31euXgugRyo1VVVWlMu+L3+2UhLZdARqTq6mope+6BQsR0pTOoHFip0aRoXZXWXygR0LLnrEs+lMtsWaf1EnAW5Suu5PX59g5FhyxeUppysd1UP6T+aQkI5UhJN27Z0oWlIIR4+smnli9fvu+5fR6v9+Mf/zjnnHEmI1fe+c53/q+Pfczj9VBjyiBwnngEBEAUjDu2Dfv3D/znfxyfmokx5hGCcYOtXea9+aG6H4S/lnISpgAGwADyzELAtb7VH9j4hwefHxkatCxbMACGWFPj+fXHbnzrW28MBPyI894/lQNRmgO9tGXlzFQxoBIAVLblwh9aoKqUy3lRinAJOKX4yXvlFRJZtqXaXuVe5a8vgHMJ88IlGL/zO78jlz76RjgczmQygUBAnW8zMzOWZRXV4p2YmLAsS7akuTc1NYWIXq9XfX1qaoqKQ8uv2LY9MTFhmiZtIeV5cHp62jAMqgZPjbPZ7MzMjMfjUdMNUTFszrm6h8pkMlT+WQ0wTqfTMzMzwWBQ1RHRaDQajVZVVakPU6lUKBSi0tHy63NzczMzM7IaHhQMnfF4XAa7UuPZ2dlMJuP3+0GRjHA4nE6nqbCxxDk5OZnL5ah0tJx4oVDIsixZfZzaT05OSm4QTtu2JycnhRDqWITD4Y6Ojunp6ZmZmekCzM7O5nI5xlgqlTpz+szDDz/ScrTFsq3NWzYbhuHz+Wiv9x//8R/h2dkzZ8/u3bt3zzPPnDx5cvfu3YZhZDKZUCgUDPo4Z5wZjIHB+IqVvGl91VyMT08nbeQOY4mMdXb6XKKhjzPgCDYHATYHkzNPKpPr3GvGp/0AjsMMzpx1Tc773nvzo4/uNEzOmUnkh8PhZDIpmUkdj0Qi0Wi0KJPgzMxMOp1WJRMApqen8/m8yg0pb6oQOo4zNjZG4irfdRwnFAoViSvVvS5qmc1mSTJlSC3Zuaanpz0ej4yQR0RqSeXYpQKyLGtqasrj8ZC40vhmMpnp6elAICCz1NDDmZkZSmMnccZisUgkUvQwkUhEIpEiwY7H47FYjIqaS3mLRCKJRKJompfyDRFnZmay2WzRQ+IbPcRChEOpQiBmkmTKWDya0XQgg4IKsywrFAqpgs0Yy+VyMzMztH2WbCe+UUuNuo/39/erXgUhxMDAwOjoqLryCCH6+/vHxsbUbZrjOO3t7YODg+oSmsvlOjs7p6enL1RCAHAcp6+vb2pqSij1szOZTE9Pz+zsrPr1VCrV1dWlXvFBxEwm097eTuYJ2fN8Pt/V1UWl2uWoR6PRjo4OeS1XPmxvby+6uzoxMdHV1aUaeknFdHR00ENC6zjO5ORkZ2en6i0RQoyNjfX09Kgddxynv79/eHgYC0Ath4aGBgYGhFKQWwjR1dU1ODgoXRwkHAMDAxMTE3DxXri7u5uERl0Y2traZmdn1e5EIpHW1taenp7R0dGxAoyMjJw+fXp4ePgv//IvX/u61yGgEE4qkWw72xaLx+XomqY5MTl5pLn5SPPhI0eOnDx5kpQ+MdOyHM5NxhljJgKLRhK53OTH/vjOj3/8ofVNfi9Hbhs5luccGaDgyAFNw4PoMHA4RzS8CAKYb0U9f//7b/2jP7rfH0gjCs4M8oGQMWtwcFAKDHVzYmKiu7ubDHDEOhLCoaGhIicYSaYa8+E4Tnd3NzFTguM4XV1d9FAKYTab7erqCofDast8Pt/d3T01NaXKRjqdbmtri0aj8iHJMMmbOmqpVKq7u1sm9yb6U6lUZ2dnLBaTHSRd1tnZKW+2ElWxWEwKoYTx8fGenp6iu/CTk5Pd3d1qOQFEnJiY6OjokJXRSWxGR0fJmqnKcF9fH/FNZVFfX5/KYdqdtLe39/f3qwrBsqyenh5SCLJHtm339/fPzMzQ9pyQZLPZjo6OUCgkh5JmdHd3dzqdZoWwJCEEsT0ajaofyufzxDfQCiyXy5mmqS4XlmUxxtQLXrSsUWY39VBpWZbMHweFiB7KtiiTytHPXC4n92WS75TokXASQqovQfRIcXcch1rKOsrUUn5I7oOoJR3QJPGU7MDr9aobQIrh8Hq9asepBoKsSSxVtrpLlZQDgFx/aOBJquRiLpOAyk2HzAOazWYBgHBKuSHKi+4hENupvj29SzfeiXJJPKUkkPHkKp179+79wt///Yb1G2zbHhkZQcQHHnrwT//sT2tqahljc9HYfffd9/rXv/6DH/wgNwwE9Pl869atI6m1bdvj8ahfoW4aBrOcdCzmdHXEf/Ddw13xvolt+43CbQ3GmHAcxpjpBBrOPLyufvm733HPbbevaWj0e71g28LnO7/sy7FgSmQ4/STXntzIE0MocQANuhwO2s9WIsPEInVfRn2UJ3rZTdIaUlxpZC3LMk1T2sjk6zQvoKDgSAjl66wQfEOThR6S6FJchGEYatAVDSXJhnxOONUNqRTsorMFybAULfoTMXMJLKK1hDouI8alJCCiPKjRT9LgcrIQN+hDRDx1nO5BU8eLWkp9IgkgDmuMSwOy6+E8FiL5menp6fr6+iKuXUBRzjAhn8ttDn2I1j1EpBONmsyuFI960sSLTQDyIUWuUJZ2VrgRpVqCZI/Ud9VtWtET2lSSybaUFRJh0SeKuiBBCEFnYa/XK01UastSu1URHmqgrh/ZbJbu4ZblvIrZcZzh4eFTp06Rce7Jp55iAO97//vv3b3L4/UwyqV8//3vfve7Pv6JTxRNAPm7irAwuxwAZIi2w+JzmYGh8S+d+MrZUIctHAAEBET0mt77tu9+15r3XXNt4/K6oMcDACYy5MAockD2qOinygrHcaLRKMkeu9hWpfKn7BiVEg8FneL3+6Xhskg2ysp/KTYoBBXPzc1VVVX5fL4i4S87IuqfipBT77LZbDabpYuupeNbSuoC+KFwYqUs7Wx+Q7C6cpftuHyeyWQsy5LOFlQM35ISdZ84n9UeC+fcRCJRXV0tuady5pLddAO8SEewQriv+tXm5mbanqjNJJR9KJ9LJU1LNOd8fHx8cHAQLr66JD/KCpUM5U1YtUER9Ywx27YPHz5Mu2UAUBeQoh6Vpb/0ycTExNmzZ2Wa+6JmEmEpNrUL8hXHcU6cOEFRTkV9IZArW9m/qg2IXbFYrKurS5WS+YaDNtdbtmx529ve9pa3vOWtb3/b1mu3Xrft+vvuv8+jOPU4gME4UzpbRIOKsPBXk3MPM7ymx2xoqLr91q1PvPajd6y7JeCr8pjMb7KGmmWPbH3oL9740d27Nq9dWe/zeTn3cs4NZjJmqJ8o/SmBlrRTp07lcjlVPRUxf74xKiUeANLpdF9fn9xfsxLZYCXyXxYbgRCCyIMS4ecKlP1T0X8J4cTERHt7u2xQVsAuSZXkHgC88MILqVRKsneBbi7QcXn+iMVi586dU5+XUiJ7XSrYTBlo4v+LL75I5qxSzlyym26gIpf23XffXeTHcANNTU0a68t5PJ577rknGAyW3WotAZqamlatWsV0XHcnsdi5cyeR5542xlhDQ4Pf75dLQiWvMMYc5jDG6urq9J4UCD83zU1rN/6fd3z65ET32ZEOj8nuvva27Su21njcVjXinN922210nHfPQET0+/2bN28u3YMsDRvnfMeOHVpShlDvVq9erSujCXF+165d5EnTgrC+vn7btm1asAGAbdt33nmnxvJDlcOlc67ITSno22TKaHst2Zz07oFRyR3iUuupCN1TKHcoqimzQigK7kFE4IzNn3OlcpIkYYxzEIgMQDgMmOCMcW7AEvtLOEEx6oEm7slhdSktZS0nbrDBPKdClzh1zVntJ0295C0KKg1f1Esc11QgjcD9vqwItOzLJJQ1hi4BZAeXgKfICsk5FygufS2tApKUmY/AARCY4UEGHNDN6GpRTEVALpoiU5Qb0Lgb0C7DEu1ViAoutma+9Irv0lrvMtGk/ZylF5UWOb7kkyXg1EWYLo4peAht4bel7vJKMWshVVqddOHUrpevZpWnHfQO7mLhpc7n9zK8DC/Dy3BloSKtpzFzAwBkMhm9mRv05lxJp9OpVEpXih5KLKGRe7ZtaynUoB2wcLVA431yx3Hi8bjGdEl6c65Q5Iqu4k2ImMvl9N7Gj0QiGmUvl8tRHg0tQNy7enOu7N+/X2NSk9HR0d7eXmmudgmWZR04cIBiAN1jA4Dh4eEzZ85o8RhS7EVLS0sikXDfXwoQi0QiZ8+eVa++XD1AAWLHjx/Xkh0TL8654hIhYUgkEr29vTLI1j15x48f11jVbGxs7PTp01qw0RDs3btX1xqJiOFwWBd5AGBZVktLi/Z7F5XApe16iHjrrbdqzIuwfPlyWaTK/aneNM0bb7zR6/XqQrhixYq6ujqYJ+q4cpCW2m3btqlXO1wirK6u3rRp0xWxAS8MRFLd/23vamLjuJJzv/nh/M9whj8iZYNeCRRtwIgFGbGdVQAj2RyCBewkJwMG9s8++uDDBjBsA05iOMhlN/Btc8n6EO9Fh909bAD74pNNWxJFcmZoyiRFck2aJilq+DPDmeHM9M/LoTS1xddNesR+XEmZ+g4E+dhdXa+qXvX7qa7KZEZHR2mLH5pCiLGxMY3VZMLh8NmzZ3WF7wghRkdHdUWuCCE0ls4Ba3n66afh4w0tSCaT586d00IK+vv4449D7qU/MzqqYSyld+j8yeAZTO+ToKFvdxm7qaW/GDDReYTdd1IDXUh/hWCOrxZ0Mt6EEDCNonkiTgycMOoKbxLtL6L882boHhRI09A6LjTG92oPNNEeCtM57iHxli7mNEYknQZB7UeHeo/5TiOkQwtE+9sYXQRPQ60a2TsNRWiP1NFI7f/TEXNHcnkAxxiDwWCcDBy5wmAwugsdVQva3NzELGD+Ua1WNYYj2La9ubkJSXu0cAjJGv2fQgI/lmWVSiWoOuKzy0Cw2WxqYU87gD3I4Yq7mT5pQlJJOPvyTw2SuFUqFfwg0g81OMMF5fpkDNmrVqtKsr8TAyQGCUF1EazX60r+Oz8wTfPOnTu64n7uCR3N9cbHxzVWC1pbW4NcpFr0YZrmtWvXNEbYra2tffXVV3jK7BOWZU1NTWHOFT+k4Pbd3d35+XloeaAcHzjiUqlUKBSMdvo5nwRt2y4UClpCQ9ApYwZT/wQtyyoUCpBzxSegs5ubm7Ozs/6pIc1PP/1UY+TKzs6OLvbAPCYnJ+9LtaCOsg+USqVMJqMriTOkmdVVjgdSsGUyGcjs6J9grVYzTTOVSvmMb5DtdMqYX88ne+BELMuq1+upVMrnxvxpnOEahlGv11utVm9vr/T9Zb5sJ0/MZrP+D17B69m23Ww2Ieu6z+NXCJ/c399H5fqBbMd4N5vNbDbrk5rRPsC9fft2X1+flrAzKWWj0Wi1WhDX5R+tVqtarSaTSY2RSR2iozPc/v5+/NDaPzBCR4sPDQaDfX19GgkmEgmNZaeDwaAWIzbaH8+Hw2FIKXpPg5aGWdzVo+4DKqAcj8chtZH/VxpIr6+vDwOJ/HNIkyH7Zy8QCPT29mr8TDgWi9FiHf4JQs40LQQNw4hGo7qi/6SU4XA4l8vdl/XKPWQfOIXv1fVAO0EtR/6n8X21khiy8xuxkAIGrOll7M9AUMv+gEbojUlCmg8gqdMgeH+zD2golMl4KNBqtcD3BYPBcE84IPj4ntGl6MjrPYDfP1E84Oxpx732F07h33nnHShc+cYbbzzxxBMPi9AeFj51QfvHHl0lvQ4RUuTi+ZnI6urqmTNnlIpi+F/37diiLNqFEJBowbbtbDZLZ7n0RuV3cUTuRvgX1NUdGhrCLVvpVcrneD7pZeVyudVq9ff34wXu5x5F0N13iFzJZrNQIwr3+PHbMnoXJaJ0HEM3Go1GtVodGBg4Ss7YiB/qmab5n7/45T/9wz/G4vF4In7+/HnDMAzI3WsYhmHYjmNIQzqOdC0qOxw2sl0Trlar1Wq1wcFBpTCN0V4SdthxaITCqUNDQyFS6OM71eFpLcBeq9Wq1+uQSd9Tj8YRn5q5acKpKygXi71SOqKdkds4rEG32SMqlcrBwcHQ0JDnOFK4Ot4O4ZfV1dXh4WH3SdoxA8pwQbbzPNfr9Xq9Pjg4eJTMsUX58o/yj7/A0MjlclAt6Phhrtd9e5fgUfRx7do15XheEFD+DC8FU9EIITY2NlZXVw2XhkS7hh42HjM8sMU0Tch7gUTcu3LuLRjPFviplMo9Sj5H2ZAygG3bLhaLELkiD9eUQiK0457dpKIol8tQipeGX3iqA/60bXu7VDJNc3Bw8NlnnnnuueegOvVdCdv23YLNhiHlnz59xcd5jigKRezb29szMzNAB6viIZSxoWjccJmE4zgzMzM0aqoTdbiVi886ODhYWVnB2qxHEXR33PMyYA/TplFOFD+F/FNfoATQQMHsubm5Drk6xg4Rn332Wa1WO0og39mChgfY3d3FSlX0iYr9y8NFDtAbKL4PI1fcw9yNo9pPhkPb28iiJBUtpJRQdx1KVdLeKmUYaSMVNGoXrmw0Go7j4FkVdQQwBmgtXaNdfNNduQ3rq0N9OaCDt2OPcOwp5QTl4a/3YexB3VLLsiCwBh9E5xqeIkIKaNayPder1+vRaJRWDoVsgMgnVs6FGlHYcYiNEKRIFbwhG40GxF5QyXuKHTBTnPmvX/3q1q1bIyMj//Jv/zoyMpLP5+v1+sWLF4Ujn3/++b//4Q9/9tOf7pXLy39cfvbZZy9cuACUbdumwsSOKzE94Nzhlmaz2Wq1UqmUIiLKp7vjQghlnECj4zi1Wg2VS60IGaDV7PBBcLthHKoOLNvlYqHcEnZHsQ3sjqdh00bbtmu1WiQSgZw61JehIkR7xkdp/umtQ16EQggIDUkkEkr6Bnm3DHFQknUMKFe5kj5dSrm3twcj123t0pXZAd9AeCXtuGEYrVbLNM1kMkmt/ahhjkMA9WsQDwgXw5YLTEWPH+aejvvECL744ot0PeI4zuzsbKlUGhgYwMeEw+FCoVCr1XK5HO3kF198sb+/D3Et0Gia5sTEhOM46XSa2uXExESr1YJVLUQP1Ov1q1ev9vT0pFIpdAf7+/vT09PxeBx9opSyXC5PTU2l02lap+3g4GBiYiIajSYSCTBiIcTW1laxWIR0PXjl1tZWPp+nqyQp5dLS0tzcnNK4trZWKBRGRkZisRha8MrKyuzs7KOPPkpFtLi4uLy8fPbsWaqeL7/8slQq9fX1USd18+bN7e3t4eFhOgauX7++t7c3MDAQIIVup6ena7UajYQAuQWDQSjOC7e3Wq0bN24IIWhJ3NnZ2StXrszOzt68eXNmZqZYLBaLReAnEomcP3/+B3/3g+9//6+mp/MfffRRIpnI5nIf/PrXv/nww2+/WSsWin9cXv7444//8L9/GB8fn5ycfOmllwKBwJ07d6anp5XV5cbGRrFYzGaztIT51tbW5OTk8PBwOBwOhUJgxN9+++3MzAykdcKBvbS0dOvWLagyjta/sLCwvr4O0kARLS0tLSwsjIyMoHKFEPl8vlQq9ff308GWz+crlQoGuIDcrl69alkW3UWxbXt8fLxarcLTobHRaExOTjqOA8KERsuyJicnTdOkIUeVSuX69euxWAzGPGB/fx+kQS1zd3d3amoqk8lgkIcQolKp3LhxI5lMommB3AqFQn9/P74RQ6HQ3t5eoVAAJvHKhYWFxcVFpXFlZWVubm54eJg2gtweeeQRaInH40KIubm51dXVwcFB9HGO4+Tz+XK5TOUmpczn87u7uyBhlNvnn39eLpcHBwfD4TAo17IsMNdcLofSME1zamrKsiwI6IMe1ev1iYkJwzCohKvV6vT0dCKR6O3tRZaq1Wo+nw+FQmjtMMyvX78ej8dxFqIFwXfffTeRSNA3WDAYTKVSIC/kHrjBRjDZUCjU29tLFQlXgoeiNKFReSVGo9FUKoXBz/Ag8IO0bryUMhaLJRIJbITbI5EIBIjiqJBSxuPxZDJJC1obhgG3K3PAZDKZTCapHQghotEoaAIJBoPBaDRKdQZTv0QiAf4a+xgIBJLJJI2+RmFiyXO8MpPJgNwkWWqlUikU5l31BIPpdBqcOJINh8OKhHt6evr7+8fGxkZHR8+18dhjj2Wz2XQ6DVFgZ86cGRsb+/3vfnf5ry8/+eSTQ2eGfvM/HxYKBdu2TbNl2falS08/dfGp0dHRy5cvw7MikQgIk4ooHo+n02llow1ERJ1RIBCIxWL05Qcdj8fjVG4glkQi4TbrZDIJVyJAwjDPpRdDHxW5ZTKZSCSiGHYul6OGDfGPygsVzBUDD9GwY7FYKpXCVInYiHG2SAEMG40QBks0Gk0mk+FwmGocRETna4FAIBKJgNyQYDAYhKcbh9d6oAtqbyBMmB1joxACLJNKIxAIKFYEM8dEIgESpldms1m4HYdkKBSiXsJoh+Alk0ka02fbNogoGo3SKXBPT487PhlGdCQSoTThSl2fSAAE3U4yXHvP2KhM73F16XluQOfY+Ce9TJC9Kqobeq9Bptby8LYIZVXhE9YRSqNnj4zDBgR9VIq3HSMN9yoPf1F2ynHfCtcjlAF3xykpSXZV8Fk0iBrvddrVv+iVGKYHdFqt1j///OevvPLKxUuXmo3Gf7z377//7W9ty7Yd58LjY//9wQfDZ4exC8bhNZ0kWzPuQy1Fa7h+pF3Dn7TjiiXQu6g86eMUq3NvVtCOu1VM13SoGsWuFP3KNpT1oEEAiqZzWPpobKeiUJROx4XbDhUhH6V0d48on4r9u7upLCcdr1SYVOm0a8iAe/QptkH5oRp3D0A3BS3wqJKnmItsb7K4taicG7gt2Gi/zKFF2Synax8ULtUfUguQkunuJzqk2Ksyy/PsEfZLMQhlO4N2VnE6sFHilibIRDmXEO2dHTpm8LWJP+nAwGuCwSB6EIVnxTvQxTICHl2tVk3ThE2oTDrzve+dEwERi8Zee+21aDwuDRnuCb/11ltY+xy7STvuVhAViKILqjWqXEqBWgiah0EGGPbFLWdFO+6P83C2rjDpVrrnWFI0jjSVFklObOhPQeYH+LsyKOjTKRHplYDW7XrgTzdLoj1hxF5T4zm+m8g8NlKjMrzMD40Wb8T9O9p9vCxw+ENAOAdHssC24lUMYiq6EBCHt3I9HcT8/Lw754qbOWhEUbrpwBgulUobGxvYVeoW6V045pExw2UKQgjbtufm5mgJGOW5nj2iPo42GoZRKpW+/vprPOZzdxP06vb4eDFQdtqfzS4uLsIppGJVgnhzKlJlrootwFKlUlldXVVcHn268ohyufzqq6++//77n3zyyZUrV370kx9nc1khDUMY/WcGn//bv3GCgUvP/OWTT/2FCNy1WnAZbsfhliQaOpr1zs7O8vIyWjPtjhuKcumVhmHYtm1Z1tLSEhx/oU/0NDzhclKeyj04ONjc3KSvSTfBo6zFTd+27eXlZQhvUIQj2qNduIaAoiBBXg/b29srKytHWay70c0tsgoqmJmZaTabipkdRc2TYTQqqNwE0ReCDJ9j6NCnYAsluLi4eHBwAPZzfAc9lX5idERrcXGx2Wy6GToZ9vb2dnZ2dDlvsDyNmaZ2dnZu377t6Kt3880335im6V9tYBmNRmNzcxPpfycD6XT6zTff7O3trdVqL7/88oULF/Bf4XD47bffHhgYeOGFF+gm/ckA8q/X62tra2CpfgQo2vMIfAMZvsMXgMPt7W1HU6YpKeXa2pquTFNQTm99fV0LNXA98/PzutgLBALVanV9fV2LH5BSWpa1srJyXzJNdWSakBLKc/F4Ati2jbEg/glKKZvNJu73a2HPtu1QKOTTT2HwBO50+CSIMxSMgTi+v3StirEy0rX/8N57773++uvpdNrwl2BdkhBC+kr3SRB0YbR3D05MENdoQFCL4cHQpRFdPgnC0NBVfgjY82/JANCF537CydiDqYDwWqefNjQvmBkPF6SUe3t7eFCrazrPOBmUjQvGKYG9HuPQ3vP95YTB0AV5dF7bkMZi5oyHF1o2zhiMBwdw/OL5L6ErrT6DwWA8FOAVLoPB6C5wakkGg9FdYK/HYDC6C+z1GAxGd4G9HoPB6C6w12MwGN0F9noMBqO7wF6PwWB0F9jrMRiM7gJ7PQaD0V1gr8dgMLoL7PUYDEZ3gb0eg8HoLrDXYzAY3QX2egwGo7vAXo/BYHQX4ytBZAAAAGNJREFU2OsxGIzuAns9BoPRXWCvx2Awugvs9RgMRneBvR6DwegusNdjMBjdBfZ6DAaju8Bej8FgdBfY6zEYjO4Cez0Gg9FdYK/HYDC6C+z1GAxGd4G9HoPB6C6w12MwGN2F/wOJLcKNTR0StAAAAABJRU5ErkJggg==)"
   ]
  },
  {
   "cell_type": "markdown",
   "metadata": {
    "id": "2VhuH7zIP05H"
   },
   "source": [
    "Gradient descent is an iterative algorithm, that starts from a random point on a function and travels down its slope in steps until it reaches the lowest point of that function.\n",
    "The steps of the algorithm are\n",
    "* Find the slope of the objective function with respect to each parameter/feature. In other words, compute the gradient of the function. In Neuron Networks, the objective function is L(w,b). Note, w denotes the weight. b denotes bias. L denotes loss function. \n",
    "* Pick a random initial value for the parameters (w and b)\n",
    "* Update the gradient function by plugging in the parameter values.\n",
    "Calculate the step sizes for each feature as : step size = gradient * learning rate. Gradient is the partial derivative of L(w,b) with regards to w or b. Learning rate is a value between 0 and 1.\n",
    "* Calculate the new parameters as : new params = old params -step size\n",
    "* Repeat steps 3 to 5 until gradient is almost 0."
   ]
  },
  {
   "cell_type": "markdown",
   "metadata": {
    "id": "UIz2F9oERpwO"
   },
   "source": [
    "https://towardsdatascience.com/stochastic-gradient-descent-clearly-explained-53d239905d31"
   ]
  }
 ],
 "metadata": {
  "colab": {
   "name": "BAX452_Assignment8.ipynb",
   "provenance": []
  },
  "kernelspec": {
   "display_name": "Python 3",
   "language": "python",
   "name": "python3"
  },
  "language_info": {
   "codemirror_mode": {
    "name": "ipython",
    "version": 3
   },
   "file_extension": ".py",
   "mimetype": "text/x-python",
   "name": "python",
   "nbconvert_exporter": "python",
   "pygments_lexer": "ipython3",
   "version": "3.8.3"
  }
 },
 "nbformat": 4,
 "nbformat_minor": 1
}
